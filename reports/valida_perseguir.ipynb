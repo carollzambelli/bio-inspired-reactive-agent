{
 "cells": [
  {
   "cell_type": "code",
   "execution_count": 8,
   "metadata": {},
   "outputs": [],
   "source": [
    "import pandas as pd\n",
    "import numpy as np"
   ]
  },
  {
   "cell_type": "code",
   "execution_count": 9,
   "metadata": {},
   "outputs": [],
   "source": [
    "def prepara(env) :\n",
    "    agents = ['visaoA_1', 'visaoA_2', 'visaoA_3', 'visaoA_4', 'visaoB_1', 'visaoB_2', 'visaoB_3', 'visaoB_4', 'SNN_4']\n",
    "    df = pd.DataFrame()\n",
    "    for agent in agents:\n",
    "        path = '../../results/' + env + '/' + agent +'.txt'\n",
    "        tmp = pd.read_csv(path, sep = \";\")\n",
    "        tmp.drop(columns=tmp.columns[0], axis=1, inplace=True)\n",
    "        tmp.columns = [\"env\", \"config\", \"exp\", \"energy\", \"died_1\", \"died_2\", \"died_3\", \"died_4\", \"perseguir_1\", \"perseguir_2\",\\\n",
    "            \"perseguir_3\", \"perseguir_4\", \"current\", \"next_state\", \"next_move\"]\n",
    "        lista= list(tmp[tmp['next_state'] == 'i_gl']['exp'])\n",
    "        tmp = tmp[~tmp['exp'].isin(lista)]\n",
    "        return tmp"
   ]
  },
  {
   "cell_type": "code",
   "execution_count": 11,
   "metadata": {},
   "outputs": [
    {
     "name": "stdout",
     "output_type": "stream",
     "text": [
      "------------ 8x8 ------------\n",
      "0\n",
      "0\n",
      "0\n",
      "0\n",
      "------------ 10x10 ------------\n",
      "0\n",
      "0\n",
      "0\n",
      "0\n",
      "------------ 16x16 ------------\n",
      "0\n",
      "0\n",
      "0\n",
      "0\n"
     ]
    }
   ],
   "source": [
    "for env in ['8x8', '10x10', '16x16']:\n",
    "    df = prepara(env)\n",
    "    tmp = df[(df['perseguir_1'] >= 1) | (df['perseguir_2'] >= 1) | (df['perseguir_3'] >= 1) | (df['perseguir_4'] >= 1)]\n",
    "    tmp['next_move'] = tmp['next_move'] + 1\n",
    "    tmp1 = pd.DataFrame()\n",
    "    print('------------',env,'------------')\n",
    "    for j in range(1,5):\n",
    "        x = tmp[(tmp['perseguir_'+str(j)] == 1) & (tmp['died_'+str(j)] != 1)]\n",
    "        tmp1 = pd.concat([tmp1,x[(x['next_move'] == j) & (x['perseguir_'+str(j)] == 0 )] ])\n",
    "        print(len(tmp1))"
   ]
  }
 ],
 "metadata": {
  "kernelspec": {
   "display_name": "Python 3.8.13 ('base')",
   "language": "python",
   "name": "python3"
  },
  "language_info": {
   "codemirror_mode": {
    "name": "ipython",
    "version": 3
   },
   "file_extension": ".py",
   "mimetype": "text/x-python",
   "name": "python",
   "nbconvert_exporter": "python",
   "pygments_lexer": "ipython3",
   "version": "3.8.13"
  },
  "orig_nbformat": 4,
  "vscode": {
   "interpreter": {
    "hash": "045dbbfee8521652668a5853801955dab1b7201bb4d6ea1110fb259a44495ff8"
   }
  }
 },
 "nbformat": 4,
 "nbformat_minor": 2
}
