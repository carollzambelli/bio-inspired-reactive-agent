{
 "cells": [
  {
   "cell_type": "code",
   "execution_count": 1,
   "metadata": {},
   "outputs": [],
   "source": [
    "import pandas as pd\n",
    "import numpy as np"
   ]
  },
  {
   "cell_type": "code",
   "execution_count": 2,
   "metadata": {},
   "outputs": [],
   "source": [
    "def resultados(df, agent, env):\n",
    "    energy = {\n",
    "        \"4x4\": 20,\n",
    "        \"5x5\": 25,\n",
    "        \"8x8\": 65,\n",
    "        \"10x10\": 100,\n",
    "        \"16x16\": 200\n",
    "        }\n",
    "    if (env == '16x16') & (agent == 'SNN_4'):\n",
    "        finish = round(df['goal'].sum()/45, 2) \n",
    "    else:\n",
    "        finish = round(df['goal'].sum()/50, 2) \n",
    "    energy_mean = energy[env] - np.mean(df[df['goal']==1]['energy'])\n",
    "    return finish, energy_mean\n"
   ]
  },
  {
   "cell_type": "code",
   "execution_count": 3,
   "metadata": {},
   "outputs": [],
   "source": [
    "agents = ['visaoA_1', 'visaoA_2', 'visaoA_3', 'visaoA_4', 'visaoB_1', 'visaoB_2', 'visaoB_3', 'visaoB_4', 'SNN_4']"
   ]
  },
  {
   "cell_type": "code",
   "execution_count": 11,
   "metadata": {},
   "outputs": [
    {
     "name": "stdout",
     "output_type": "stream",
     "text": [
      "     agente  finalizacoes  energia\n",
      "0  visaoA_1          0.54    31.37\n",
      "1  visaoA_2          0.66    34.58\n",
      "2  visaoA_3          0.94    25.17\n",
      "3  visaoA_4          0.94    22.23\n",
      "4  visaoB_1          0.82    28.90\n",
      "5  visaoB_2          0.94    24.91\n",
      "6  visaoB_3          1.00    21.00\n",
      "7  visaoB_4          1.00    15.92\n",
      "8     SNN_4          1.00    14.88\n",
      "     agente  finalizacoes  energia\n",
      "0  visaoA_1          0.50    56.44\n",
      "1  visaoA_2          0.56    60.93\n",
      "2  visaoA_3          0.84    47.24\n",
      "3  visaoA_4          0.92    50.83\n",
      "4  visaoB_1          0.70    40.60\n",
      "5  visaoB_2          0.88    42.95\n",
      "6  visaoB_3          0.98    33.29\n",
      "7  visaoB_4          1.00    29.04\n",
      "8     SNN_4          1.00    35.28\n",
      "     agente  finalizacoes  energia\n",
      "0  visaoA_1          0.24   103.67\n",
      "1  visaoA_2          0.28   129.29\n",
      "2  visaoA_3          0.36   131.22\n",
      "3  visaoA_4          0.20    94.40\n",
      "4  visaoB_1          0.58   116.10\n",
      "5  visaoB_2          0.66   114.39\n",
      "6  visaoB_3          0.70    94.14\n",
      "7  visaoB_4          0.82    86.71\n",
      "8     SNN_4          0.80   104.22\n"
     ]
    }
   ],
   "source": [
    "for env in ['8x8', '10x10', '16x16']:\n",
    "    finish_list = []\n",
    "    energy_list = []\n",
    "    for agent in agents:\n",
    "        path = '../../results/' + env + '/' + agent + '.txt'\n",
    "        df = pd.read_csv(path, sep = \";\")\n",
    "        df.drop(columns=df.columns[0], axis=1, inplace=True)\n",
    "        df.columns = [\"env\", \"config\", \"exp\", \"energy\", \"died_1\", \"died_2\", \"died_3\", \"died_4\", \"perseguir_1\", \"perseguir_2\",\\\n",
    "            \"perseguir_3\", \"perseguir_4\", \"current\", \"next_state\", \"next_move\"]\n",
    "        df['goal'] = np.where(df['next_state'] == 'i_gl', 1, 0)  \n",
    "        finish, energy_mean = resultados(df, agent, env)\n",
    "        finish_list.append(finish)\n",
    "        energy_list.append(round(energy_mean, 2))\n",
    "    df_resultados = pd.DataFrame({'agente': agents, 'finalizacoes':finish_list, 'energia':energy_list})\n",
    "    print(df_resultados)\n",
    "    df_resultados.to_csv('../resultados_'+env+'.txt', index = False)"
   ]
  }
 ],
 "metadata": {
  "kernelspec": {
   "display_name": "Python 3.8.13 ('base')",
   "language": "python",
   "name": "python3"
  },
  "language_info": {
   "codemirror_mode": {
    "name": "ipython",
    "version": 3
   },
   "file_extension": ".py",
   "mimetype": "text/x-python",
   "name": "python",
   "nbconvert_exporter": "python",
   "pygments_lexer": "ipython3",
   "version": "3.8.13"
  },
  "orig_nbformat": 4,
  "vscode": {
   "interpreter": {
    "hash": "045dbbfee8521652668a5853801955dab1b7201bb4d6ea1110fb259a44495ff8"
   }
  }
 },
 "nbformat": 4,
 "nbformat_minor": 2
}
