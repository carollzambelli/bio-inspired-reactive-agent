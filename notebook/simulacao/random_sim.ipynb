{
 "cells": [
  {
   "cell_type": "code",
   "execution_count": 1,
   "id": "b254c4e4-0478-4f61-a90b-b1af32ad95d7",
   "metadata": {},
   "outputs": [],
   "source": [
    "from brian2 import * \n",
    "from matplotlib import pyplot as plt\n",
    "import json, socket, random\n",
    "from enum import Enum\n",
    "from topology import topology\n",
    "import numpy as np\n",
    "import matplotlib.pyplot as plt \n",
    "from random import randint"
   ]
  },
  {
   "cell_type": "code",
   "execution_count": 2,
   "id": "44451eef-052b-445b-95bb-b9ce86922695",
   "metadata": {},
   "outputs": [],
   "source": [
    "def run_network(t_run, indices, times):\n",
    "    \n",
    "    magic_network.schedule = ['start', 'groups', 'synapses', 'thresholds', 'resets', 'end'] \n",
    "    Numero_de_run = 0  \n",
    "    N = len(topology.keys()) \n",
    "    vrest = -70.0*mV \n",
    "    tau = 2*ms \n",
    "    R = 300*Mohm\n",
    "\n",
    "    eqs = '''\n",
    "        dv/dt = ((vrest - v) + R*I)/tau : volt (unless refractory)\n",
    "        I : amp\n",
    "        '''\n",
    "\n",
    "    # Criação dos neurônios comuns (neurons)\n",
    "    neurons = NeuronGroup(N, eqs, threshold='v>-60.0*mV', reset='v=vrest', refractory=3*ms, method='exact') #method='linear')\n",
    "    neurons.v = -80*mV\n",
    "    neurons.I = 0*pA \n",
    "    \n",
    "    inp = SpikeGeneratorGroup(N, indices, times, when='before_synapses')\n",
    "    Stimulus = Synapses(inp, neurons, on_pre='v_post += 11*mV')\n",
    "    print(Stimulus)\n",
    "    for item in range(N):\n",
    "        Stimulus.connect(i=item, j=item)\n",
    "\n",
    "    syn = Synapses(neurons, neurons, 'w : volt', on_pre='v_post += w')\n",
    "    \n",
    "    for item in range(N): \n",
    "        if (\"#\" + str(item)) in topology:\n",
    "            info_json = topology[(\"#\" + str(item))]\n",
    "            if info_json[\"syns\"]:\n",
    "                info_json_syns = info_json[\"syns\"]\n",
    "                n_connections = len(info_json_syns)\n",
    "                for xpto in range(n_connections):\n",
    "                    liga_json = info_json_syns[xpto][0]\n",
    "                    delay_json = info_json_syns[xpto][1]\n",
    "                    w_json = info_json_syns[xpto][2]\n",
    "                    syn.connect(i=item, j=liga_json) \n",
    "                    syn.w[item, liga_json] = w_json*mV\n",
    "                    syn.delay[item, liga_json] = delay_json*ms\n",
    "\n",
    "    state_mon = StateMonitor(neurons, 'v', record = True)\n",
    "    spike_mon_neurons = SpikeMonitor(neurons)\n",
    "    spike_mon_input = SpikeMonitor(inp)\n",
    "\n",
    "    net = Network(neurons, inp, Stimulus, syn)\n",
    "    net.add(state_mon)\n",
    "    net.add(spike_mon_neurons)  \n",
    "    net.add(spike_mon_input)\n",
    "    net.run(t_run)\n",
    "    \n",
    "    return spike_mon_neurons, spike_mon_input"
   ]
  },
  {
   "cell_type": "code",
   "execution_count": 3,
   "id": "27bd7bce-1329-454e-b99e-0b922315e7e3",
   "metadata": {},
   "outputs": [],
   "source": [
    "config = {\n",
    "    \"randomAll\":{\n",
    "        \"rand\":[[100,103,106,109], [101,104,107,110], [102,105,108,111]],\n",
    "        \"100\": \"Nr_movefront\",\n",
    "        \"101\": \"Nr_moveleft\",\n",
    "        \"102\": \"Nr_moveright\",\n",
    "        \"103\": \"Nr_movefront\",\n",
    "        \"104\": \"Nr_moveleft\",\n",
    "        \"105\": \"Nr_moveright\",\n",
    "        \"106\": \"Nr_movefront\",\n",
    "        \"107\": \"Nr_moveleft\",\n",
    "        \"108\": \"Nr_moveright\",\n",
    "        \"109\": \"Nr_movefront\",\n",
    "        \"110\": \"Nr_moveleft\",\n",
    "        \"111\": \"Nr_moveright\"\n",
    "        },\n",
    "    \"randomLF\":{\n",
    "        \"rand\":[[112,114,116,118], [113,115,117,119]],\n",
    "        \"112\": \"Nr_moveleft\",\n",
    "        \"113\": \"Nr_movefront\",\n",
    "        \"114\": \"Nr_moveleft\",\n",
    "        \"115\": \"Nr_movefront\",\n",
    "        \"116\": \"Nr_moveleft\",\n",
    "        \"117\": \"Nr_movefront\",\n",
    "        \"118\": \"Nr_moveleft\",\n",
    "        \"119\": \"Nr_movefront\"\n",
    "    },\n",
    "    \"randomRL\":{\n",
    "        \"rand\":[[112,114,116,118], [113,115,117,119]],\n",
    "        \"112\": \"Nr_moveright\",\n",
    "        \"113\": \"Nr_moveleft\",\n",
    "        \"114\": \"Nr_moveright\",\n",
    "        \"115\": \"Nr_moveleft\",\n",
    "        \"116\": \"Nr_moveright\",\n",
    "        \"117\": \"Nr_moveleft\",\n",
    "        \"118\": \"Nr_moveright\",\n",
    "        \"119\": \"Nr_moveleft\"\n",
    "    }\n",
    "}"
   ]
  },
  {
   "cell_type": "markdown",
   "id": "6010be21-3a81-43a5-9a76-8442e87bb055",
   "metadata": {
    "tags": []
   },
   "source": [
    "#### Random Test"
   ]
  },
  {
   "cell_type": "code",
   "execution_count": 4,
   "id": "dbf862c7-3f5a-41e3-a5ae-225c0b620d8b",
   "metadata": {},
   "outputs": [],
   "source": [
    "def random_choose(rand_nrs, spikemn):\n",
    "    \n",
    "    win, lst, next_n = [], [], []\n",
    "    \n",
    "    for j in range(len(rand_nrs)):\n",
    "        win.append(max([i for i, x in enumerate(list(spikemn.i)) if x in rand_nrs[j]]))\n",
    "        lst = lst + rand_nrs[j]\n",
    "    \n",
    "    Nr_win = rand_nrs[win.index(max(win))]\n",
    "    \n",
    "    for j in range(len(Nr_win)):\n",
    "        next_n.append(max([i for i, x in enumerate(list(spikemn.i)) if x == Nr_win[j]]))\n",
    "    \n",
    "    winner = Nr_win[next_n.index(max(next_n))]\n",
    "    \n",
    "    return Nr_win[next_n.index(max(next_n))]"
   ]
  },
  {
   "cell_type": "code",
   "execution_count": null,
   "id": "65ba5091-c950-47a3-aca3-c96cafd370c8",
   "metadata": {
    "jupyter": {
     "source_hidden": true
    },
    "tags": []
   },
   "outputs": [],
   "source": [
    "t_run = 400*ms\n",
    "rand_nrs = config['randomAll']['rand']\n",
    "indices = array([0, 100, 112])\n",
    "times = array([50, 50, 50])*ms \n",
    "spike_mon_neurons, spike_mon_input = run_network(t_run, indices, times)\n",
    "winner = random_choose(rand_nrs, spike_mon_neurons)\n",
    "config['randomAll'][str(winner)]"
   ]
  },
  {
   "cell_type": "markdown",
   "id": "94eb516d-2d91-4aed-a689-2a7e3109ffab",
   "metadata": {},
   "source": [
    "#### Teste em escala"
   ]
  },
  {
   "cell_type": "code",
   "execution_count": 30,
   "id": "deb7d914-8580-41af-96de-f3d410e203aa",
   "metadata": {
    "collapsed": true,
    "jupyter": {
     "outputs_hidden": true
    },
    "tags": []
   },
   "outputs": [
    {
     "name": "stdout",
     "output_type": "stream",
     "text": [
      "Synapses(clock=Clock(dt=100. * usecond, name='defaultclock'), when=start, order=0, name='synapses')\n",
      "Synapses(clock=Clock(dt=100. * usecond, name='defaultclock'), when=start, order=0, name='synapses')\n",
      "Synapses(clock=Clock(dt=100. * usecond, name='defaultclock'), when=start, order=0, name='synapses')\n",
      "Synapses(clock=Clock(dt=100. * usecond, name='defaultclock'), when=start, order=0, name='synapses')\n",
      "Synapses(clock=Clock(dt=100. * usecond, name='defaultclock'), when=start, order=0, name='synapses')\n",
      "Synapses(clock=Clock(dt=100. * usecond, name='defaultclock'), when=start, order=0, name='synapses')\n",
      "Synapses(clock=Clock(dt=100. * usecond, name='defaultclock'), when=start, order=0, name='synapses')\n",
      "Synapses(clock=Clock(dt=100. * usecond, name='defaultclock'), when=start, order=0, name='synapses')\n",
      "Synapses(clock=Clock(dt=100. * usecond, name='defaultclock'), when=start, order=0, name='synapses')\n",
      "Synapses(clock=Clock(dt=100. * usecond, name='defaultclock'), when=start, order=0, name='synapses')\n",
      "Synapses(clock=Clock(dt=100. * usecond, name='defaultclock'), when=start, order=0, name='synapses')\n",
      "Synapses(clock=Clock(dt=100. * usecond, name='defaultclock'), when=start, order=0, name='synapses')\n",
      "Synapses(clock=Clock(dt=100. * usecond, name='defaultclock'), when=start, order=0, name='synapses')\n",
      "Synapses(clock=Clock(dt=100. * usecond, name='defaultclock'), when=start, order=0, name='synapses')\n",
      "Synapses(clock=Clock(dt=100. * usecond, name='defaultclock'), when=start, order=0, name='synapses')\n",
      "Synapses(clock=Clock(dt=100. * usecond, name='defaultclock'), when=start, order=0, name='synapses')\n",
      "Synapses(clock=Clock(dt=100. * usecond, name='defaultclock'), when=start, order=0, name='synapses')\n",
      "Synapses(clock=Clock(dt=100. * usecond, name='defaultclock'), when=start, order=0, name='synapses')\n",
      "Synapses(clock=Clock(dt=100. * usecond, name='defaultclock'), when=start, order=0, name='synapses')\n",
      "Synapses(clock=Clock(dt=100. * usecond, name='defaultclock'), when=start, order=0, name='synapses')\n",
      "Synapses(clock=Clock(dt=100. * usecond, name='defaultclock'), when=start, order=0, name='synapses')\n",
      "Synapses(clock=Clock(dt=100. * usecond, name='defaultclock'), when=start, order=0, name='synapses')\n",
      "Synapses(clock=Clock(dt=100. * usecond, name='defaultclock'), when=start, order=0, name='synapses')\n",
      "Synapses(clock=Clock(dt=100. * usecond, name='defaultclock'), when=start, order=0, name='synapses')\n",
      "Synapses(clock=Clock(dt=100. * usecond, name='defaultclock'), when=start, order=0, name='synapses')\n",
      "Synapses(clock=Clock(dt=100. * usecond, name='defaultclock'), when=start, order=0, name='synapses')\n",
      "Synapses(clock=Clock(dt=100. * usecond, name='defaultclock'), when=start, order=0, name='synapses')\n",
      "Synapses(clock=Clock(dt=100. * usecond, name='defaultclock'), when=start, order=0, name='synapses')\n",
      "Synapses(clock=Clock(dt=100. * usecond, name='defaultclock'), when=start, order=0, name='synapses')\n",
      "Synapses(clock=Clock(dt=100. * usecond, name='defaultclock'), when=start, order=0, name='synapses')\n",
      "Synapses(clock=Clock(dt=100. * usecond, name='defaultclock'), when=start, order=0, name='synapses')\n",
      "Synapses(clock=Clock(dt=100. * usecond, name='defaultclock'), when=start, order=0, name='synapses')\n",
      "Synapses(clock=Clock(dt=100. * usecond, name='defaultclock'), when=start, order=0, name='synapses')\n",
      "Synapses(clock=Clock(dt=100. * usecond, name='defaultclock'), when=start, order=0, name='synapses')\n",
      "Synapses(clock=Clock(dt=100. * usecond, name='defaultclock'), when=start, order=0, name='synapses')\n",
      "Synapses(clock=Clock(dt=100. * usecond, name='defaultclock'), when=start, order=0, name='synapses')\n",
      "Synapses(clock=Clock(dt=100. * usecond, name='defaultclock'), when=start, order=0, name='synapses')\n",
      "Synapses(clock=Clock(dt=100. * usecond, name='defaultclock'), when=start, order=0, name='synapses')\n",
      "Synapses(clock=Clock(dt=100. * usecond, name='defaultclock'), when=start, order=0, name='synapses')\n",
      "Synapses(clock=Clock(dt=100. * usecond, name='defaultclock'), when=start, order=0, name='synapses')\n",
      "Synapses(clock=Clock(dt=100. * usecond, name='defaultclock'), when=start, order=0, name='synapses')\n",
      "Synapses(clock=Clock(dt=100. * usecond, name='defaultclock'), when=start, order=0, name='synapses')\n",
      "Synapses(clock=Clock(dt=100. * usecond, name='defaultclock'), when=start, order=0, name='synapses')\n",
      "Synapses(clock=Clock(dt=100. * usecond, name='defaultclock'), when=start, order=0, name='synapses')\n",
      "Synapses(clock=Clock(dt=100. * usecond, name='defaultclock'), when=start, order=0, name='synapses')\n",
      "Synapses(clock=Clock(dt=100. * usecond, name='defaultclock'), when=start, order=0, name='synapses')\n",
      "Synapses(clock=Clock(dt=100. * usecond, name='defaultclock'), when=start, order=0, name='synapses')\n",
      "Synapses(clock=Clock(dt=100. * usecond, name='defaultclock'), when=start, order=0, name='synapses')\n",
      "Synapses(clock=Clock(dt=100. * usecond, name='defaultclock'), when=start, order=0, name='synapses')\n",
      "Synapses(clock=Clock(dt=100. * usecond, name='defaultclock'), when=start, order=0, name='synapses')\n",
      "Synapses(clock=Clock(dt=100. * usecond, name='defaultclock'), when=start, order=0, name='synapses')\n",
      "Synapses(clock=Clock(dt=100. * usecond, name='defaultclock'), when=start, order=0, name='synapses')\n",
      "Synapses(clock=Clock(dt=100. * usecond, name='defaultclock'), when=start, order=0, name='synapses')\n",
      "Synapses(clock=Clock(dt=100. * usecond, name='defaultclock'), when=start, order=0, name='synapses')\n",
      "Synapses(clock=Clock(dt=100. * usecond, name='defaultclock'), when=start, order=0, name='synapses')\n",
      "Synapses(clock=Clock(dt=100. * usecond, name='defaultclock'), when=start, order=0, name='synapses')\n",
      "Synapses(clock=Clock(dt=100. * usecond, name='defaultclock'), when=start, order=0, name='synapses')\n",
      "Synapses(clock=Clock(dt=100. * usecond, name='defaultclock'), when=start, order=0, name='synapses')\n",
      "Synapses(clock=Clock(dt=100. * usecond, name='defaultclock'), when=start, order=0, name='synapses')\n",
      "Synapses(clock=Clock(dt=100. * usecond, name='defaultclock'), when=start, order=0, name='synapses')\n",
      "Synapses(clock=Clock(dt=100. * usecond, name='defaultclock'), when=start, order=0, name='synapses')\n",
      "Synapses(clock=Clock(dt=100. * usecond, name='defaultclock'), when=start, order=0, name='synapses')\n",
      "Synapses(clock=Clock(dt=100. * usecond, name='defaultclock'), when=start, order=0, name='synapses')\n",
      "Synapses(clock=Clock(dt=100. * usecond, name='defaultclock'), when=start, order=0, name='synapses')\n",
      "Synapses(clock=Clock(dt=100. * usecond, name='defaultclock'), when=start, order=0, name='synapses')\n",
      "Synapses(clock=Clock(dt=100. * usecond, name='defaultclock'), when=start, order=0, name='synapses')\n",
      "Synapses(clock=Clock(dt=100. * usecond, name='defaultclock'), when=start, order=0, name='synapses')\n",
      "Synapses(clock=Clock(dt=100. * usecond, name='defaultclock'), when=start, order=0, name='synapses')\n",
      "Synapses(clock=Clock(dt=100. * usecond, name='defaultclock'), when=start, order=0, name='synapses')\n",
      "Synapses(clock=Clock(dt=100. * usecond, name='defaultclock'), when=start, order=0, name='synapses')\n",
      "Synapses(clock=Clock(dt=100. * usecond, name='defaultclock'), when=start, order=0, name='synapses')\n",
      "Synapses(clock=Clock(dt=100. * usecond, name='defaultclock'), when=start, order=0, name='synapses')\n",
      "Synapses(clock=Clock(dt=100. * usecond, name='defaultclock'), when=start, order=0, name='synapses')\n",
      "Synapses(clock=Clock(dt=100. * usecond, name='defaultclock'), when=start, order=0, name='synapses')\n",
      "Synapses(clock=Clock(dt=100. * usecond, name='defaultclock'), when=start, order=0, name='synapses')\n",
      "Synapses(clock=Clock(dt=100. * usecond, name='defaultclock'), when=start, order=0, name='synapses')\n",
      "Synapses(clock=Clock(dt=100. * usecond, name='defaultclock'), when=start, order=0, name='synapses')\n",
      "Synapses(clock=Clock(dt=100. * usecond, name='defaultclock'), when=start, order=0, name='synapses')\n",
      "Synapses(clock=Clock(dt=100. * usecond, name='defaultclock'), when=start, order=0, name='synapses')\n",
      "Synapses(clock=Clock(dt=100. * usecond, name='defaultclock'), when=start, order=0, name='synapses')\n",
      "Synapses(clock=Clock(dt=100. * usecond, name='defaultclock'), when=start, order=0, name='synapses')\n",
      "Synapses(clock=Clock(dt=100. * usecond, name='defaultclock'), when=start, order=0, name='synapses')\n",
      "Synapses(clock=Clock(dt=100. * usecond, name='defaultclock'), when=start, order=0, name='synapses')\n",
      "Synapses(clock=Clock(dt=100. * usecond, name='defaultclock'), when=start, order=0, name='synapses')\n",
      "Synapses(clock=Clock(dt=100. * usecond, name='defaultclock'), when=start, order=0, name='synapses')\n",
      "Synapses(clock=Clock(dt=100. * usecond, name='defaultclock'), when=start, order=0, name='synapses')\n",
      "Synapses(clock=Clock(dt=100. * usecond, name='defaultclock'), when=start, order=0, name='synapses')\n",
      "Synapses(clock=Clock(dt=100. * usecond, name='defaultclock'), when=start, order=0, name='synapses')\n",
      "Synapses(clock=Clock(dt=100. * usecond, name='defaultclock'), when=start, order=0, name='synapses')\n",
      "Synapses(clock=Clock(dt=100. * usecond, name='defaultclock'), when=start, order=0, name='synapses')\n",
      "Synapses(clock=Clock(dt=100. * usecond, name='defaultclock'), when=start, order=0, name='synapses')\n",
      "Synapses(clock=Clock(dt=100. * usecond, name='defaultclock'), when=start, order=0, name='synapses')\n",
      "Synapses(clock=Clock(dt=100. * usecond, name='defaultclock'), when=start, order=0, name='synapses')\n",
      "Synapses(clock=Clock(dt=100. * usecond, name='defaultclock'), when=start, order=0, name='synapses')\n",
      "Synapses(clock=Clock(dt=100. * usecond, name='defaultclock'), when=start, order=0, name='synapses')\n",
      "Synapses(clock=Clock(dt=100. * usecond, name='defaultclock'), when=start, order=0, name='synapses')\n",
      "Synapses(clock=Clock(dt=100. * usecond, name='defaultclock'), when=start, order=0, name='synapses')\n",
      "Synapses(clock=Clock(dt=100. * usecond, name='defaultclock'), when=start, order=0, name='synapses')\n",
      "Synapses(clock=Clock(dt=100. * usecond, name='defaultclock'), when=start, order=0, name='synapses')\n",
      "Synapses(clock=Clock(dt=100. * usecond, name='defaultclock'), when=start, order=0, name='synapses')\n"
     ]
    }
   ],
   "source": [
    "rand_nrs = config['randomAll']['rand']\n",
    "randn_lst, randn_lst2, index = [100], [\"Nr_movefront\"], []\n",
    "l = [100,103,106,109,101,104,107,110,102,105,108,111]\n",
    "for rodada in range(100):\n",
    "    t_run = 400*ms\n",
    "    indices = array([0, random.choice(l), randint(112, 119)])\n",
    "    #indices = array([0, randint(100, 111), randint(112, 119)])\n",
    "    index.append([str(indices[1])])\n",
    "    times = array([50, 50, 50])*ms \n",
    "    spike_mon_neurons, spike_mon_input = run_network(t_run, indices, times)\n",
    "    randn = random_choose(rand_nrs, spike_mon_neurons)\n",
    "    randn_lst.append(str(randn))\n",
    "    randn_lst2.append(config['randomAll'][str(randn)])"
   ]
  },
  {
   "cell_type": "code",
   "execution_count": 31,
   "id": "ab80457e-69bd-4be5-9427-2cf7fddb0efc",
   "metadata": {
    "tags": []
   },
   "outputs": [],
   "source": [
    "lists = {\n",
    "    \"index\": list(index),\n",
    "    \"winners\": list(randn_lst[1:]),\n",
    "    \"moves\": list(randn_lst2[1:])\n",
    "}\n",
    "\n",
    "with open('data2.json', 'w') as f:\n",
    "    json.dump(lists, f)"
   ]
  },
  {
   "cell_type": "markdown",
   "id": "c7441a98-7fb8-4e89-a22c-0a7efff4ab62",
   "metadata": {},
   "source": [
    "Teste com rand_choose"
   ]
  },
  {
   "cell_type": "code",
   "execution_count": 32,
   "id": "93bafc48-311e-413a-8b52-723bbcee135c",
   "metadata": {},
   "outputs": [
    {
     "data": {
      "image/png": "[encoded data removed]",
      "text/plain": [
       "<Figure size 432x288 with 1 Axes>"
      ]
     },
     "metadata": {
      "needs_background": "light"
     },
     "output_type": "display_data"
    }
   ],
   "source": [
    "#Spikes de input\n",
    "labels, counts = np.unique(index,return_counts=True)\n",
    "ticks = range(len(counts))\n",
    "plt.bar(ticks,counts, align='center');\n",
    "plt.xticks(ticks, labels);"
   ]
  },
  {
   "cell_type": "code",
   "execution_count": 33,
   "id": "b5d4230e-5ded-440c-b518-ed2a3f27261a",
   "metadata": {},
   "outputs": [
    {
     "data": {
      "image/png": "[encoded data removed]",
      "text/plain": [
       "<Figure size 432x288 with 1 Axes>"
      ]
     },
     "metadata": {
      "needs_background": "light"
     },
     "output_type": "display_data"
    }
   ],
   "source": [
    "#Winners\n",
    "labels, counts = np.unique(randn_lst,return_counts=True)\n",
    "ticks = range(len(counts))\n",
    "plt.bar(ticks,counts, align='center');\n",
    "plt.xticks(ticks, labels);"
   ]
  },
  {
   "cell_type": "code",
   "execution_count": 34,
   "id": "13dd1b60-76ce-43ff-a1b8-84fb52a81d35",
   "metadata": {},
   "outputs": [
    {
     "data": {
      "image/png": "[encoded data removed]",
      "text/plain": [
       "<Figure size 432x288 with 1 Axes>"
      ]
     },
     "metadata": {
      "needs_background": "light"
     },
     "output_type": "display_data"
    }
   ],
   "source": [
    "#Moves\n",
    "labels, counts = np.unique(randn_lst2,return_counts=True)\n",
    "ticks = range(len(counts))\n",
    "plt.bar(ticks,counts, align='center');\n",
    "plt.xticks(ticks, labels);"
   ]
  },
  {
   "cell_type": "markdown",
   "id": "9ce18e72-8d38-4de5-8609-5faac2140b20",
   "metadata": {},
   "source": [
    "Teste com rand_int"
   ]
  },
  {
   "cell_type": "code",
   "execution_count": null,
   "id": "959286f8-0bd5-47b6-8948-4a3d9f5c424b",
   "metadata": {},
   "outputs": [],
   "source": []
  },
  {
   "cell_type": "code",
   "execution_count": 27,
   "id": "c67d51e0-d636-47f3-ae38-deefa2ecca6d",
   "metadata": {},
   "outputs": [
    {
     "data": {
      "image/png": "[encoded data removed]",
      "text/plain": [
       "<Figure size 432x288 with 1 Axes>"
      ]
     },
     "metadata": {
      "needs_background": "light"
     },
     "output_type": "display_data"
    }
   ],
   "source": [
    "#Spikes de input\n",
    "labels, counts = np.unique(index,return_counts=True)\n",
    "ticks = range(len(counts))\n",
    "plt.bar(ticks,counts, align='center');\n",
    "plt.xticks(ticks, labels);"
   ]
  },
  {
   "cell_type": "code",
   "execution_count": 28,
   "id": "8047d6c3-b2a2-4df2-8b49-9c69114ebfa2",
   "metadata": {},
   "outputs": [
    {
     "data": {
      "image/png": "[encoded data removed]",
      "text/plain": [
       "<Figure size 432x288 with 1 Axes>"
      ]
     },
     "metadata": {
      "needs_background": "light"
     },
     "output_type": "display_data"
    }
   ],
   "source": [
    "#Winners\n",
    "labels, counts = np.unique(randn_lst,return_counts=True)\n",
    "ticks = range(len(counts))\n",
    "plt.bar(ticks,counts, align='center');\n",
    "plt.xticks(ticks, labels);"
   ]
  },
  {
   "cell_type": "code",
   "execution_count": 29,
   "id": "3d696a4c-7086-4781-82ee-1749b0a64bfc",
   "metadata": {},
   "outputs": [
    {
     "data": {
      "image/png": "[encoded data removed]",
      "text/plain": [
       "<Figure size 432x288 with 1 Axes>"
      ]
     },
     "metadata": {
      "needs_background": "light"
     },
     "output_type": "display_data"
    }
   ],
   "source": [
    "#Moves\n",
    "labels, counts = np.unique(randn_lst2,return_counts=True)\n",
    "ticks = range(len(counts))\n",
    "plt.bar(ticks,counts, align='center');\n",
    "plt.xticks(ticks, labels);"
   ]
  },
  {
   "cell_type": "code",
   "execution_count": null,
   "id": "97c25ebc-46f9-4dfd-849d-decf35a41bc1",
   "metadata": {},
   "outputs": [],
   "source": []
  }
 ],
 "metadata": {
  "kernelspec": {
   "display_name": "Python 3 (ipykernel)",
   "language": "python",
   "name": "python3"
  },
  "language_info": {
   "codemirror_mode": {
    "name": "ipython",
    "version": 3
   },
   "file_extension": ".py",
   "mimetype": "text/x-python",
   "name": "python",
   "nbconvert_exporter": "python",
   "pygments_lexer": "ipython3",
   "version": "3.8.13"
  }
 },
 "nbformat": 4,
 "nbformat_minor": 5
}
