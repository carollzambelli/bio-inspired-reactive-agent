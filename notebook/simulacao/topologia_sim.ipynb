{
 "cells": [
  {
   "cell_type": "code",
   "execution_count": 40,
   "id": "ecdcc777-429f-4bb9-9146-7ecb4890dd17",
   "metadata": {},
   "outputs": [],
   "source": [
    "from brian2 import * \n",
    "from matplotlib import pyplot as plt\n",
    "import json, socket, random\n",
    "from enum import Enum\n",
    "from topology import topology\n",
    "import numpy as np"
   ]
  },
  {
   "cell_type": "code",
   "execution_count": 55,
   "id": "07e0c7d7-b8b9-4d3e-bd1c-0de70244dbb7",
   "metadata": {},
   "outputs": [],
   "source": [
    "prefs.codegen.target = \"numpy\""
   ]
  },
  {
   "cell_type": "code",
   "execution_count": 56,
   "id": "629484fa-e705-442b-80d7-82805d110449",
   "metadata": {},
   "outputs": [],
   "source": [
    "#start_scope()\n",
    "magic_network.schedule = ['start', 'groups', 'synapses', 'thresholds', 'resets', 'end'] \n",
    "Numero_de_run = 0  \n",
    "t_run = 400*ms  \n",
    "N = len(topology.keys()) \n",
    "vrest = -70.0*mV \n",
    "tau = 2*ms \n",
    "R = 300*Mohm\n",
    "\n",
    "eqs = '''\n",
    "    dv/dt = ((vrest - v) + R*I)/tau : volt (unless refractory)\n",
    "    I : amp\n",
    "    '''\n",
    "\n",
    "# Criação dos neurônios comuns (neurons)\n",
    "neurons = NeuronGroup(N, eqs, threshold='v>-60.0*mV', reset='v=vrest', refractory=3*ms, method='exact') #method='linear')\n",
    "neurons.v = -80*mV\n",
    "neurons.I = 0*pA "
   ]
  },
  {
   "cell_type": "code",
   "execution_count": 57,
   "id": "096ac0d7-f659-490b-99a1-5620874e38e1",
   "metadata": {
    "tags": []
   },
   "outputs": [
    {
     "name": "stdout",
     "output_type": "stream",
     "text": [
      "106 116\n"
     ]
    }
   ],
   "source": [
    "#indices = array([0,29,41,53]) #Excita recuar - esperado 81\n",
    "#indices = array([0,29,41]) #Excita recuar - esperado não disparar nada\n",
    "#indices = array([0,31]) #Excita perseguir - esperado 78\n",
    "#indices = array([0,43]) #Excita perseguir - esperado 80\n",
    "#indices = array([0,52,55]) #Excita perseguir - esperado 79\n",
    "#indices = array([0,43,55]) #Excita 2 perseguir - esperado 74,79,80\n",
    "#indices = array([0,33, 34, 38]) #Excita avançar - esperado 78,79,80\n",
    "#indices = array([0,55,21,33,45,57]) #Excita perseguir - esperado 79 \n",
    "#indices = array([0,29,41,53,55,21,33,45,57])    \n",
    "#indices = array([0,43,21,33,45,57,30,42])\n",
    "l = [100,103,106,109,101,104,107,110,102,105,108,111]\n",
    "a = random.choice(l)\n",
    "b = randint(112, 119)\n",
    "indices = array([0, a, b])\n",
    "print(a,b)"
   ]
  },
  {
   "cell_type": "code",
   "execution_count": 58,
   "id": "239bdbef-67d3-425a-816a-ed2e7632b868",
   "metadata": {
    "tags": []
   },
   "outputs": [],
   "source": [
    "inp = SpikeGeneratorGroup(N, indices, array([50]*len(indices))*ms , when='before_synapses')\n",
    "\n",
    "Stimulus = Synapses(inp, neurons, on_pre='v_post += 11*mV')\n",
    "for item in range(N):\n",
    "    Stimulus.connect(i=item, j=item)\n",
    "    \n",
    "syn = Synapses(neurons, neurons, 'w : volt', on_pre='v_post += w')"
   ]
  },
  {
   "cell_type": "code",
   "execution_count": 59,
   "id": "1416819a-2630-4c3a-8131-6e6942473338",
   "metadata": {},
   "outputs": [],
   "source": [
    "for item in range(N): \n",
    "    if (\"#\" + str(item)) in topology:\n",
    "        info_json = topology[(\"#\" + str(item))]\n",
    "        if info_json[\"syns\"]:\n",
    "            info_json_syns = info_json[\"syns\"]\n",
    "            n_connections = len(info_json_syns)\n",
    "            for xpto in range(n_connections):\n",
    "                liga_json = info_json_syns[xpto][0]\n",
    "                delay_json = info_json_syns[xpto][1]\n",
    "                w_json = info_json_syns[xpto][2]\n",
    "                syn.connect(i=item, j=liga_json) \n",
    "                syn.w[item, liga_json] = w_json*mV\n",
    "                syn.delay[item, liga_json] = delay_json*ms\n",
    "state_mon = StateMonitor(neurons, 'v', record = True)\n",
    "spike_mon_neurons = SpikeMonitor(neurons)\n",
    "spike_mon_input = SpikeMonitor(inp)\n",
    "\n",
    "net = Network(neurons, inp, Stimulus, syn)\n",
    "net.add(state_mon)\n",
    "net.add(spike_mon_neurons)  \n",
    "net.add(spike_mon_input)\n",
    "net.run(t_run)"
   ]
  },
  {
   "cell_type": "code",
   "execution_count": 60,
   "id": "9ed65f80-2456-40f1-adf3-c0f570576b35",
   "metadata": {
    "tags": []
   },
   "outputs": [
    {
     "data": {
      "text/plain": [
       "(30.0, 400.0)"
      ]
     },
     "execution_count": 60,
     "metadata": {},
     "output_type": "execute_result"
    },
    {
     "data": {
      "image/png": "[encoded data removed]",
      "text/plain": [
       "<Figure size 432x288 with 1 Axes>"
      ]
     },
     "metadata": {
      "needs_background": "light"
     },
     "output_type": "display_data"
    }
   ],
   "source": [
    "plt.plot(spike_mon_neurons.t/ms, spike_mon_neurons.i, 'x', markersize = 5)\n",
    "xlabel('Tempo (ms)')\n",
    "ylabel('Índice do neurônio')\n",
    "plt.savefig('random.png')\n",
    "xlim(30, 400)"
   ]
  },
  {
   "cell_type": "code",
   "execution_count": 8,
   "id": "4fc7e243-ad4f-4fbd-8c88-e9d6e11cecf9",
   "metadata": {
    "tags": []
   },
   "outputs": [
    {
     "data": {
      "text/plain": [
       "array({0, 1, 2, 3, 4, 5, 6, 7, 8, 9, 10, 11, 12, 13, 14, 15, 16, 17, 18, 19, 43, 73, 80},\n",
       "      dtype=object)"
      ]
     },
     "execution_count": 8,
     "metadata": {},
     "output_type": "execute_result"
    }
   ],
   "source": [
    "np.array(set(spike_mon_neurons.i))"
   ]
  },
  {
   "cell_type": "code",
   "execution_count": null,
   "id": "e81be1bc-dde3-4c5c-8e57-555d97cfd127",
   "metadata": {},
   "outputs": [],
   "source": []
  },
  {
   "cell_type": "code",
   "execution_count": null,
   "id": "b1b70702-5eb2-47a5-9f68-57b9767b0da2",
   "metadata": {},
   "outputs": [],
   "source": []
  },
  {
   "cell_type": "code",
   "execution_count": null,
   "id": "6d483e78-559b-419f-8219-9a960df30458",
   "metadata": {},
   "outputs": [],
   "source": []
  },
  {
   "cell_type": "code",
   "execution_count": null,
   "id": "e0b91b3f-f61e-41c4-96dc-48bd372bdf34",
   "metadata": {},
   "outputs": [],
   "source": []
  },
  {
   "cell_type": "code",
   "execution_count": 9,
   "id": "081fdfed-bb11-4dca-90b8-1d631609b193",
   "metadata": {
    "tags": []
   },
   "outputs": [
    {
     "data": {
      "text/plain": [
       "90.50000000000001"
      ]
     },
     "execution_count": 9,
     "metadata": {},
     "output_type": "execute_result"
    }
   ],
   "source": [
    "#21,33,45,57\n",
    "list(spike_mon_neurons.t/ms)[87]"
   ]
  },
  {
   "cell_type": "code",
   "execution_count": 14,
   "id": "6c8a65e0-e078-4abd-ac9f-43207fe2c6e0",
   "metadata": {},
   "outputs": [
    {
     "data": {
      "text/plain": [
       "100.2"
      ]
     },
     "execution_count": 14,
     "metadata": {},
     "output_type": "execute_result"
    }
   ],
   "source": [
    "list(spike_mon_neurons.t/ms)[7]"
   ]
  },
  {
   "cell_type": "code",
   "execution_count": 9,
   "id": "3df5fad7-41ab-4eeb-b548-cf1766ddaed9",
   "metadata": {},
   "outputs": [
    {
     "data": {
      "text/plain": [
       "[107]"
      ]
     },
     "execution_count": 9,
     "metadata": {},
     "output_type": "execute_result"
    }
   ],
   "source": [
    "[i for i, x in enumerate(list(spike_mon_neurons.i)) if x == 71]"
   ]
  },
  {
   "cell_type": "code",
   "execution_count": 1,
   "id": "a078e0c8-952d-4509-8bc3-9ac64af1f1ee",
   "metadata": {},
   "outputs": [
    {
     "ename": "NameError",
     "evalue": "name 'spike_mon_neurons' is not defined",
     "output_type": "error",
     "traceback": [
      "\u001b[1;31m---------------------------------------------------------------------------\u001b[0m",
      "\u001b[1;31mNameError\u001b[0m                                 Traceback (most recent call last)",
      "Input \u001b[1;32mIn [1]\u001b[0m, in \u001b[0;36m<cell line: 1>\u001b[1;34m()\u001b[0m\n\u001b[0;32m      1\u001b[0m \u001b[38;5;28mprint\u001b[39m(\n\u001b[1;32m----> 2\u001b[0m     \u001b[38;5;28mlist\u001b[39m(\u001b[43mspike_mon_neurons\u001b[49m\u001b[38;5;241m.\u001b[39mt\u001b[38;5;241m/\u001b[39mms)[\u001b[38;5;28mlist\u001b[39m(spike_mon_neurons\u001b[38;5;241m.\u001b[39mi)\u001b[38;5;241m.\u001b[39mindex(\u001b[38;5;241m0\u001b[39m)],\n\u001b[0;32m      3\u001b[0m     \u001b[38;5;28mlist\u001b[39m(spike_mon_neurons\u001b[38;5;241m.\u001b[39mt\u001b[38;5;241m/\u001b[39mms)[\u001b[38;5;28mlist\u001b[39m(spike_mon_neurons\u001b[38;5;241m.\u001b[39mi)\u001b[38;5;241m.\u001b[39mindex(\u001b[38;5;241m4\u001b[39m)],\n\u001b[0;32m      4\u001b[0m     \u001b[38;5;66;03m#list(spike_mon_neurons.t/ms)[90],\u001b[39;00m\n\u001b[0;32m      5\u001b[0m     \u001b[38;5;66;03m#list(spike_mon_neurons.t/ms)[91],\u001b[39;00m\n\u001b[0;32m      6\u001b[0m     \u001b[38;5;28mlist\u001b[39m(spike_mon_neurons\u001b[38;5;241m.\u001b[39mt\u001b[38;5;241m/\u001b[39mms)[\u001b[38;5;28mlist\u001b[39m(spike_mon_neurons\u001b[38;5;241m.\u001b[39mi)\u001b[38;5;241m.\u001b[39mindex(\u001b[38;5;241m9\u001b[39m)],\n\u001b[0;32m      7\u001b[0m     \u001b[38;5;66;03m#list(spike_mon_neurons.t/ms)[206],\u001b[39;00m\n\u001b[0;32m      8\u001b[0m     \u001b[38;5;28mlist\u001b[39m(spike_mon_neurons\u001b[38;5;241m.\u001b[39mt\u001b[38;5;241m/\u001b[39mms)[\u001b[38;5;28mlist\u001b[39m(spike_mon_neurons\u001b[38;5;241m.\u001b[39mi)\u001b[38;5;241m.\u001b[39mindex(\u001b[38;5;241m14\u001b[39m)],\n\u001b[0;32m      9\u001b[0m     \u001b[38;5;28mlist\u001b[39m(spike_mon_neurons\u001b[38;5;241m.\u001b[39mt\u001b[38;5;241m/\u001b[39mms)[\u001b[38;5;28mlist\u001b[39m(spike_mon_neurons\u001b[38;5;241m.\u001b[39mi)\u001b[38;5;241m.\u001b[39mindex(\u001b[38;5;241m19\u001b[39m)],\n\u001b[0;32m     10\u001b[0m )\n",
      "\u001b[1;31mNameError\u001b[0m: name 'spike_mon_neurons' is not defined"
     ]
    }
   ],
   "source": [
    "print(\n",
    "    list(spike_mon_neurons.t/ms)[list(spike_mon_neurons.i).index(0)],\n",
    "    list(spike_mon_neurons.t/ms)[list(spike_mon_neurons.i).index(4)],\n",
    "    #list(spike_mon_neurons.t/ms)[90],\n",
    "    #list(spike_mon_neurons.t/ms)[91],\n",
    "    list(spike_mon_neurons.t/ms)[list(spike_mon_neurons.i).index(9)],\n",
    "    #list(spike_mon_neurons.t/ms)[206],\n",
    "    list(spike_mon_neurons.t/ms)[list(spike_mon_neurons.i).index(14)],\n",
    "    list(spike_mon_neurons.t/ms)[list(spike_mon_neurons.i).index(19)],\n",
    ")"
   ]
  },
  {
   "cell_type": "code",
   "execution_count": null,
   "id": "4c05f980-a1be-4656-b6ac-307817520657",
   "metadata": {},
   "outputs": [],
   "source": [
    "list(spike_mon_neurons.t/ms)[list(spike_mon_neurons.i).index(79)]"
   ]
  },
  {
   "cell_type": "code",
   "execution_count": null,
   "id": "93756527-e308-41e7-9a61-cefca9296133",
   "metadata": {},
   "outputs": [],
   "source": [
    "list(spike_mon_neurons.t/ms)[list(spike_mon_neurons.i).index(72)]"
   ]
  },
  {
   "cell_type": "code",
   "execution_count": null,
   "id": "d93c00ff-aacd-46f7-947d-50891fe0c366",
   "metadata": {},
   "outputs": [],
   "source": [
    "list(spike_mon_neurons.t/ms)[-1]"
   ]
  },
  {
   "cell_type": "code",
   "execution_count": null,
   "id": "4d99ee69-5b94-43e9-9605-8dba22b226e8",
   "metadata": {},
   "outputs": [],
   "source": []
  }
 ],
 "metadata": {
  "kernelspec": {
   "display_name": "Python 3 (ipykernel)",
   "language": "python",
   "name": "python3"
  },
  "language_info": {
   "codemirror_mode": {
    "name": "ipython",
    "version": 3
   },
   "file_extension": ".py",
   "mimetype": "text/x-python",
   "name": "python",
   "nbconvert_exporter": "python",
   "pygments_lexer": "ipython3",
   "version": "3.8.13"
  }
 },
 "nbformat": 4,
 "nbformat_minor": 5
}
