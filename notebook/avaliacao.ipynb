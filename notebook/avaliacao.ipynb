{
 "cells": [
  {
   "cell_type": "code",
   "execution_count": 1,
   "metadata": {},
   "outputs": [],
   "source": [
    "import matplotlib.pyplot as plt\n",
    "import pandas as pd\n",
    "import numpy as np"
   ]
  },
  {
   "cell_type": "code",
   "execution_count": 2,
   "metadata": {},
   "outputs": [],
   "source": [
    "exp1 = pd.read_csv('../scripts/results/exp_sensor1.txt', sep = \";\")\n",
    "exp2 = pd.read_csv('../scripts/results/exp_sensor2.txt', sep = \";\")\n",
    "exp3 = pd.read_csv('../scripts/results/exp_sensor2_1.txt', sep = \";\")"
   ]
  },
  {
   "cell_type": "code",
   "execution_count": 3,
   "metadata": {},
   "outputs": [],
   "source": [
    "exp1['goal'] = np.where(exp1['next_state'] == 'i_gl', 1, 0)\n",
    "exp2['goal'] = np.where(exp2['next_state'] == 'i_gl', 1, 0)\n",
    "exp3['goal'] = np.where(exp3['next_state'] == 'i_gl', 1, 0)"
   ]
  },
  {
   "cell_type": "code",
   "execution_count": 4,
   "metadata": {},
   "outputs": [
    {
     "data": {
      "text/html": [
       "<div>\n",
       "<style scoped>\n",
       "    .dataframe tbody tr th:only-of-type {\n",
       "        vertical-align: middle;\n",
       "    }\n",
       "\n",
       "    .dataframe tbody tr th {\n",
       "        vertical-align: top;\n",
       "    }\n",
       "\n",
       "    .dataframe thead th {\n",
       "        text-align: right;\n",
       "    }\n",
       "</style>\n",
       "<table border=\"1\" class=\"dataframe\">\n",
       "  <thead>\n",
       "    <tr style=\"text-align: right;\">\n",
       "      <th></th>\n",
       "      <th>env</th>\n",
       "      <th>config</th>\n",
       "      <th>exp</th>\n",
       "      <th>energy</th>\n",
       "      <th>current</th>\n",
       "      <th>next_state</th>\n",
       "      <th>next_move</th>\n",
       "      <th>goal</th>\n",
       "    </tr>\n",
       "  </thead>\n",
       "  <tbody>\n",
       "    <tr>\n",
       "      <th>0</th>\n",
       "      <td>16x16</td>\n",
       "      <td>exp_sensor1</td>\n",
       "      <td>0</td>\n",
       "      <td>200</td>\n",
       "      <td>i_ini</td>\n",
       "      <td>i_vz</td>\n",
       "      <td>3</td>\n",
       "      <td>0</td>\n",
       "    </tr>\n",
       "    <tr>\n",
       "      <th>1</th>\n",
       "      <td>16x16</td>\n",
       "      <td>exp_sensor1</td>\n",
       "      <td>0</td>\n",
       "      <td>199</td>\n",
       "      <td>i_vz</td>\n",
       "      <td>i_b</td>\n",
       "      <td>3</td>\n",
       "      <td>0</td>\n",
       "    </tr>\n",
       "    <tr>\n",
       "      <th>2</th>\n",
       "      <td>16x16</td>\n",
       "      <td>exp_sensor1</td>\n",
       "      <td>0</td>\n",
       "      <td>198</td>\n",
       "      <td>i_b</td>\n",
       "      <td>i_vz</td>\n",
       "      <td>3</td>\n",
       "      <td>0</td>\n",
       "    </tr>\n",
       "    <tr>\n",
       "      <th>3</th>\n",
       "      <td>16x16</td>\n",
       "      <td>exp_sensor1</td>\n",
       "      <td>0</td>\n",
       "      <td>197</td>\n",
       "      <td>i_vz</td>\n",
       "      <td>i_vz</td>\n",
       "      <td>0</td>\n",
       "      <td>0</td>\n",
       "    </tr>\n",
       "    <tr>\n",
       "      <th>4</th>\n",
       "      <td>16x16</td>\n",
       "      <td>exp_sensor1</td>\n",
       "      <td>0</td>\n",
       "      <td>196</td>\n",
       "      <td>i_vz</td>\n",
       "      <td>i_vz</td>\n",
       "      <td>0</td>\n",
       "      <td>0</td>\n",
       "    </tr>\n",
       "  </tbody>\n",
       "</table>\n",
       "</div>"
      ],
      "text/plain": [
       "     env       config  exp  energy current next_state  next_move  goal\n",
       "0  16x16  exp_sensor1    0     200   i_ini       i_vz          3     0\n",
       "1  16x16  exp_sensor1    0     199    i_vz        i_b          3     0\n",
       "2  16x16  exp_sensor1    0     198     i_b       i_vz          3     0\n",
       "3  16x16  exp_sensor1    0     197    i_vz       i_vz          0     0\n",
       "4  16x16  exp_sensor1    0     196    i_vz       i_vz          0     0"
      ]
     },
     "execution_count": 4,
     "metadata": {},
     "output_type": "execute_result"
    }
   ],
   "source": [
    "exp1.head()"
   ]
  },
  {
   "cell_type": "code",
   "execution_count": 5,
   "metadata": {},
   "outputs": [
    {
     "data": {
      "text/html": [
       "<div>\n",
       "<style scoped>\n",
       "    .dataframe tbody tr th:only-of-type {\n",
       "        vertical-align: middle;\n",
       "    }\n",
       "\n",
       "    .dataframe tbody tr th {\n",
       "        vertical-align: top;\n",
       "    }\n",
       "\n",
       "    .dataframe thead th {\n",
       "        text-align: right;\n",
       "    }\n",
       "</style>\n",
       "<table border=\"1\" class=\"dataframe\">\n",
       "  <thead>\n",
       "    <tr style=\"text-align: right;\">\n",
       "      <th></th>\n",
       "      <th>env</th>\n",
       "      <th>config</th>\n",
       "      <th>exp</th>\n",
       "      <th>energy</th>\n",
       "      <th>current</th>\n",
       "      <th>next_state</th>\n",
       "      <th>next_move</th>\n",
       "      <th>counter_x</th>\n",
       "      <th>counter_y</th>\n",
       "      <th>goal</th>\n",
       "    </tr>\n",
       "  </thead>\n",
       "  <tbody>\n",
       "    <tr>\n",
       "      <th>0</th>\n",
       "      <td>10x10</td>\n",
       "      <td>exp_sensor2</td>\n",
       "      <td>0</td>\n",
       "      <td>100</td>\n",
       "      <td>i_ini</td>\n",
       "      <td>i_vz</td>\n",
       "      <td>0</td>\n",
       "      <td>1.0</td>\n",
       "      <td>0.0</td>\n",
       "      <td>0</td>\n",
       "    </tr>\n",
       "    <tr>\n",
       "      <th>1</th>\n",
       "      <td>10x10</td>\n",
       "      <td>exp_sensor2</td>\n",
       "      <td>0</td>\n",
       "      <td>99</td>\n",
       "      <td>i_vz</td>\n",
       "      <td>i_vz</td>\n",
       "      <td>0</td>\n",
       "      <td>2.0</td>\n",
       "      <td>0.0</td>\n",
       "      <td>0</td>\n",
       "    </tr>\n",
       "    <tr>\n",
       "      <th>2</th>\n",
       "      <td>10x10</td>\n",
       "      <td>exp_sensor2</td>\n",
       "      <td>0</td>\n",
       "      <td>98</td>\n",
       "      <td>i_vz</td>\n",
       "      <td>i_b</td>\n",
       "      <td>1</td>\n",
       "      <td>2.0</td>\n",
       "      <td>1.0</td>\n",
       "      <td>0</td>\n",
       "    </tr>\n",
       "    <tr>\n",
       "      <th>3</th>\n",
       "      <td>10x10</td>\n",
       "      <td>exp_sensor2</td>\n",
       "      <td>0</td>\n",
       "      <td>97</td>\n",
       "      <td>i_b</td>\n",
       "      <td>i_vz</td>\n",
       "      <td>2</td>\n",
       "      <td>1.0</td>\n",
       "      <td>1.0</td>\n",
       "      <td>0</td>\n",
       "    </tr>\n",
       "    <tr>\n",
       "      <th>4</th>\n",
       "      <td>10x10</td>\n",
       "      <td>exp_sensor2</td>\n",
       "      <td>0</td>\n",
       "      <td>96</td>\n",
       "      <td>i_vz</td>\n",
       "      <td>i_b</td>\n",
       "      <td>1</td>\n",
       "      <td>1.0</td>\n",
       "      <td>2.0</td>\n",
       "      <td>0</td>\n",
       "    </tr>\n",
       "  </tbody>\n",
       "</table>\n",
       "</div>"
      ],
      "text/plain": [
       "     env       config  exp  energy current next_state  next_move  counter_x  \\\n",
       "0  10x10  exp_sensor2    0     100   i_ini       i_vz          0        1.0   \n",
       "1  10x10  exp_sensor2    0      99    i_vz       i_vz          0        2.0   \n",
       "2  10x10  exp_sensor2    0      98    i_vz        i_b          1        2.0   \n",
       "3  10x10  exp_sensor2    0      97     i_b       i_vz          2        1.0   \n",
       "4  10x10  exp_sensor2    0      96    i_vz        i_b          1        1.0   \n",
       "\n",
       "   counter_y  goal  \n",
       "0        0.0     0  \n",
       "1        0.0     0  \n",
       "2        1.0     0  \n",
       "3        1.0     0  \n",
       "4        2.0     0  "
      ]
     },
     "execution_count": 5,
     "metadata": {},
     "output_type": "execute_result"
    }
   ],
   "source": [
    "exp3.head()"
   ]
  },
  {
   "cell_type": "markdown",
   "metadata": {},
   "source": [
    "#### Comparação da quantidade de finalização"
   ]
  },
  {
   "cell_type": "code",
   "execution_count": 6,
   "metadata": {},
   "outputs": [
    {
     "data": {
      "text/plain": [
       "env\n",
       "10x10    5\n",
       "16x16    3\n",
       "4x4      5\n",
       "5x5      5\n",
       "8x8      5\n",
       "Name: goal, dtype: int32"
      ]
     },
     "execution_count": 6,
     "metadata": {},
     "output_type": "execute_result"
    }
   ],
   "source": [
    "exp1.groupby(['env']).sum()['goal']"
   ]
  },
  {
   "cell_type": "code",
   "execution_count": 7,
   "metadata": {},
   "outputs": [
    {
     "data": {
      "text/plain": [
       "env\n",
       "10x10    5\n",
       "16x16    4\n",
       "4x4      5\n",
       "5x5      5\n",
       "8x8      5\n",
       "Name: goal, dtype: int32"
      ]
     },
     "execution_count": 7,
     "metadata": {},
     "output_type": "execute_result"
    }
   ],
   "source": [
    "exp2.groupby(['env']).sum()['goal']"
   ]
  },
  {
   "cell_type": "code",
   "execution_count": 8,
   "metadata": {},
   "outputs": [
    {
     "data": {
      "text/plain": [
       "env\n",
       "10x10    5\n",
       "16x16    4\n",
       "4x4      5\n",
       "5x5      5\n",
       "8x8      5\n",
       "Name: goal, dtype: int32"
      ]
     },
     "execution_count": 8,
     "metadata": {},
     "output_type": "execute_result"
    }
   ],
   "source": [
    "exp3.groupby(['env']).sum()['goal']"
   ]
  },
  {
   "cell_type": "code",
   "execution_count": 9,
   "metadata": {},
   "outputs": [
    {
     "data": {
      "image/png": "[encoded data removed]",
      "text/plain": [
       "<Figure size 720x360 with 1 Axes>"
      ]
     },
     "metadata": {
      "needs_background": "light"
     },
     "output_type": "display_data"
    }
   ],
   "source": [
    "labels = ['16x16', '10x10', '8x8', '5x5', '4x4']\n",
    "_exp1 = [3, 5, 5, 5, 5]\n",
    "_exp2 = [4, 5, 5, 5, 5]\n",
    "_exp3 = [4, 5, 5, 5, 5]\n",
    "\n",
    "x = np.arange(len(labels))  # the label locations\n",
    "width = 0.2\n",
    "\n",
    "fig, ax = plt.subplots(figsize = (10,5))\n",
    "rects1 = ax.bar(x - width, _exp1, width, label='exp1')\n",
    "rects2 = ax.bar(x , _exp2, width, label='exp2')\n",
    "rects3 = ax.bar(x + width, _exp3, width, label='exp3')\n",
    "\n",
    "ax.set_title('Quantidade de finalizações')ax.set_xticks(x)\n",
    "ax.set_xticklabels(labels)\n",
    "ax.legend()\n",
    "\n",
    "fig.tight_layout()\n",
    "\n",
    "plt.show()"
   ]
  },
  {
   "cell_type": "markdown",
   "metadata": {},
   "source": [
    "#### Comparação velocidade de finalização"
   ]
  },
  {
   "cell_type": "code",
   "execution_count": 10,
   "metadata": {},
   "outputs": [],
   "source": [
    "energy = {\n",
    "    \"4x4\": 20,\n",
    "    \"5x5\": 25,\n",
    "    \"8x8\": 65,\n",
    "    \"10x10\": 100,\n",
    "    \"16x16\": 200\n",
    "}"
   ]
  },
  {
   "cell_type": "code",
   "execution_count": 14,
   "metadata": {},
   "outputs": [],
   "source": [
    "temp1 = exp1.groupby(['env','exp']).count()['energy'].reset_index()\n",
    "temp2 = exp2.groupby(['env','exp']).count()['energy'].reset_index()\n",
    "temp3 = exp3.groupby(['env', 'config', 'exp']).count()['energy'].reset_index()\n",
    "\n",
    "for env in ['16x16', '10x10', '8x8', '5x5', '4x4']:\n",
    "    temp1['max'] = temp1['env'].apply(lambda x: energy[x])\n",
    "    temp2['max'] = temp2['env'].apply(lambda x: energy[x])\n",
    "    temp3['max'] = temp3['env'].apply(lambda x: energy[x])"
   ]
  },
  {
   "cell_type": "code",
   "execution_count": 15,
   "metadata": {},
   "outputs": [],
   "source": [
    "x1 = temp1[temp1['energy'] != temp1['max']].groupby('env').min()['energy'].reset_index().rename(columns={\"energy\": \"min1\"})\n",
    "x2 = temp1[temp1['energy'] != temp1['max']].groupby('env').max()['energy'].reset_index().rename(columns={\"energy\": \"max1\"})\n",
    "x3 = temp1[temp1['energy'] != temp1['max']].groupby('env').mean()['energy'].reset_index().rename(columns={\"energy\": \"mean1\"})\n",
    "\n",
    "df1 = pd.merge(x1, pd.merge(x2, x3))"
   ]
  },
  {
   "cell_type": "code",
   "execution_count": 16,
   "metadata": {},
   "outputs": [],
   "source": [
    "x1 = temp2[temp2['energy'] != temp2['max']].groupby('env').min()['energy'].reset_index().rename(columns={\"energy\": \"min2\"})\n",
    "x2 = temp2[temp2['energy'] != temp2['max']].groupby('env').max()['energy'].reset_index().rename(columns={\"energy\": \"max2\"})\n",
    "x3 = temp2[temp2['energy'] != temp2['max']].groupby('env').mean()['energy'].reset_index().rename(columns={\"energy\": \"mean2\"})\n",
    "\n",
    "df2 = pd.merge(x1, pd.merge(x2, x3))"
   ]
  },
  {
   "cell_type": "code",
   "execution_count": 17,
   "metadata": {},
   "outputs": [],
   "source": [
    "x1 = temp3[temp3['energy'] != temp3['max']].groupby('env').min()['energy'].reset_index().rename(columns={\"energy\": \"min3\"})\n",
    "x2 = temp3[temp3['energy'] != temp3['max']].groupby('env').max()['energy'].reset_index().rename(columns={\"energy\": \"max3\"})\n",
    "x3 = temp3[temp3['energy'] != temp3['max']].groupby('env').mean()['energy'].reset_index().rename(columns={\"energy\": \"mean3\"})\n",
    "\n",
    "df3 = pd.merge(x1, pd.merge(x2, x3))"
   ]
  },
  {
   "cell_type": "code",
   "execution_count": 22,
   "metadata": {},
   "outputs": [
    {
     "data": {
      "text/html": [
       "<div>\n",
       "<style scoped>\n",
       "    .dataframe tbody tr th:only-of-type {\n",
       "        vertical-align: middle;\n",
       "    }\n",
       "\n",
       "    .dataframe tbody tr th {\n",
       "        vertical-align: top;\n",
       "    }\n",
       "\n",
       "    .dataframe thead th {\n",
       "        text-align: right;\n",
       "    }\n",
       "</style>\n",
       "<table border=\"1\" class=\"dataframe\">\n",
       "  <thead>\n",
       "    <tr style=\"text-align: right;\">\n",
       "      <th></th>\n",
       "      <th>env</th>\n",
       "      <th>min1</th>\n",
       "      <th>max1</th>\n",
       "      <th>mean1</th>\n",
       "      <th>min2</th>\n",
       "      <th>max2</th>\n",
       "      <th>mean2</th>\n",
       "      <th>min3</th>\n",
       "      <th>max3</th>\n",
       "      <th>mean3</th>\n",
       "    </tr>\n",
       "  </thead>\n",
       "  <tbody>\n",
       "    <tr>\n",
       "      <th>0</th>\n",
       "      <td>10x10</td>\n",
       "      <td>20</td>\n",
       "      <td>82</td>\n",
       "      <td>58.4</td>\n",
       "      <td>16</td>\n",
       "      <td>48</td>\n",
       "      <td>28.8</td>\n",
       "      <td>14</td>\n",
       "      <td>28</td>\n",
       "      <td>22.8</td>\n",
       "    </tr>\n",
       "    <tr>\n",
       "      <th>1</th>\n",
       "      <td>16x16</td>\n",
       "      <td>70</td>\n",
       "      <td>146</td>\n",
       "      <td>114.0</td>\n",
       "      <td>36</td>\n",
       "      <td>116</td>\n",
       "      <td>83.5</td>\n",
       "      <td>22</td>\n",
       "      <td>70</td>\n",
       "      <td>52.0</td>\n",
       "    </tr>\n",
       "    <tr>\n",
       "      <th>2</th>\n",
       "      <td>4x4</td>\n",
       "      <td>4</td>\n",
       "      <td>4</td>\n",
       "      <td>4.0</td>\n",
       "      <td>4</td>\n",
       "      <td>4</td>\n",
       "      <td>4.0</td>\n",
       "      <td>4</td>\n",
       "      <td>4</td>\n",
       "      <td>4.0</td>\n",
       "    </tr>\n",
       "    <tr>\n",
       "      <th>3</th>\n",
       "      <td>5x5</td>\n",
       "      <td>5</td>\n",
       "      <td>7</td>\n",
       "      <td>5.4</td>\n",
       "      <td>5</td>\n",
       "      <td>7</td>\n",
       "      <td>5.4</td>\n",
       "      <td>5</td>\n",
       "      <td>7</td>\n",
       "      <td>5.4</td>\n",
       "    </tr>\n",
       "    <tr>\n",
       "      <th>4</th>\n",
       "      <td>8x8</td>\n",
       "      <td>12</td>\n",
       "      <td>50</td>\n",
       "      <td>21.2</td>\n",
       "      <td>10</td>\n",
       "      <td>22</td>\n",
       "      <td>16.0</td>\n",
       "      <td>16</td>\n",
       "      <td>18</td>\n",
       "      <td>16.4</td>\n",
       "    </tr>\n",
       "  </tbody>\n",
       "</table>\n",
       "</div>"
      ],
      "text/plain": [
       "     env  min1  max1  mean1  min2  max2  mean2  min3  max3  mean3\n",
       "0  10x10    20    82   58.4    16    48   28.8    14    28   22.8\n",
       "1  16x16    70   146  114.0    36   116   83.5    22    70   52.0\n",
       "2    4x4     4     4    4.0     4     4    4.0     4     4    4.0\n",
       "3    5x5     5     7    5.4     5     7    5.4     5     7    5.4\n",
       "4    8x8    12    50   21.2    10    22   16.0    16    18   16.4"
      ]
     },
     "execution_count": 22,
     "metadata": {},
     "output_type": "execute_result"
    }
   ],
   "source": [
    "pd.merge(df1, pd.merge(df2, df3))"
   ]
  },
  {
   "cell_type": "code",
   "execution_count": 24,
   "metadata": {},
   "outputs": [
    {
     "data": {
      "image/png": "[encoded data removed]",
      "text/plain": [
       "<Figure size 720x360 with 1 Axes>"
      ]
     },
     "metadata": {
      "needs_background": "light"
     },
     "output_type": "display_data"
    }
   ],
   "source": [
    "labels = ['16x16', '10x10', '8x8', '5x5', '4x4']\n",
    "_exp1 = [114,58.4,21.2,5.4,4]\n",
    "_exp2 = [83.5,28.8,16,5.4,4]\n",
    "_exp3 = [52,22.8,16.4,5.4,4]\n",
    "\n",
    "x = np.arange(len(labels))  # the label locations\n",
    "width = 0.2\n",
    "\n",
    "fig, ax = plt.subplots(figsize = (10,5))\n",
    "rects1 = ax.bar(x - width, _exp1, width, label='exp1')\n",
    "rects2 = ax.bar(x , _exp2, width, label='exp2')\n",
    "rects3 = ax.bar(x + width, _exp3, width, label='exp3')\n",
    "\n",
    "ax.set_title('Comparação tempos médios')\n",
    "ax.set_xticks(x)\n",
    "ax.set_xticklabels(labels)\n",
    "ax.legend()\n",
    "\n",
    "fig.tight_layout()\n",
    "\n",
    "plt.show()"
   ]
  },
  {
   "cell_type": "code",
   "execution_count": 25,
   "metadata": {},
   "outputs": [
    {
     "data": {
      "image/png": "[encoded data removed]",
      "text/plain": [
       "<Figure size 720x360 with 1 Axes>"
      ]
     },
     "metadata": {
      "needs_background": "light"
     },
     "output_type": "display_data"
    }
   ],
   "source": [
    "labels = ['16x16', '10x10', '8x8', '5x5', '4x4']\n",
    "_exp1 = [146,82,50,5.4,4]\n",
    "_exp2 = [116,48,22,5.4,4]\n",
    "_exp3 = [70,28,18,5.4,4]\n",
    "\n",
    "x = np.arange(len(labels))  # the label locations\n",
    "width = 0.2\n",
    "\n",
    "fig, ax = plt.subplots(figsize = (10,5))\n",
    "rects1 = ax.bar(x - width, _exp1, width, label='exp1')\n",
    "rects2 = ax.bar(x , _exp2, width, label='exp2')\n",
    "rects3 = ax.bar(x + width, _exp3, width, label='exp3')\n",
    "\n",
    "ax.set_title('Comparação tempos Máximos')\n",
    "ax.set_xticks(x)\n",
    "ax.set_xticklabels(labels)\n",
    "ax.legend()\n",
    "\n",
    "fig.tight_layout()\n",
    "\n",
    "plt.show()"
   ]
  },
  {
   "cell_type": "code",
   "execution_count": 23,
   "metadata": {},
   "outputs": [
    {
     "data": {
      "image/png": "[encoded data removed]",
      "text/plain": [
       "<Figure size 720x360 with 1 Axes>"
      ]
     },
     "metadata": {
      "needs_background": "light"
     },
     "output_type": "display_data"
    }
   ],
   "source": [
    "labels = ['16x16', '10x10', '8x8', '5x5', '4x4']\n",
    "_exp1 = [70,20,12,5,4]\n",
    "_exp2 = [36,16,10,5,4]\n",
    "_exp3 = [22,14,16,5,4]\n",
    "\n",
    "x = np.arange(len(labels))  # the label locations\n",
    "width = 0.2\n",
    "\n",
    "fig, ax = plt.subplots(figsize = (10,5))\n",
    "rects1 = ax.bar(x - width, _exp1, width, label='exp1')\n",
    "rects2 = ax.bar(x , _exp2, width, label='exp2')\n",
    "rects3 = ax.bar(x + width, _exp3, width, label='exp3')\n",
    "\n",
    "ax.set_title('Comparação tempos mínimos')\n",
    "ax.set_xticks(x)\n",
    "ax.set_xticklabels(labels)\n",
    "ax.legend()\n",
    "\n",
    "fig.tight_layout()\n",
    "\n",
    "plt.show()"
   ]
  },
  {
   "cell_type": "markdown",
   "metadata": {},
   "source": [
    "#### Distribuição de current state"
   ]
  },
  {
   "cell_type": "code",
   "execution_count": 26,
   "metadata": {},
   "outputs": [],
   "source": [
    "exp_1 = exp1.copy()\n",
    "exp_2 = exp2.copy()\n",
    "exp_3 = exp3.copy()"
   ]
  },
  {
   "cell_type": "code",
   "execution_count": 27,
   "metadata": {},
   "outputs": [],
   "source": [
    "labels = {\n",
    "    '16x16': 16,\n",
    "    '10x10': 10,\n",
    "    '8x8': 8,\n",
    "    '5x5': 5,\n",
    "    '4x4': 4}"
   ]
  },
  {
   "cell_type": "code",
   "execution_count": 28,
   "metadata": {},
   "outputs": [],
   "source": [
    "exp_1['env2'] = exp_1['env'].apply(lambda x: labels[x])\n",
    "exp_2['env2'] = exp_2['env'].apply(lambda x: labels[x])\n",
    "exp_3['env2'] = exp_3['env'].apply(lambda x: labels[x])"
   ]
  },
  {
   "cell_type": "code",
   "execution_count": 29,
   "metadata": {},
   "outputs": [],
   "source": [
    "temp1 = exp_1.groupby(['env','exp', 'current']).count()['goal'].reset_index()\n",
    "temp1 = temp1.groupby(['env', 'current']).mean()['goal'].reset_index()\n",
    "temp1.set_index('current', inplace = True)\n",
    "\n",
    "temp2 = exp2.groupby(['env','exp', 'current']).count()['goal'].reset_index()\n",
    "temp2 = temp2.groupby(['env', 'current']).mean()['goal'].reset_index()\n",
    "temp2.set_index('current', inplace = True)\n",
    "\n",
    "temp3 = exp3.groupby(['env','exp', 'current']).count()['goal'].reset_index()\n",
    "temp3 = temp3.groupby(['env', 'current']).mean()['goal'].reset_index()\n",
    "temp3.set_index('current', inplace = True)"
   ]
  },
  {
   "cell_type": "code",
   "execution_count": 34,
   "metadata": {},
   "outputs": [],
   "source": [
    "dfs = [temp1, temp2, temp3]\n",
    "labels = ['sen1', 'sens2', 'sens3']"
   ]
  },
  {
   "cell_type": "code",
   "execution_count": 36,
   "metadata": {},
   "outputs": [],
   "source": [
    "for env in ['16x16', '10x10', '8x8', '5x5', '4x4']:\n",
    "    for i in range(len(labels)):\n",
    "        dfs[i][dfs[i]['env'] == env].plot.pie(y = 'goal', title=env+\"-\"+labels[i])\n",
    "\n"
   ]
  }
 ],
 "metadata": {
  "kernelspec": {
   "display_name": "Python 3",
   "language": "python",
   "name": "python3"
  },
  "language_info": {
   "codemirror_mode": {
    "name": "ipython",
    "version": 3
   },
   "file_extension": ".py",
   "mimetype": "text/x-python",
   "name": "python",
   "nbconvert_exporter": "python",
   "pygments_lexer": "ipython3",
   "version": "3.8.5"
  }
 },
 "nbformat": 4,
 "nbformat_minor": 4
}
