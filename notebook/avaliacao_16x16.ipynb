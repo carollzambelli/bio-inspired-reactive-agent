{
 "cells": [
  {
   "cell_type": "code",
   "execution_count": 1,
   "metadata": {},
   "outputs": [],
   "source": [
    "import matplotlib.pyplot as plt\n",
    "import pandas as pd\n",
    "import numpy as np"
   ]
  },
  {
   "cell_type": "code",
   "execution_count": 2,
   "metadata": {},
   "outputs": [],
   "source": [
    "agente1 = pd.read_csv('../results/16x16/exp_agent1.txt', sep = \";\")\n",
    "agente2_1 = pd.read_csv('../results/16x16/exp_agent2-1.txt', sep = \";\")\n",
    "agente2_2 = pd.read_csv('../results/16x16/exp_agent2-2.txt', sep = \";\")\n",
    "agente3_1 = pd.read_csv('../results/16x16/exp_agent3-1.txt', sep = \";\")\n",
    "agente3_2 = pd.read_csv('../results/16x16/exp_agent3-2.txt', sep = \";\")\n",
    "agente3_3 = pd.read_csv('../results/16x16/exp_agent3-3.txt', sep = \";\")\n",
    "agente3_4 = pd.read_csv('../results/16x16/exp_agent3-4.txt', sep = \";\")\n",
    "agente3_1b = pd.read_csv('../results/16x16/exp_agent3-1b.txt', sep = \";\")\n",
    "agente3_2b = pd.read_csv('../results/16x16/exp_agent3-2b.txt', sep = \";\")\n",
    "agente3_3b = pd.read_csv('../results/16x16/exp_agent3-3b.txt', sep = \";\")\n",
    "agente3_4b = pd.read_csv('../results/16x16/exp_agent3-4b.txt', sep = \";\")"
   ]
  },
  {
   "cell_type": "code",
   "execution_count": 3,
   "metadata": {},
   "outputs": [],
   "source": [
    "agente1['goal'] = np.where(agente1['next_state'] == 'i_gl', 1, 0)\n",
    "agente2_1['goal'] = np.where(agente2_1['next_state'] == 'i_gl', 1, 0)\n",
    "agente2_2['goal'] = np.where(agente2_2['next_state'] == 'i_gl', 1, 0)\n",
    "agente3_1['goal'] = np.where(agente3_1['next_state'] == 'i_gl', 1, 0)\n",
    "agente3_2['goal'] = np.where(agente3_2['next_state'] == 'i_gl', 1, 0)\n",
    "agente3_3['goal'] = np.where(agente3_3['next_state'] == 'i_gl', 1, 0)\n",
    "agente3_4['goal'] = np.where(agente3_4['next_state'] == 'i_gl', 1, 0)\n",
    "agente3_1b['goal'] = np.where(agente3_1b['next_state'] == 'i_gl', 1, 0)\n",
    "agente3_2b['goal'] = np.where(agente3_2b['next_state'] == 'i_gl', 1, 0)\n",
    "agente3_3b['goal'] = np.where(agente3_3b['next_state'] == 'i_gl', 1, 0)\n",
    "agente3_4b['goal'] = np.where(agente3_4b['next_state'] == 'i_gl', 1, 0)"
   ]
  },
  {
   "cell_type": "code",
   "execution_count": 4,
   "metadata": {},
   "outputs": [
    {
     "data": {
      "text/html": [
       "<div>\n",
       "<style scoped>\n",
       "    .dataframe tbody tr th:only-of-type {\n",
       "        vertical-align: middle;\n",
       "    }\n",
       "\n",
       "    .dataframe tbody tr th {\n",
       "        vertical-align: top;\n",
       "    }\n",
       "\n",
       "    .dataframe thead th {\n",
       "        text-align: right;\n",
       "    }\n",
       "</style>\n",
       "<table border=\"1\" class=\"dataframe\">\n",
       "  <thead>\n",
       "    <tr style=\"text-align: right;\">\n",
       "      <th></th>\n",
       "      <th>env</th>\n",
       "      <th>config</th>\n",
       "      <th>exp</th>\n",
       "      <th>energy</th>\n",
       "      <th>current</th>\n",
       "      <th>next_state</th>\n",
       "      <th>next_move</th>\n",
       "      <th>goal</th>\n",
       "    </tr>\n",
       "  </thead>\n",
       "  <tbody>\n",
       "    <tr>\n",
       "      <th>0</th>\n",
       "      <td>16x16</td>\n",
       "      <td>exp_agent2-1</td>\n",
       "      <td>0</td>\n",
       "      <td>200</td>\n",
       "      <td>i_ini</td>\n",
       "      <td>i_vz</td>\n",
       "      <td>1</td>\n",
       "      <td>0</td>\n",
       "    </tr>\n",
       "    <tr>\n",
       "      <th>0</th>\n",
       "      <td>16x16</td>\n",
       "      <td>exp_agent2-1</td>\n",
       "      <td>0</td>\n",
       "      <td>199</td>\n",
       "      <td>i_vz</td>\n",
       "      <td>i_ini</td>\n",
       "      <td>3</td>\n",
       "      <td>0</td>\n",
       "    </tr>\n",
       "    <tr>\n",
       "      <th>0</th>\n",
       "      <td>16x16</td>\n",
       "      <td>exp_agent2-1</td>\n",
       "      <td>0</td>\n",
       "      <td>198</td>\n",
       "      <td>i_ini</td>\n",
       "      <td>i_vz</td>\n",
       "      <td>2</td>\n",
       "      <td>0</td>\n",
       "    </tr>\n",
       "    <tr>\n",
       "      <th>0</th>\n",
       "      <td>16x16</td>\n",
       "      <td>exp_agent2-1</td>\n",
       "      <td>0</td>\n",
       "      <td>197</td>\n",
       "      <td>i_vz</td>\n",
       "      <td>i_vz</td>\n",
       "      <td>2</td>\n",
       "      <td>0</td>\n",
       "    </tr>\n",
       "    <tr>\n",
       "      <th>0</th>\n",
       "      <td>16x16</td>\n",
       "      <td>exp_agent2-1</td>\n",
       "      <td>0</td>\n",
       "      <td>196</td>\n",
       "      <td>i_vz</td>\n",
       "      <td>i_vz</td>\n",
       "      <td>2</td>\n",
       "      <td>0</td>\n",
       "    </tr>\n",
       "  </tbody>\n",
       "</table>\n",
       "</div>"
      ],
      "text/plain": [
       "     env        config  exp  energy current next_state  next_move  goal\n",
       "0  16x16  exp_agent2-1    0     200   i_ini       i_vz          1     0\n",
       "0  16x16  exp_agent2-1    0     199    i_vz      i_ini          3     0\n",
       "0  16x16  exp_agent2-1    0     198   i_ini       i_vz          2     0\n",
       "0  16x16  exp_agent2-1    0     197    i_vz       i_vz          2     0\n",
       "0  16x16  exp_agent2-1    0     196    i_vz       i_vz          2     0"
      ]
     },
     "execution_count": 4,
     "metadata": {},
     "output_type": "execute_result"
    }
   ],
   "source": [
    "agente2_1.head()"
   ]
  },
  {
   "cell_type": "code",
   "execution_count": 5,
   "metadata": {},
   "outputs": [
    {
     "data": {
      "text/plain": [
       "array(['i_vz', 'i_ini', 'i_b', 'i_s', 'i_bfs', 'i_gl', 'i_f', 'i_bs',\n",
       "       'i_bf'], dtype=object)"
      ]
     },
     "execution_count": 5,
     "metadata": {},
     "output_type": "execute_result"
    }
   ],
   "source": [
    "agente3_4['next_state'].unique()"
   ]
  },
  {
   "cell_type": "code",
   "execution_count": 6,
   "metadata": {},
   "outputs": [],
   "source": [
    "agente = ['dummy', 'covarde-1', 'covarde-2', 'visao-1a',\n",
    "          'visao-1b', 'visao-2a', 'visao-2b', 'visao-3a',\n",
    "          'visao-3b', 'visao-4a', 'visao-4b']"
   ]
  },
  {
   "cell_type": "code",
   "execution_count": 7,
   "metadata": {},
   "outputs": [
    {
     "data": {
      "image/png": "[encoded data removed]",
      "text/plain": [
       "<Figure size 1080x576 with 1 Axes>"
      ]
     },
     "metadata": {
      "needs_background": "light"
     },
     "output_type": "display_data"
    }
   ],
   "source": [
    "fig = plt.figure(figsize = (15, 8))\n",
    "\n",
    "values = [\n",
    "    round(agente1['goal'].sum()/50, 3),\n",
    "    round(agente2_1['goal'].sum()/50, 3),\n",
    "    round(agente2_2['goal'].sum()/50, 3),\n",
    "    round(agente3_1['goal'].sum()/50, 3),\n",
    "    round(agente3_1b['goal'].sum()/50, 3),\n",
    "    round(agente3_2['goal'].sum()/50, 3),\n",
    "    round(agente3_2b['goal'].sum()/50, 3),\n",
    "    round(agente3_3['goal'].sum()/50, 3),\n",
    "    round(agente3_3b['goal'].sum()/50, 3),\n",
    "    round(agente3_4['goal'].sum()/50, 3),\n",
    "    round(agente3_4b['goal'].sum()/50, 3)\n",
    "]\n",
    "\n",
    "# creating the bar plot\n",
    "plt.bar(agente,values, color ='maroon',width = 0.4)\n",
    " \n",
    "#plt.xlabel(\"Label agente\")\n",
    "plt.ylabel(\"Percentual de finalizações\")\n",
    "plt.title(\"Comparação de desempenho ambiente 08x08 \")\n",
    "\n",
    "n = range(len(values))\n",
    "for i in range(len(values)):\n",
    "    plt.annotate(str(round(values[i]*100, 2)) + '%', xy=(n[i],values[i]), ha='center', va='bottom')\n",
    "\n",
    "plt.show()"
   ]
  },
  {
   "cell_type": "code",
   "execution_count": 10,
   "metadata": {},
   "outputs": [],
   "source": [
    "energy = 200\n",
    "values = [\n",
    "    (energy-agente1[agente1['goal']==1]['energy']),\n",
    "    (energy-agente2_1[agente2_1['goal']==1]['energy']),\n",
    "    (energy-agente2_2[agente2_2['goal']==1]['energy']),\n",
    "    (energy-agente3_1[agente3_1['goal']==1]['energy']),\n",
    "    (energy-agente3_1b[agente3_1b['goal']==1]['energy']),\n",
    "    (energy-agente3_2[agente3_2['goal']==1]['energy']),\n",
    "    (energy-agente3_2b[agente3_2b['goal']==1]['energy']),\n",
    "    (energy-agente3_3[agente3_3['goal']==1]['energy']),\n",
    "    (energy-agente3_3b[agente3_3b['goal']==1]['energy']),\n",
    "    (energy-agente3_4[agente3_4['goal']==1]['energy']),\n",
    "    (energy-agente3_4b[agente3_4b['goal']==1]['energy'])\n",
    "]"
   ]
  },
  {
   "cell_type": "code",
   "execution_count": 11,
   "metadata": {},
   "outputs": [
    {
     "data": {
      "text/html": [
       "<div>\n",
       "<style scoped>\n",
       "    .dataframe tbody tr th:only-of-type {\n",
       "        vertical-align: middle;\n",
       "    }\n",
       "\n",
       "    .dataframe tbody tr th {\n",
       "        vertical-align: top;\n",
       "    }\n",
       "\n",
       "    .dataframe thead th {\n",
       "        text-align: right;\n",
       "    }\n",
       "</style>\n",
       "<table border=\"1\" class=\"dataframe\">\n",
       "  <thead>\n",
       "    <tr style=\"text-align: right;\">\n",
       "      <th></th>\n",
       "      <th>index</th>\n",
       "      <th>dummy</th>\n",
       "      <th>covarde-1</th>\n",
       "      <th>covarde-2</th>\n",
       "      <th>visao-1a</th>\n",
       "      <th>visao-1b</th>\n",
       "      <th>visao-2a</th>\n",
       "      <th>visao-2b</th>\n",
       "      <th>visao-3a</th>\n",
       "      <th>visao-3b</th>\n",
       "      <th>visao-4a</th>\n",
       "      <th>visao-4b</th>\n",
       "    </tr>\n",
       "  </thead>\n",
       "  <tbody>\n",
       "    <tr>\n",
       "      <th>0</th>\n",
       "      <td>count</td>\n",
       "      <td>0.0</td>\n",
       "      <td>0.0</td>\n",
       "      <td>2.000000</td>\n",
       "      <td>14.000000</td>\n",
       "      <td>26.000000</td>\n",
       "      <td>10.000000</td>\n",
       "      <td>36.000000</td>\n",
       "      <td>12.00000</td>\n",
       "      <td>35.000000</td>\n",
       "      <td>26.000000</td>\n",
       "      <td>43.000000</td>\n",
       "    </tr>\n",
       "    <tr>\n",
       "      <th>1</th>\n",
       "      <td>mean</td>\n",
       "      <td>NaN</td>\n",
       "      <td>NaN</td>\n",
       "      <td>169.000000</td>\n",
       "      <td>114.000000</td>\n",
       "      <td>104.923077</td>\n",
       "      <td>100.600000</td>\n",
       "      <td>102.611111</td>\n",
       "      <td>113.50000</td>\n",
       "      <td>91.914286</td>\n",
       "      <td>103.153846</td>\n",
       "      <td>79.093023</td>\n",
       "    </tr>\n",
       "    <tr>\n",
       "      <th>2</th>\n",
       "      <td>std</td>\n",
       "      <td>NaN</td>\n",
       "      <td>NaN</td>\n",
       "      <td>36.769553</td>\n",
       "      <td>44.471253</td>\n",
       "      <td>38.738016</td>\n",
       "      <td>38.836409</td>\n",
       "      <td>47.120076</td>\n",
       "      <td>54.30637</td>\n",
       "      <td>52.724239</td>\n",
       "      <td>45.938822</td>\n",
       "      <td>53.062324</td>\n",
       "    </tr>\n",
       "    <tr>\n",
       "      <th>3</th>\n",
       "      <td>min</td>\n",
       "      <td>NaN</td>\n",
       "      <td>NaN</td>\n",
       "      <td>143.000000</td>\n",
       "      <td>31.000000</td>\n",
       "      <td>43.000000</td>\n",
       "      <td>53.000000</td>\n",
       "      <td>27.000000</td>\n",
       "      <td>33.00000</td>\n",
       "      <td>15.000000</td>\n",
       "      <td>25.000000</td>\n",
       "      <td>17.000000</td>\n",
       "    </tr>\n",
       "    <tr>\n",
       "      <th>4</th>\n",
       "      <td>25%</td>\n",
       "      <td>NaN</td>\n",
       "      <td>NaN</td>\n",
       "      <td>156.000000</td>\n",
       "      <td>84.500000</td>\n",
       "      <td>80.000000</td>\n",
       "      <td>69.500000</td>\n",
       "      <td>62.500000</td>\n",
       "      <td>72.50000</td>\n",
       "      <td>52.000000</td>\n",
       "      <td>70.000000</td>\n",
       "      <td>39.000000</td>\n",
       "    </tr>\n",
       "    <tr>\n",
       "      <th>5</th>\n",
       "      <td>50%</td>\n",
       "      <td>NaN</td>\n",
       "      <td>NaN</td>\n",
       "      <td>169.000000</td>\n",
       "      <td>120.000000</td>\n",
       "      <td>94.000000</td>\n",
       "      <td>101.000000</td>\n",
       "      <td>99.000000</td>\n",
       "      <td>102.00000</td>\n",
       "      <td>71.000000</td>\n",
       "      <td>98.000000</td>\n",
       "      <td>63.000000</td>\n",
       "    </tr>\n",
       "    <tr>\n",
       "      <th>6</th>\n",
       "      <td>75%</td>\n",
       "      <td>NaN</td>\n",
       "      <td>NaN</td>\n",
       "      <td>182.000000</td>\n",
       "      <td>146.000000</td>\n",
       "      <td>132.000000</td>\n",
       "      <td>114.500000</td>\n",
       "      <td>140.000000</td>\n",
       "      <td>168.00000</td>\n",
       "      <td>137.000000</td>\n",
       "      <td>131.000000</td>\n",
       "      <td>112.000000</td>\n",
       "    </tr>\n",
       "    <tr>\n",
       "      <th>7</th>\n",
       "      <td>max</td>\n",
       "      <td>NaN</td>\n",
       "      <td>NaN</td>\n",
       "      <td>195.000000</td>\n",
       "      <td>183.000000</td>\n",
       "      <td>187.000000</td>\n",
       "      <td>171.000000</td>\n",
       "      <td>187.000000</td>\n",
       "      <td>197.00000</td>\n",
       "      <td>189.000000</td>\n",
       "      <td>193.000000</td>\n",
       "      <td>197.000000</td>\n",
       "    </tr>\n",
       "  </tbody>\n",
       "</table>\n",
       "</div>"
      ],
      "text/plain": [
       "   index  dummy  covarde-1   covarde-2    visao-1a    visao-1b    visao-2a  \\\n",
       "0  count    0.0        0.0    2.000000   14.000000   26.000000   10.000000   \n",
       "1   mean    NaN        NaN  169.000000  114.000000  104.923077  100.600000   \n",
       "2    std    NaN        NaN   36.769553   44.471253   38.738016   38.836409   \n",
       "3    min    NaN        NaN  143.000000   31.000000   43.000000   53.000000   \n",
       "4    25%    NaN        NaN  156.000000   84.500000   80.000000   69.500000   \n",
       "5    50%    NaN        NaN  169.000000  120.000000   94.000000  101.000000   \n",
       "6    75%    NaN        NaN  182.000000  146.000000  132.000000  114.500000   \n",
       "7    max    NaN        NaN  195.000000  183.000000  187.000000  171.000000   \n",
       "\n",
       "     visao-2b   visao-3a    visao-3b    visao-4a    visao-4b  \n",
       "0   36.000000   12.00000   35.000000   26.000000   43.000000  \n",
       "1  102.611111  113.50000   91.914286  103.153846   79.093023  \n",
       "2   47.120076   54.30637   52.724239   45.938822   53.062324  \n",
       "3   27.000000   33.00000   15.000000   25.000000   17.000000  \n",
       "4   62.500000   72.50000   52.000000   70.000000   39.000000  \n",
       "5   99.000000  102.00000   71.000000   98.000000   63.000000  \n",
       "6  140.000000  168.00000  137.000000  131.000000  112.000000  \n",
       "7  187.000000  197.00000  189.000000  193.000000  197.000000  "
      ]
     },
     "execution_count": 11,
     "metadata": {},
     "output_type": "execute_result"
    }
   ],
   "source": [
    "df = pd.DataFrame(values[0].describe()).reset_index()\\\n",
    "    .rename(columns = {\"energy\": agente[0]})\n",
    "\n",
    "for i in range(1,len(values)):\n",
    "    tmp = pd.DataFrame(values[i].describe()).reset_index()\\\n",
    "    .drop(\"index\", axis = 1)\\\n",
    "    .rename(columns = {\"energy\": agente[i]})\n",
    "    \n",
    "    df = pd.concat([df, tmp], axis = 1)\n",
    "\n",
    "df"
   ]
  },
  {
   "cell_type": "code",
   "execution_count": 12,
   "metadata": {},
   "outputs": [],
   "source": [
    "df.to_clipboard(excel=True, decimal = \",\")"
   ]
  },
  {
   "cell_type": "code",
   "execution_count": 13,
   "metadata": {},
   "outputs": [],
   "source": [
    "ag = [agente3_1, agente3_1b, agente3_2, agente3_2b, agente3_3, agente3_3b, agente3_4, agente3_4b]\n",
    "agente_ = ['visao-1a','visao-1b', 'visao-2a', 'visao-2b', \n",
    "           'visao-3a','visao-3b', 'visao-4a', 'visao-4b']"
   ]
  },
  {
   "cell_type": "code",
   "execution_count": 16,
   "metadata": {},
   "outputs": [],
   "source": [
    "df = pd.DataFrame(columns = ['agente', '%fail', '%goal'])\n",
    "\n",
    "for i in range(len(ag)):\n",
    "    lst = list(set(ag[i]['exp'].unique()) - set(list(ag[i][ag[i]['goal']==1]['exp'])))\n",
    "    fail = ag[i][(ag[i]['exp'].isin(lst)) & (ag[i]['next_state'] == 'i_vz')].groupby('exp').count()['env'].mean()\n",
    "    goal = ag[i][(~ag[i]['exp'].isin(lst)) & (ag[i]['next_state'] == 'i_vz')].groupby('exp').count()['env'].mean()\n",
    "    row_df = pd.DataFrame([[agente_[i], fail/energy, goal/energy]], columns = ['agente', '%fail', '%goal'])\n",
    "    df = pd.concat([row_df, df], ignore_index=True)"
   ]
  },
  {
   "cell_type": "code",
   "execution_count": 17,
   "metadata": {},
   "outputs": [],
   "source": [
    "df['dif'] = df['%fail'] - df['%goal']\n",
    "df = df.fillna(0)\n",
    "df[df['%fail'] != 0].to_clipboard(excel=True, decimal = \",\")"
   ]
  },
  {
   "cell_type": "code",
   "execution_count": 18,
   "metadata": {},
   "outputs": [
    {
     "data": {
      "text/plain": [
       "0.41741283835800747"
      ]
     },
     "execution_count": 18,
     "metadata": {},
     "output_type": "execute_result"
    }
   ],
   "source": [
    "df[df['%fail'] != 0]['dif'].mean()"
   ]
  },
  {
   "cell_type": "code",
   "execution_count": 14,
   "metadata": {},
   "outputs": [
    {
     "name": "stdout",
     "output_type": "stream",
     "text": [
      "mente xxx\n",
      "goal:  14.0 fail:  7.244897959183674\n",
      "goal:  16.0 fail:  7.775510204081633\n",
      "goal:  11.0 fail:  7.586956521739131\n",
      "goal:  17.0 fail:  7.760869565217392\n",
      "mente xxx\n",
      "goal:  12.5 fail:  14.0625\n",
      "goal:  8.5 fail:  15.416666666666666\n",
      "goal:  9.5 fail:  17.479166666666668\n",
      "goal:  9.0 fail:  17.958333333333332\n",
      "mente xxx\n",
      "goal:  nan fail:  14.44\n",
      "goal:  nan fail:  14.98\n",
      "goal:  nan fail:  17.94\n",
      "goal:  nan fail:  17.64\n",
      "mente xxx\n",
      "goal:  11.153846153846153 fail:  16.541666666666668\n",
      "goal:  8.961538461538462 fail:  17.333333333333332\n",
      "goal:  6.4 fail:  15.541666666666666\n",
      "goal:  6.458333333333333 fail:  15.583333333333334\n",
      "mente xxx\n",
      "goal:  11.416666666666666 fail:  15.714285714285714\n",
      "goal:  9.61111111111111 fail:  17.5\n",
      "goal:  6.794117647058823 fail:  15.285714285714286\n",
      "goal:  6.8 fail:  16.5\n",
      "mente xxx\n",
      "goal:  10.590909090909092 fail:  19.333333333333332\n",
      "goal:  9.136363636363637 fail:  13.833333333333334\n",
      "goal:  6.15 fail:  18.333333333333332\n",
      "goal:  6.923076923076923 fail:  13.5\n",
      "mente xxx\n",
      "goal:  9.083333333333334 fail:  19.5\n",
      "goal:  6.333333333333333 fail:  15.5\n",
      "goal:  4.9 fail:  16.0\n",
      "goal:  4.0 fail:  14.0\n"
     ]
    }
   ],
   "source": [
    "for m in ag:\n",
    "    lst = list(set(m['exp'].unique()) - set(list(m[m['goal']==1]['exp'])))\n",
    "    print(\"mente xxx\")\n",
    "    for i in range(4):\n",
    "        print('goal: ', m[~(m['exp'].isin(lst)) & (m['next_move'] == i)].groupby(['exp']).count()['env'].mean(),\n",
    "             'fail: ', m[(m['exp'].isin(lst)) & (m['next_move'] == i)].groupby(['exp']).count()['env'].mean())"
   ]
  },
  {
   "cell_type": "code",
   "execution_count": null,
   "metadata": {},
   "outputs": [],
   "source": []
  }
 ],
 "metadata": {
  "kernelspec": {
   "display_name": "Python 3",
   "language": "python",
   "name": "python3"
  },
  "language_info": {
   "codemirror_mode": {
    "name": "ipython",
    "version": 3
   },
   "file_extension": ".py",
   "mimetype": "text/x-python",
   "name": "python",
   "nbconvert_exporter": "python",
   "pygments_lexer": "ipython3",
   "version": "3.8.5"
  }
 },
 "nbformat": 4,
 "nbformat_minor": 4
}
