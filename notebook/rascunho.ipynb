{
 "cells": [
  {
   "cell_type": "code",
   "execution_count": 1,
   "source": [
    "import pandas as pd"
   ],
   "outputs": [],
   "metadata": {}
  },
  {
   "cell_type": "code",
   "execution_count": 5,
   "source": [
    "df = pd.read_csv(\"../results/exp_sensor1.txt\", sep = \";\")"
   ],
   "outputs": [],
   "metadata": {}
  },
  {
   "cell_type": "code",
   "execution_count": 6,
   "source": [
    "df.head()"
   ],
   "outputs": [
    {
     "output_type": "execute_result",
     "data": {
      "text/plain": [
       "     env       config  exp  energy current next_state  next_move\n",
       "0  16x16  exp_sensor1    0     200   i_ini       i_vz          3\n",
       "1  16x16  exp_sensor1    0     199    i_vz        i_b          3\n",
       "2  16x16  exp_sensor1    0     198     i_b       i_vz          3\n",
       "3  16x16  exp_sensor1    0     197    i_vz       i_vz          0\n",
       "4  16x16  exp_sensor1    0     196    i_vz       i_vz          0"
      ],
      "text/html": [
       "<div>\n",
       "<style scoped>\n",
       "    .dataframe tbody tr th:only-of-type {\n",
       "        vertical-align: middle;\n",
       "    }\n",
       "\n",
       "    .dataframe tbody tr th {\n",
       "        vertical-align: top;\n",
       "    }\n",
       "\n",
       "    .dataframe thead th {\n",
       "        text-align: right;\n",
       "    }\n",
       "</style>\n",
       "<table border=\"1\" class=\"dataframe\">\n",
       "  <thead>\n",
       "    <tr style=\"text-align: right;\">\n",
       "      <th></th>\n",
       "      <th>env</th>\n",
       "      <th>config</th>\n",
       "      <th>exp</th>\n",
       "      <th>energy</th>\n",
       "      <th>current</th>\n",
       "      <th>next_state</th>\n",
       "      <th>next_move</th>\n",
       "    </tr>\n",
       "  </thead>\n",
       "  <tbody>\n",
       "    <tr>\n",
       "      <th>0</th>\n",
       "      <td>16x16</td>\n",
       "      <td>exp_sensor1</td>\n",
       "      <td>0</td>\n",
       "      <td>200</td>\n",
       "      <td>i_ini</td>\n",
       "      <td>i_vz</td>\n",
       "      <td>3</td>\n",
       "    </tr>\n",
       "    <tr>\n",
       "      <th>1</th>\n",
       "      <td>16x16</td>\n",
       "      <td>exp_sensor1</td>\n",
       "      <td>0</td>\n",
       "      <td>199</td>\n",
       "      <td>i_vz</td>\n",
       "      <td>i_b</td>\n",
       "      <td>3</td>\n",
       "    </tr>\n",
       "    <tr>\n",
       "      <th>2</th>\n",
       "      <td>16x16</td>\n",
       "      <td>exp_sensor1</td>\n",
       "      <td>0</td>\n",
       "      <td>198</td>\n",
       "      <td>i_b</td>\n",
       "      <td>i_vz</td>\n",
       "      <td>3</td>\n",
       "    </tr>\n",
       "    <tr>\n",
       "      <th>3</th>\n",
       "      <td>16x16</td>\n",
       "      <td>exp_sensor1</td>\n",
       "      <td>0</td>\n",
       "      <td>197</td>\n",
       "      <td>i_vz</td>\n",
       "      <td>i_vz</td>\n",
       "      <td>0</td>\n",
       "    </tr>\n",
       "    <tr>\n",
       "      <th>4</th>\n",
       "      <td>16x16</td>\n",
       "      <td>exp_sensor1</td>\n",
       "      <td>0</td>\n",
       "      <td>196</td>\n",
       "      <td>i_vz</td>\n",
       "      <td>i_vz</td>\n",
       "      <td>0</td>\n",
       "    </tr>\n",
       "  </tbody>\n",
       "</table>\n",
       "</div>"
      ]
     },
     "metadata": {},
     "execution_count": 6
    }
   ],
   "metadata": {}
  },
  {
   "cell_type": "code",
   "execution_count": 10,
   "source": [
    "\r\n",
    "now = \"785 6797 44\"\r\n",
    "save_path = f'../results/teste_{now}.txt'"
   ],
   "outputs": [],
   "metadata": {}
  },
  {
   "cell_type": "code",
   "execution_count": 11,
   "source": [
    "df.to_csv(save_path, sep = ';', header=None, index=None, mode='a')"
   ],
   "outputs": [],
   "metadata": {}
  }
 ],
 "metadata": {
  "kernelspec": {
   "name": "python3",
   "display_name": "Python 3.8.5 64-bit ('base': conda)"
  },
  "language_info": {
   "codemirror_mode": {
    "name": "ipython",
    "version": 3
   },
   "file_extension": ".py",
   "mimetype": "text/x-python",
   "name": "python",
   "nbconvert_exporter": "python",
   "pygments_lexer": "ipython3",
   "version": "3.8.5"
  },
  "interpreter": {
   "hash": "b3ba2566441a7c06988d0923437866b63cedc61552a5af99d1f4fb67d367b25f"
  }
 },
 "nbformat": 4,
 "nbformat_minor": 4
}