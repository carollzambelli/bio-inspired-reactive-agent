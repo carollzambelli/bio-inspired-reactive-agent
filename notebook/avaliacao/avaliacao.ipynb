{
 "cells": [
  {
   "cell_type": "code",
   "execution_count": 1,
   "metadata": {},
   "outputs": [],
   "source": [
    "import matplotlib.pyplot as plt\n",
    "import pandas as pd\n",
    "import numpy as np\n",
    "import os"
   ]
  },
  {
   "cell_type": "code",
   "execution_count": 2,
   "metadata": {},
   "outputs": [],
   "source": [
    "def resultados(energy, env, folder, agentes):\n",
    "    \n",
    "    finish_values = []\n",
    "    energy_values = []\n",
    "    \n",
    "    for file in os.listdir('../results/'+env+folder):\n",
    "        df = pd.read_csv('../results/'+env+folder+file, sep = \";\")\n",
    "        df.drop(columns=df.columns[0], axis=1, inplace=True)\n",
    "        df.columns = [\"env\",\"config\",\"exp\",\"energy\",\"current\",\"next_state\",\"next_move\"]\n",
    "        df['goal'] = np.where(df['next_state'] == 'i_gl', 1, 0)   \n",
    "        finish_values.append(round(df['goal'].sum()/100, 3))\n",
    "        energy_values.append(energy-df[df['goal']==1]['energy'])\n",
    "            \n",
    "    df_energy = pd.DataFrame(energy_values[0].describe()).reset_index()\\\n",
    "    .rename(columns = {\"energy\": agentes[0]})\n",
    "\n",
    "    for i in range(1,len(energy_values)):\n",
    "        tmp = pd.DataFrame(energy_values[i].describe()).reset_index()\\\n",
    "        .drop(\"index\", axis = 1)\\\n",
    "        .rename(columns = {\"energy\": agentes[i]})\n",
    "        df_energy = pd.concat([df_energy, tmp], axis = 1)\n",
    "    \n",
    "    '''\n",
    "    fig = plt.figure(figsize = (15, 8))\n",
    "    plt.bar(agentes,finish_values, color ='maroon',width = 0.4)\n",
    "    plt.ylabel(\"Percentual de finalizações\")\n",
    "    plt.title(\"Comparação de desempenho ambiente 08x08 \")\n",
    "\n",
    "    n = range(len(finish_values))\n",
    "    for i in range(len(finish_values)):\n",
    "        plt.annotate(str(finish_values[i]*100) + '%',\n",
    "                     xy=(n[i],finish_values[i]), ha='center', va='bottom')\n",
    "\n",
    "    plt.show()\n",
    "    '''\n",
    "        \n",
    "    return df_energy, finish_values"
   ]
  },
  {
   "cell_type": "markdown",
   "metadata": {},
   "source": [
    "#### Análise 8x8 - Alterando início para mais longe"
   ]
  },
  {
   "cell_type": "code",
   "execution_count": 3,
   "metadata": {},
   "outputs": [],
   "source": [
    "energy = 65\n",
    "env = '8x8/'\n",
    "folder = 'ini_longe/' #'ini_prox/'\n",
    "agentes = [\"visaoB_1\", \"visaoB_2\", \"visaoB_3\", \"visaoB_4\"]\n",
    "df_energy, finish_values = resultados(energy, env, folder, agentes)"
   ]
  },
  {
   "cell_type": "code",
   "execution_count": 4,
   "metadata": {},
   "outputs": [
    {
     "data": {
      "text/plain": [
       "[0.95, 0.96, 0.98, 1.0]"
      ]
     },
     "execution_count": 4,
     "metadata": {},
     "output_type": "execute_result"
    }
   ],
   "source": [
    "finish_values"
   ]
  },
  {
   "cell_type": "code",
   "execution_count": 5,
   "metadata": {},
   "outputs": [
    {
     "data": {
      "text/plain": [
       "index          mean\n",
       "visaoB_1    22.6842\n",
       "visaoB_2    18.9792\n",
       "visaoB_3     15.102\n",
       "visaoB_4      13.42\n",
       "Name: 1, dtype: object"
      ]
     },
     "execution_count": 5,
     "metadata": {},
     "output_type": "execute_result"
    }
   ],
   "source": [
    "df_energy.iloc[1]"
   ]
  },
  {
   "cell_type": "markdown",
   "metadata": {},
   "source": [
    "#### Análise 8x8 - Alterando início para mais próximo"
   ]
  },
  {
   "cell_type": "code",
   "execution_count": 6,
   "metadata": {},
   "outputs": [],
   "source": [
    "energy = 65\n",
    "env = '8x8/'\n",
    "folder = 'ini_prox/'\n",
    "agentes = [\"visaoB_1\", \"visaoB_2\", \"visaoB_3\", \"visaoB_4\"]\n",
    "df_energy, finish_values = resultados(energy, env, folder, agentes)"
   ]
  },
  {
   "cell_type": "code",
   "execution_count": 7,
   "metadata": {},
   "outputs": [
    {
     "data": {
      "text/plain": [
       "[0.93, 0.96, 1.0, 1.0]"
      ]
     },
     "execution_count": 7,
     "metadata": {},
     "output_type": "execute_result"
    }
   ],
   "source": [
    "finish_values"
   ]
  },
  {
   "cell_type": "code",
   "execution_count": 8,
   "metadata": {},
   "outputs": [
    {
     "data": {
      "text/plain": [
       "index          mean\n",
       "visaoB_1    25.7419\n",
       "visaoB_2    23.8542\n",
       "visaoB_3      16.68\n",
       "visaoB_4      12.72\n",
       "Name: 1, dtype: object"
      ]
     },
     "execution_count": 8,
     "metadata": {},
     "output_type": "execute_result"
    }
   ],
   "source": [
    "df_energy.iloc[1]"
   ]
  },
  {
   "cell_type": "markdown",
   "metadata": {},
   "source": [
    "#### Análise 10x10 - Alterando início para mais longe"
   ]
  },
  {
   "cell_type": "code",
   "execution_count": 9,
   "metadata": {},
   "outputs": [],
   "source": [
    "energy = 100\n",
    "env = '10x10/'\n",
    "folder = 'ini_longe/' #'ini_prox/'\n",
    "agentes = [\"visaoB_1\", \"visaoB_2\", \"visaoB_3\", \"visaoB_4\"]\n",
    "df_energy, finish_values = resultados(energy, env, folder, agentes)"
   ]
  },
  {
   "cell_type": "code",
   "execution_count": 10,
   "metadata": {},
   "outputs": [
    {
     "data": {
      "text/plain": [
       "[0.83, 0.9, 0.96, 0.96]"
      ]
     },
     "execution_count": 10,
     "metadata": {},
     "output_type": "execute_result"
    }
   ],
   "source": [
    "finish_values"
   ]
  },
  {
   "cell_type": "code",
   "execution_count": 11,
   "metadata": {},
   "outputs": [
    {
     "data": {
      "text/plain": [
       "index          mean\n",
       "visaoB_1     51.759\n",
       "visaoB_2       45.8\n",
       "visaoB_3      40.25\n",
       "visaoB_4    31.8958\n",
       "Name: 1, dtype: object"
      ]
     },
     "execution_count": 11,
     "metadata": {},
     "output_type": "execute_result"
    }
   ],
   "source": [
    "df_energy.iloc[1]"
   ]
  },
  {
   "cell_type": "markdown",
   "metadata": {},
   "source": [
    "#### Análise 10x10 - Alterando início para mais próximo"
   ]
  },
  {
   "cell_type": "code",
   "execution_count": 12,
   "metadata": {},
   "outputs": [],
   "source": [
    "energy = 100\n",
    "env = '10x10/'\n",
    "folder = 'ini_prox/'\n",
    "agentes = [\"visaoB_1\", \"visaoB_2\", \"visaoB_3\", \"visaoB_4\"]\n",
    "df_energy, finish_values = resultados(energy, env, folder, agentes)"
   ]
  },
  {
   "cell_type": "code",
   "execution_count": 13,
   "metadata": {},
   "outputs": [
    {
     "data": {
      "text/plain": [
       "[0.82, 0.9, 0.99, 1.0]"
      ]
     },
     "execution_count": 13,
     "metadata": {},
     "output_type": "execute_result"
    }
   ],
   "source": [
    "finish_values"
   ]
  },
  {
   "cell_type": "code",
   "execution_count": 14,
   "metadata": {},
   "outputs": [
    {
     "data": {
      "text/plain": [
       "index          mean\n",
       "visaoB_1    41.0732\n",
       "visaoB_2    39.4889\n",
       "visaoB_3     33.202\n",
       "visaoB_4      26.12\n",
       "Name: 1, dtype: object"
      ]
     },
     "execution_count": 14,
     "metadata": {},
     "output_type": "execute_result"
    }
   ],
   "source": [
    "df_energy.iloc[1]"
   ]
  },
  {
   "cell_type": "markdown",
   "metadata": {},
   "source": [
    "#### Análise 16x16 - Alterando início para mais longe"
   ]
  },
  {
   "cell_type": "code",
   "execution_count": 15,
   "metadata": {},
   "outputs": [],
   "source": [
    "energy = 200\n",
    "env = '16x16/'\n",
    "folder = 'ini_longe/' #'ini_prox/'\n",
    "agentes = [\"visaoB_1\", \"visaoB_2\", \"visaoB_3\", \"visaoB_4\"]\n",
    "df_energy, finish_values = resultados(energy, env, folder, agentes)"
   ]
  },
  {
   "cell_type": "code",
   "execution_count": 16,
   "metadata": {},
   "outputs": [
    {
     "data": {
      "text/plain": [
       "[0.49, 0.68, 0.67, 0.78]"
      ]
     },
     "execution_count": 16,
     "metadata": {},
     "output_type": "execute_result"
    }
   ],
   "source": [
    "finish_values"
   ]
  },
  {
   "cell_type": "code",
   "execution_count": 17,
   "metadata": {},
   "outputs": [
    {
     "data": {
      "text/plain": [
       "index          mean\n",
       "visaoB_1    122.878\n",
       "visaoB_2    111.353\n",
       "visaoB_3    103.567\n",
       "visaoB_4    98.8462\n",
       "Name: 1, dtype: object"
      ]
     },
     "execution_count": 17,
     "metadata": {},
     "output_type": "execute_result"
    }
   ],
   "source": [
    "df_energy.iloc[1]"
   ]
  },
  {
   "cell_type": "markdown",
   "metadata": {},
   "source": [
    "#### Análise 16x16 - Alterando início para mais próximo"
   ]
  },
  {
   "cell_type": "code",
   "execution_count": 22,
   "metadata": {},
   "outputs": [],
   "source": [
    "energy = 200\n",
    "env = '16x16/'\n",
    "folder = 'ini_prox/'\n",
    "agentes = [\"visaoB_1\", \"visaoB_2\", \"visaoB_3\", \"visaoB_4\"]\n",
    "df_energy, finish_values = resultados(energy, env, folder, agentes)"
   ]
  },
  {
   "cell_type": "code",
   "execution_count": 23,
   "metadata": {},
   "outputs": [
    {
     "data": {
      "text/plain": [
       "[0.49, 0.62, 0.72, 0.72]"
      ]
     },
     "execution_count": 23,
     "metadata": {},
     "output_type": "execute_result"
    }
   ],
   "source": [
    "finish_values"
   ]
  },
  {
   "cell_type": "code",
   "execution_count": 24,
   "metadata": {},
   "outputs": [
    {
     "data": {
      "text/plain": [
       "index          mean\n",
       "visaoB_1    111.551\n",
       "visaoB_2    110.839\n",
       "visaoB_3       96.5\n",
       "visaoB_4    89.6389\n",
       "Name: 1, dtype: object"
      ]
     },
     "execution_count": 24,
     "metadata": {},
     "output_type": "execute_result"
    }
   ],
   "source": [
    "df_energy.iloc[1]"
   ]
  },
  {
   "cell_type": "code",
   "execution_count": null,
   "metadata": {},
   "outputs": [],
   "source": []
  }
 ],
 "metadata": {
  "kernelspec": {
   "display_name": "Python 3 (ipykernel)",
   "language": "python",
   "name": "python3"
  },
  "language_info": {
   "codemirror_mode": {
    "name": "ipython",
    "version": 3
   },
   "file_extension": ".py",
   "mimetype": "text/x-python",
   "name": "python",
   "nbconvert_exporter": "python",
   "pygments_lexer": "ipython3",
   "version": "3.8.13"
  }
 },
 "nbformat": 4,
 "nbformat_minor": 4
}
