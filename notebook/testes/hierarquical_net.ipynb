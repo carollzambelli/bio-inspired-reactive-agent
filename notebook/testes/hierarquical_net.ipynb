{
 "cells": [
  {
   "cell_type": "code",
   "execution_count": 1,
   "id": "4fa7c5ea-2092-479a-b7b4-3423386a37ca",
   "metadata": {},
   "outputs": [],
   "source": [
    "from brian2 import * \n",
    "from matplotlib import pyplot as plt\n",
    "import json, socket, random\n",
    "from enum import Enum\n",
    "from topologia import topology, topology2, topology3"
   ]
  },
  {
   "cell_type": "code",
   "execution_count": 2,
   "id": "c6ac8a38-44d0-4d65-b465-a627177ef75d",
   "metadata": {},
   "outputs": [],
   "source": [
    "magic_network.schedule = ['start', 'groups', 'synapses', 'thresholds', 'resets', 'end'] \n",
    "t_run = 300*ms  \n",
    "Numero_de_run = 0  \n",
    "N = len(topology.keys()) \n",
    "vrest = -70.0*mV \n",
    "tau = 2*ms \n",
    "R = 300*Mohm\n",
    "\n",
    "eqs = '''\n",
    "    dv/dt = ((vrest - v) + R*I)/tau : volt (unless refractory)\n",
    "    I : amp\n",
    "    '''\n",
    "\n",
    "# Criação dos neurônios comuns (neurons)\n",
    "neurons = NeuronGroup(N, eqs, threshold='v>-60.0*mV', reset='v=vrest', refractory=3*ms, method='exact') #method='linear')\n",
    "neurons.v = -80*mV\n",
    "neurons.I = 0*pA \n",
    "\n",
    "indices = array([0,20]) # Qual neurônio dispara\n",
    "times = array([10,20])*ms # Tempo de disparo do neurônio\n",
    "prefs.codegen.target = \"numpy\"\n",
    "inp = SpikeGeneratorGroup(N, indices, times, when='before_synapses')\n",
    "\n",
    "Stimulus = Synapses(inp, neurons, on_pre='v_post += 11*mV')\n",
    "for item in range(N):\n",
    "    Stimulus.connect(i=item, j=item)\n",
    "    \n",
    "syn = Synapses(neurons, neurons, 'w : volt', on_pre='v_post += w')\n",
    "\n",
    "for item in range(N): \n",
    "    if (\"#\" + str(item)) in topology:\n",
    "        info_json = topology[(\"#\" + str(item))]\n",
    "        if info_json[\"syns\"]:\n",
    "            info_json_syns = info_json[\"syns\"]\n",
    "            n_connections = len(info_json_syns)\n",
    "            for xpto in range(n_connections):\n",
    "                liga_json = info_json_syns[xpto][0]\n",
    "                delay_json = info_json_syns[xpto][1]\n",
    "                w_json = info_json_syns[xpto][2]\n",
    "                syn.connect(i=item, j=liga_json) \n",
    "                syn.w[item, liga_json] = w_json*mV\n",
    "                syn.delay[item, liga_json] = delay_json*ms\n",
    "                \n",
    "state_mon = StateMonitor(neurons, 'v', record = True)\n",
    "spike_mon_neurons = SpikeMonitor(neurons)\n",
    "spike_mon_input = SpikeMonitor(inp)\n",
    "\n",
    "net = Network(neurons, inp, Stimulus, syn)\n",
    "net.add(state_mon)\n",
    "net.add(spike_mon_neurons)  \n",
    "net.add(spike_mon_input)\n",
    "net.run(t_run)"
   ]
  },
  {
   "cell_type": "code",
   "execution_count": 3,
   "id": "2cc36f4e-4827-4bd4-a550-e3dd9d0ead5f",
   "metadata": {},
   "outputs": [
    {
     "data": {
      "text/plain": [
       "(-5.0, 300.0)"
      ]
     },
     "execution_count": 3,
     "metadata": {},
     "output_type": "execute_result"
    },
    {
     "data": {
      "image/png": "[encoded data removed]",
      "text/plain": [
       "<Figure size 432x288 with 1 Axes>"
      ]
     },
     "metadata": {
      "needs_background": "light"
     },
     "output_type": "display_data"
    }
   ],
   "source": [
    "plot(spike_mon_neurons.t/ms, spike_mon_neurons.i, 'x', markersize = 5)\n",
    "xlabel('Tempo (ms)')\n",
    "ylabel('Índice do neurônio')\n",
    "xlim(-5, 300)"
   ]
  },
  {
   "cell_type": "code",
   "execution_count": 4,
   "id": "4b5d451e-5b54-4dc0-ba7c-210a7eabb1bf",
   "metadata": {},
   "outputs": [
    {
     "name": "stdout",
     "output_type": "stream",
     "text": [
      "20.099999999999998 70.7 121.2 171.70000000000002\n"
     ]
    }
   ],
   "source": [
    "print(\n",
    "    list(spike_mon_neurons.t/ms)[list(spike_mon_neurons.i).index(20)],\n",
    "    list(spike_mon_neurons.t/ms)[list(spike_mon_neurons.i).index(21)],\n",
    "    list(spike_mon_neurons.t/ms)[list(spike_mon_neurons.i).index(22)],\n",
    "    list(spike_mon_neurons.t/ms)[list(spike_mon_neurons.i).index(23)]\n",
    ")"
   ]
  },
  {
   "cell_type": "code",
   "execution_count": 5,
   "id": "6ee17ac4-917b-41ce-a1da-84f82a502349",
   "metadata": {},
   "outputs": [
    {
     "data": {
      "text/plain": [
       "array([ 10.1,  20.1,  20.2,  30.3,  40.4,  50.5,  60.6,  60.6,  70.7,\n",
       "        70.7,  70.7,  80.8,  80.8,  90.9,  90.9, 101. , 101. , 111.1,\n",
       "       111.1, 111.1, 121.2, 121.2, 121.2, 121.2, 131.3, 131.3, 131.3,\n",
       "       141.4, 141.4, 141.4, 151.5, 151.5, 151.5, 161.6, 161.6, 161.6,\n",
       "       161.6, 171.7, 171.7, 171.7, 171.7, 171.7, 181.8, 181.8, 181.8,\n",
       "       181.8, 191.9, 191.9, 191.9, 191.9, 202. , 202. , 202. , 202. ,\n",
       "       212.1, 212.1, 212.1, 212.1, 222.2, 222.2, 222.2, 222.2, 232.3,\n",
       "       232.3, 232.3, 232.3, 242.4, 242.4, 242.4, 242.4, 252.5, 252.5,\n",
       "       252.5, 252.5, 262.6, 262.6, 262.6, 262.6, 272.7, 272.7, 272.7,\n",
       "       272.7, 282.8, 282.8, 282.8, 282.8, 292.9, 292.9, 292.9, 292.9])"
      ]
     },
     "execution_count": 5,
     "metadata": {},
     "output_type": "execute_result"
    }
   ],
   "source": [
    "spike_mon_neurons.t/ms"
   ]
  },
  {
   "cell_type": "code",
   "execution_count": 6,
   "id": "5dca9539-c819-4794-800f-6812ba8aa037",
   "metadata": {},
   "outputs": [
    {
     "data": {
      "text/plain": [
       "1"
      ]
     },
     "execution_count": 6,
     "metadata": {},
     "output_type": "execute_result"
    }
   ],
   "source": [
    "list(spike_mon_neurons.i).index(20)"
   ]
  },
  {
   "cell_type": "code",
   "execution_count": 10,
   "id": "e014b3ba-8423-4477-bf01-437a39563cff",
   "metadata": {},
   "outputs": [
    {
     "data": {
      "text/plain": [
       "[7, 18, 34, 55, 75]"
      ]
     },
     "execution_count": 10,
     "metadata": {},
     "output_type": "execute_result"
    }
   ],
   "source": [
    "[i for i, x in enumerate(list(spike_mon_neurons.i)) if x == 5]"
   ]
  },
  {
   "cell_type": "code",
   "execution_count": 9,
   "id": "6f0bb616-79c6-4a32-a148-b651aba49745",
   "metadata": {},
   "outputs": [
    {
     "data": {
      "text/plain": [
       "array([ 0, 20,  1,  2,  3,  4,  0,  5,  1,  6])"
      ]
     },
     "execution_count": 9,
     "metadata": {},
     "output_type": "execute_result"
    }
   ],
   "source": [
    "spike_mon_neurons.i[:10]"
   ]
  },
  {
   "cell_type": "markdown",
   "id": "88731aea-6faf-435b-9aa9-cbd4dbed4143",
   "metadata": {
    "tags": []
   },
   "source": [
    "#### Teste da escolha aleatória"
   ]
  },
  {
   "cell_type": "code",
   "execution_count": null,
   "id": "25fd3c3c-fad8-4e47-8b95-bc5ec31f0099",
   "metadata": {},
   "outputs": [],
   "source": [
    "magic_network.schedule = ['start', 'groups', 'synapses', 'thresholds', 'resets', 'end'] \n",
    "t_run = 300*ms  \n",
    "Numero_de_run = 0  \n",
    "N = len(topology2.keys()) \n",
    "vrest = -70.0*mV \n",
    "tau = 2*ms \n",
    "R = 300*Mohm\n",
    "\n",
    "eqs = '''\n",
    "    dv/dt = ((vrest - v) + R*I)/tau : volt (unless refractory)\n",
    "    I : amp\n",
    "    '''\n",
    "\n",
    "# Criação dos neurônios comuns (neurons)\n",
    "neurons = NeuronGroup(N, eqs, threshold='v>-60.0*mV', reset='v=vrest', refractory=3*ms, method='exact') #method='linear')\n",
    "neurons.v = -80*mV\n",
    "neurons.I = 0*pA \n",
    "\n",
    "\n",
    "indices = array([0, 15]) # Qual neurônio dispara\n",
    "times = array([10, 15])*ms # Tempo de disparo do neurônio\n",
    "inp = SpikeGeneratorGroup(N, indices, times, when='before_synapses')\n",
    "\n",
    "Stimulus = Synapses(inp, neurons, on_pre='v_post += 11*mV')\n",
    "for item in range(N):\n",
    "    Stimulus.connect(i=item, j=item)\n",
    "    \n",
    "syn = Synapses(neurons, neurons, 'w : volt', on_pre='v_post += w')\n",
    "\n",
    "for item in range(N): \n",
    "    if (\"#\" + str(item)) in topology2:\n",
    "        info_json = topology2[(\"#\" + str(item))]\n",
    "        if info_json[\"syns\"]:\n",
    "            info_json_syns = info_json[\"syns\"]\n",
    "            n_connections = len(info_json_syns)\n",
    "            for xpto in range(n_connections):\n",
    "                liga_json = info_json_syns[xpto][0]\n",
    "                delay_json = info_json_syns[xpto][1]\n",
    "                w_json = info_json_syns[xpto][2]\n",
    "                syn.connect(i=item, j=liga_json) \n",
    "                syn.w[item, liga_json] = w_json*mV\n",
    "                syn.delay[item, liga_json] = delay_json*ms\n",
    "                \n",
    "state_mon = StateMonitor(neurons, 'v', record = True)\n",
    "spike_mon_neurons = SpikeMonitor(neurons)\n",
    "spike_mon_input = SpikeMonitor(inp)\n",
    "\n",
    "net = Network(neurons, inp, Stimulus, syn)\n",
    "net.add(state_mon)\n",
    "net.add(spike_mon_neurons)  \n",
    "net.add(spike_mon_input)\n",
    "net.run(t_run)"
   ]
  },
  {
   "cell_type": "code",
   "execution_count": 9,
   "id": "c6435a91-a620-4077-b6e9-03b365df2721",
   "metadata": {},
   "outputs": [
    {
     "data": {
      "text/plain": [
       "(-5.0, 300.0)"
      ]
     },
     "execution_count": 9,
     "metadata": {},
     "output_type": "execute_result"
    },
    {
     "data": {
      "image/png": "[encoded data removed]",
      "text/plain": [
       "<Figure size 432x288 with 1 Axes>"
      ]
     },
     "metadata": {
      "needs_background": "light"
     },
     "output_type": "display_data"
    }
   ],
   "source": [
    "plot(spike_mon_neurons.t/ms, spike_mon_neurons.i, 'x', markersize = 5)\n",
    "xlabel('Tempo (ms)')\n",
    "ylabel('Índice do neurônio')\n",
    "xlim(-5, 300)"
   ]
  },
  {
   "cell_type": "code",
   "execution_count": 10,
   "id": "3656ea32-045a-47f4-aa49-acf44b3855f0",
   "metadata": {},
   "outputs": [
    {
     "data": {
      "text/plain": [
       "{0, 1, 2, 3, 4, 5, 6, 7, 8, 9, 11, 12, 13, 14, 15, 16, 17, 18, 19, 20}"
      ]
     },
     "execution_count": 10,
     "metadata": {},
     "output_type": "execute_result"
    }
   ],
   "source": [
    "set(list(spike_mon_neurons.i))"
   ]
  },
  {
   "cell_type": "code",
   "execution_count": 11,
   "id": "78f59c1f-a421-434b-83a9-0f657e0a5acd",
   "metadata": {},
   "outputs": [
    {
     "data": {
      "text/plain": [
       "523"
      ]
     },
     "execution_count": 11,
     "metadata": {},
     "output_type": "execute_result"
    }
   ],
   "source": [
    "len(list(spike_mon_neurons.i))"
   ]
  },
  {
   "cell_type": "code",
   "execution_count": 12,
   "id": "17db4053-cb53-4372-9cc3-f944681d75ca",
   "metadata": {
    "collapsed": true,
    "jupyter": {
     "outputs_hidden": true
    },
    "tags": []
   },
   "outputs": [
    {
     "data": {
      "text/plain": [
       "[0,\n",
       " 16,\n",
       " 36,\n",
       " 56,\n",
       " 76,\n",
       " 96,\n",
       " 116,\n",
       " 136,\n",
       " 156,\n",
       " 176,\n",
       " 196,\n",
       " 216,\n",
       " 236,\n",
       " 256,\n",
       " 276,\n",
       " 296,\n",
       " 316,\n",
       " 336,\n",
       " 356,\n",
       " 376,\n",
       " 396,\n",
       " 416,\n",
       " 436,\n",
       " 456,\n",
       " 476,\n",
       " 496,\n",
       " 516]"
      ]
     },
     "execution_count": 12,
     "metadata": {},
     "output_type": "execute_result"
    }
   ],
   "source": [
    "[i for i, x in enumerate(list(spike_mon_neurons.i)) if x == 0]"
   ]
  },
  {
   "cell_type": "code",
   "execution_count": 13,
   "id": "2f8f4362-587b-40cf-8828-480aa0b44511",
   "metadata": {
    "collapsed": true,
    "jupyter": {
     "outputs_hidden": true
    },
    "tags": []
   },
   "outputs": [
    {
     "data": {
      "text/plain": [
       "array([ 10.1,  11.2,  12.3,  13.4,  14.5,  15.1,  15.6,  16.2,  16.7,\n",
       "        17.3,  17.8,  18.4,  18.9,  19.5,  20. ,  20.6,  21.1,  21.7,\n",
       "        22.2,  22.8,  23.3,  23.9,  24.4,  25. ,  25.5,  26.1,  26.6,\n",
       "        27.2,  27.7,  28.3,  28.8,  29.4,  29.9,  30.5,  31. ,  31.6,\n",
       "        32.1,  32.7,  33.2,  33.8,  34.3,  34.9,  35.4,  36. ,  36.5,\n",
       "        37.1,  37.6,  38.2,  38.7,  39.3,  39.8,  40.4,  40.9,  41.5,\n",
       "        42. ,  42.6,  43.1,  43.7,  44.2,  44.8,  45.3,  45.9,  46.4,\n",
       "        47. ,  47.5,  48.1,  48.6,  49.2,  49.7,  50.3,  50.8,  51.4,\n",
       "        51.9,  52.5,  53. ,  53.6,  54.1,  54.7,  55.2,  55.8,  56.3,\n",
       "        56.9,  57.4,  58. ,  58.5,  59.1,  59.6,  60.2,  60.7,  61.3,\n",
       "        61.8,  62.4,  62.9,  63.5,  64. ,  64.6,  65.1,  65.7,  66.2,\n",
       "        66.8,  67.3,  67.9,  68.4,  69. ,  69.5,  70.1,  70.6,  71.2,\n",
       "        71.7,  72.3,  72.8,  73.4,  73.9,  74.5,  75. ,  75.6,  76.1,\n",
       "        76.7,  77.2,  77.8,  78.3,  78.9,  79.4,  80. ,  80.5,  81.1,\n",
       "        81.6,  82.2,  82.7,  83.3,  83.8,  84.4,  84.9,  85.5,  86. ,\n",
       "        86.6,  87.1,  87.7,  88.2,  88.8,  89.3,  89.9,  90.4,  91. ,\n",
       "        91.5,  92.1,  92.6,  93.2,  93.7,  94.3,  94.8,  95.4,  95.9,\n",
       "        96.5,  97. ,  97.6,  98.1,  98.7,  99.2,  99.8, 100.3, 100.9,\n",
       "       101.4, 102. , 102.5, 103.1, 103.6, 104.2, 104.7, 105.3, 105.8,\n",
       "       106.4, 106.9, 107.5, 108. , 108.6, 109.1, 109.7, 110.2, 110.8,\n",
       "       111.3, 111.9, 112.4, 113. , 113.5, 114.1, 114.6, 115.2, 115.7,\n",
       "       116.3, 116.8, 117.4, 117.9, 118.5, 119. , 119.6, 120.1, 120.7,\n",
       "       121.2, 121.8, 122.3, 122.9, 123.4, 124. , 124.5, 125.1, 125.6,\n",
       "       126.2, 126.7, 127.3, 127.8, 128.4, 128.9, 129.5, 130. , 130.6,\n",
       "       131.1, 131.7, 132.2, 132.8, 133.3, 133.9, 134.4, 135. , 135.5,\n",
       "       136.1, 136.6, 137.2, 137.7, 138.3, 138.8, 139.4, 139.9, 140.5,\n",
       "       141. , 141.6, 142.1, 142.7, 143.2, 143.8, 144.3, 144.9, 145.4,\n",
       "       146. , 146.5, 147.1, 147.6, 148.2, 148.7, 149.3, 149.8, 150.4,\n",
       "       150.9, 151.5, 152. , 152.6, 153.1, 153.7, 154.2, 154.8, 155.3,\n",
       "       155.9, 156.4, 157. , 157.5, 158.1, 158.6, 159.2, 159.7, 160.3,\n",
       "       160.8, 161.4, 161.9, 162.5, 163. , 163.6, 164.1, 164.7, 165.2,\n",
       "       165.8, 166.3, 166.9, 167.4, 168. , 168.5, 169.1, 169.6, 170.2,\n",
       "       170.7, 171.3, 171.8, 172.4, 172.9, 173.5, 174. , 174.6, 175.1,\n",
       "       175.7, 176.2, 176.8, 177.3, 177.9, 178.4, 179. , 179.5, 180.1,\n",
       "       180.6, 181.2, 181.7, 182.3, 182.8, 183.4, 183.9, 184.5, 185. ,\n",
       "       185.6, 186.1, 186.7, 187.2, 187.8, 188.3, 188.9, 189.4, 190. ,\n",
       "       190.5, 191.1, 191.6, 192.2, 192.7, 193.3, 193.8, 194.4, 194.9,\n",
       "       195.5, 196. , 196.6, 197.1, 197.7, 198.2, 198.8, 199.3, 199.9,\n",
       "       200.4, 201. , 201.5, 202.1, 202.6, 203.2, 203.7, 204.3, 204.8,\n",
       "       205.4, 205.9, 206.5, 207. , 207.6, 208.1, 208.7, 209.2, 209.8,\n",
       "       210.3, 210.9, 211.4, 212. , 212.5, 213.1, 213.6, 214.2, 214.7,\n",
       "       215.3, 215.8, 216.4, 216.9, 217.5, 218. , 218.6, 219.1, 219.7,\n",
       "       220.2, 220.8, 221.3, 221.9, 222.4, 223. , 223.5, 224.1, 224.6,\n",
       "       225.2, 225.7, 226.3, 226.8, 227.4, 227.9, 228.5, 229. , 229.6,\n",
       "       230.1, 230.7, 231.2, 231.8, 232.3, 232.9, 233.4, 234. , 234.5,\n",
       "       235.1, 235.6, 236.2, 236.7, 237.3, 237.8, 238.4, 238.9, 239.5,\n",
       "       240. , 240.6, 241.1, 241.7, 242.2, 242.8, 243.3, 243.9, 244.4,\n",
       "       245. , 245.5, 246.1, 246.6, 247.2, 247.7, 248.3, 248.8, 249.4,\n",
       "       249.9, 250.5, 251. , 251.6, 252.1, 252.7, 253.2, 253.8, 254.3,\n",
       "       254.9, 255.4, 256. , 256.5, 257.1, 257.6, 258.2, 258.7, 259.3,\n",
       "       259.8, 260.4, 260.9, 261.5, 262. , 262.6, 263.1, 263.7, 264.2,\n",
       "       264.8, 265.3, 265.9, 266.4, 267. , 267.5, 268.1, 268.6, 269.2,\n",
       "       269.7, 270.3, 270.8, 271.4, 271.9, 272.5, 273. , 273.6, 274.1,\n",
       "       274.7, 275.2, 275.8, 276.3, 276.9, 277.4, 278. , 278.5, 279.1,\n",
       "       279.6, 280.2, 280.7, 281.3, 281.8, 282.4, 282.9, 283.5, 284. ,\n",
       "       284.6, 285.1, 285.7, 286.2, 286.8, 287.3, 287.9, 288.4, 289. ,\n",
       "       289.5, 290.1, 290.6, 291.2, 291.7, 292.3, 292.8, 293.4, 293.9,\n",
       "       294.5, 295. , 295.6, 296.1, 296.7, 297.2, 297.8, 298.3, 298.9,\n",
       "       299.4])"
      ]
     },
     "execution_count": 13,
     "metadata": {},
     "output_type": "execute_result"
    }
   ],
   "source": [
    "spike_mon_neurons.t/ms"
   ]
  },
  {
   "cell_type": "code",
   "execution_count": 14,
   "id": "c00c76de-01c5-4658-aba1-3b551768c612",
   "metadata": {
    "collapsed": true,
    "jupyter": {
     "outputs_hidden": true
    },
    "tags": []
   },
   "outputs": [
    {
     "data": {
      "text/plain": [
       "<spikemonitor_2.i: array([ 0,  1,  2,  3,  4, 15,  5, 16,  6, 17,  7, 18,  8, 19,  9, 20,  0,\n",
       "       11,  1, 12,  2, 13,  3, 14,  4, 15,  5, 16,  6, 17,  7, 18,  8, 19,\n",
       "        9, 20,  0, 11,  1, 12,  2, 13,  3, 14,  4, 15,  5, 16,  6, 17,  7,\n",
       "       18,  8, 19,  9, 20,  0, 11,  1, 12,  2, 13,  3, 14,  4, 15,  5, 16,\n",
       "        6, 17,  7, 18,  8, 19,  9, 20,  0, 11,  1, 12,  2, 13,  3, 14,  4,\n",
       "       15,  5, 16,  6, 17,  7, 18,  8, 19,  9, 20,  0, 11,  1, 12,  2, 13,\n",
       "        3, 14,  4, 15,  5, 16,  6, 17,  7, 18,  8, 19,  9, 20,  0, 11,  1,\n",
       "       12,  2, 13,  3, 14,  4, 15,  5, 16,  6, 17,  7, 18,  8, 19,  9, 20,\n",
       "        0, 11,  1, 12,  2, 13,  3, 14,  4, 15,  5, 16,  6, 17,  7, 18,  8,\n",
       "       19,  9, 20,  0, 11,  1, 12,  2, 13,  3, 14,  4, 15,  5, 16,  6, 17,\n",
       "        7, 18,  8, 19,  9, 20,  0, 11,  1, 12,  2, 13,  3, 14,  4, 15,  5,\n",
       "       16,  6, 17,  7, 18,  8, 19,  9, 20,  0, 11,  1, 12,  2, 13,  3, 14,\n",
       "        4, 15,  5, 16,  6, 17,  7, 18,  8, 19,  9, 20,  0, 11,  1, 12,  2,\n",
       "       13,  3, 14,  4, 15,  5, 16,  6, 17,  7, 18,  8, 19,  9, 20,  0, 11,\n",
       "        1, 12,  2, 13,  3, 14,  4, 15,  5, 16,  6, 17,  7, 18,  8, 19,  9,\n",
       "       20,  0, 11,  1, 12,  2, 13,  3, 14,  4, 15,  5, 16,  6, 17,  7, 18,\n",
       "        8, 19,  9, 20,  0, 11,  1, 12,  2, 13,  3, 14,  4, 15,  5, 16,  6,\n",
       "       17,  7, 18,  8, 19,  9, 20,  0, 11,  1, 12,  2, 13,  3, 14,  4, 15,\n",
       "        5, 16,  6, 17,  7, 18,  8, 19,  9, 20,  0, 11,  1, 12,  2, 13,  3,\n",
       "       14,  4, 15,  5, 16,  6, 17,  7, 18,  8, 19,  9, 20,  0, 11,  1, 12,\n",
       "        2, 13,  3, 14,  4, 15,  5, 16,  6, 17,  7, 18,  8, 19,  9, 20,  0,\n",
       "       11,  1, 12,  2, 13,  3, 14,  4, 15,  5, 16,  6, 17,  7, 18,  8, 19,\n",
       "        9, 20,  0, 11,  1, 12,  2, 13,  3, 14,  4, 15,  5, 16,  6, 17,  7,\n",
       "       18,  8, 19,  9, 20,  0, 11,  1, 12,  2, 13,  3, 14,  4, 15,  5, 16,\n",
       "        6, 17,  7, 18,  8, 19,  9, 20,  0, 11,  1, 12,  2, 13,  3, 14,  4,\n",
       "       15,  5, 16,  6, 17,  7, 18,  8, 19,  9, 20,  0, 11,  1, 12,  2, 13,\n",
       "        3, 14,  4, 15,  5, 16,  6, 17,  7, 18,  8, 19,  9, 20,  0, 11,  1,\n",
       "       12,  2, 13,  3, 14,  4, 15,  5, 16,  6, 17,  7, 18,  8, 19,  9, 20,\n",
       "        0, 11,  1, 12,  2, 13,  3, 14,  4, 15,  5, 16,  6, 17,  7, 18,  8,\n",
       "       19,  9, 20,  0, 11,  1, 12,  2, 13,  3, 14,  4, 15,  5, 16,  6, 17,\n",
       "        7, 18,  8, 19,  9, 20,  0, 11,  1, 12,  2, 13,  3])>"
      ]
     },
     "execution_count": 14,
     "metadata": {},
     "output_type": "execute_result"
    }
   ],
   "source": [
    "spike_mon_neurons.i"
   ]
  },
  {
   "cell_type": "markdown",
   "id": "bae99c99-aaf6-4c93-93e7-912758c8c04d",
   "metadata": {
    "tags": []
   },
   "source": [
    "#### Testando o neurônio disparar ele mesmo"
   ]
  },
  {
   "cell_type": "code",
   "execution_count": 10,
   "id": "4b8ef868-5b18-4748-bb53-5930ff2c8bdf",
   "metadata": {},
   "outputs": [],
   "source": [
    "magic_network.schedule = ['start', 'groups', 'synapses', 'thresholds', 'resets', 'end'] \n",
    "t_run = 500*ms  \n",
    "Numero_de_run = 0  \n",
    "N = len(topology3.keys()) \n",
    "vrest = -70.0*mV \n",
    "tau = 2*ms \n",
    "R = 300*Mohm\n",
    "\n",
    "eqs = '''\n",
    "    dv/dt = ((vrest - v) + R*I)/tau : volt (unless refractory)\n",
    "    I : amp\n",
    "    '''\n",
    "\n",
    "# Criação dos neurônios comuns (neurons)\n",
    "neurons = NeuronGroup(N, eqs, threshold='v>-60.0*mV', reset='v=vrest', refractory=3*ms, method='exact') #method='linear')\n",
    "neurons.v = -80*mV\n",
    "neurons.I = 0*pA \n",
    "\n",
    "\n",
    "indices = array([0]) # Qual neurônio dispara\n",
    "times = array([10])*ms # Tempo de disparo do neurônio\n",
    "inp = SpikeGeneratorGroup(N, indices, times, when='before_synapses')\n",
    "\n",
    "Stimulus = Synapses(inp, neurons, on_pre='v_post += 11*mV')\n",
    "for item in range(N):\n",
    "    Stimulus.connect(i=item, j=item)\n",
    "    \n",
    "syn = Synapses(neurons, neurons, 'w : volt', on_pre='v_post += w')\n",
    "\n",
    "for item in range(N): \n",
    "    if (\"#\" + str(item)) in topology3:\n",
    "        info_json = topology3[(\"#\" + str(item))]\n",
    "        if info_json[\"syns\"]:\n",
    "            info_json_syns = info_json[\"syns\"]\n",
    "            n_connections = len(info_json_syns)\n",
    "            for xpto in range(n_connections):\n",
    "                liga_json = info_json_syns[xpto][0]\n",
    "                delay_json = info_json_syns[xpto][1]\n",
    "                w_json = info_json_syns[xpto][2]\n",
    "                syn.connect(i=item, j=liga_json) \n",
    "                syn.w[item, liga_json] = w_json*mV\n",
    "                syn.delay[item, liga_json] = delay_json*ms\n",
    "                \n",
    "state_mon = StateMonitor(neurons, 'v', record = True)\n",
    "spike_mon_neurons = SpikeMonitor(neurons)\n",
    "spike_mon_input = SpikeMonitor(inp)\n",
    "\n",
    "net = Network(neurons, inp, Stimulus, syn)\n",
    "net.add(state_mon)\n",
    "net.add(spike_mon_neurons)  \n",
    "net.add(spike_mon_input)\n",
    "net.run(t_run)"
   ]
  },
  {
   "cell_type": "code",
   "execution_count": 11,
   "id": "2d788ae5-cba0-44e3-b322-51fe1804c758",
   "metadata": {},
   "outputs": [
    {
     "data": {
      "text/plain": [
       "(-5.0, 500.0)"
      ]
     },
     "execution_count": 11,
     "metadata": {},
     "output_type": "execute_result"
    },
    {
     "data": {
      "image/png": "[encoded data removed]",
      "text/plain": [
       "<Figure size 432x288 with 1 Axes>"
      ]
     },
     "metadata": {
      "needs_background": "light"
     },
     "output_type": "display_data"
    }
   ],
   "source": [
    "plot(spike_mon_neurons.t/ms, spike_mon_neurons.i, 'x', markersize = 5)\n",
    "xlabel('Tempo (ms)')\n",
    "ylabel('Índice do neurônio')\n",
    "xlim(-5, 500)"
   ]
  },
  {
   "cell_type": "code",
   "execution_count": 5,
   "id": "9db8daed-6598-4d4b-a0d1-854be2e9da13",
   "metadata": {},
   "outputs": [
    {
     "data": {
      "text/plain": [
       "array([ 10.1,  20.2,  30.3,  40.4,  50.5,  60.6,  60.6,  60.6,  70.7,\n",
       "        70.7,  80.8,  80.8,  90.9,  90.9, 101. , 101. , 110.7, 111.1,\n",
       "       111.1, 121.2, 121.2, 131.3, 131.3, 141.4, 141.4, 151.5, 151.5,\n",
       "       161.2, 161.6, 161.6, 171.7, 171.7, 181.8, 181.8, 191.9, 191.9])"
      ]
     },
     "execution_count": 5,
     "metadata": {},
     "output_type": "execute_result"
    }
   ],
   "source": [
    "spike_mon_neurons.t/ms"
   ]
  },
  {
   "cell_type": "code",
   "execution_count": null,
   "id": "50e92f97-0b43-4bae-9ed0-28645d16a16b",
   "metadata": {},
   "outputs": [
    {
     "data": {
      "text/plain": [
       "<spikemonitor.i: array([ 0,  1,  2,  3,  4,  0,  5, 10,  1,  6,  2,  7,  3,  8,  4,  9, 10,\n",
       "        0,  5,  1,  6,  2,  7,  3,  8,  4,  9, 10,  0,  5,  1,  6,  2,  7,\n",
       "        3,  8])>"
      ]
     },
     "execution_count": 6,
     "metadata": {},
     "output_type": "execute_result"
    }
   ],
   "source": [
    "spike_mon_neurons.i"
   ]
  },
  {
   "cell_type": "code",
   "execution_count": null,
   "id": "a8d7717e",
   "metadata": {},
   "outputs": [],
   "source": []
  },
  {
   "cell_type": "code",
   "execution_count": 2,
   "id": "c64d099a",
   "metadata": {},
   "outputs": [],
   "source": [
    "neuron_num = {\n",
    "    \"Nr_nothing_f\":21,\n",
    "    \"Nr_breeze_f\":22,\n",
    "    \"Nr_flash_f\":23,\n",
    "    \"Nr_stench_f\":24,\n",
    "    \"Nr_breezeflash_f\":25,\n",
    "    \"Nr_breezestench_f\":26,\n",
    "    \"Nr_breezeflashstench_f\":27,\n",
    "    \"Nr_flashstench_f\":28,\n",
    "    \"Nr_danger_f\":29,\n",
    "    \"Nr_obstruction_f\":30,\n",
    "    \"Nr_goal_f\":31,\n",
    "    \"Nr_initial_f\":32,\n",
    "    \"Nr_nothing_r\":33,\n",
    "    \"Nr_breeze_r\":34,\n",
    "    \"Nr_flash_r\":35,\n",
    "    \"Nr_stench_r\":36,\n",
    "    \"Nr_breezeflash_r\":37,\n",
    "    \"Nr_breezestench_r\":38,\n",
    "    \"Nr_breezeflashstench_r\":39,\n",
    "    \"Nr_flashstench_r\":40,\n",
    "    \"Nr_danger_r\":41,\n",
    "    \"Nr_obstruction_r\":42,\n",
    "    \"Nr_goal_r\":43,\n",
    "    \"Nr_initial_r\":44,\n",
    "    \"Nr_nothing_l\":45,\n",
    "    \"Nr_breeze_l\":46,\n",
    "    \"Nr_flash_l\":47,\n",
    "    \"Nr_stench_l\":48,\n",
    "    \"Nr_breezeflash_l\":49,\n",
    "    \"Nr_breezestench_l\":50,\n",
    "    \"Nr_breezeflashstench_l\":51,\n",
    "    \"Nr_flashstench_l\":52,\n",
    "    \"Nr_danger_l\":53,\n",
    "    \"Nr_obstruction_l\":54,\n",
    "    \"Nr_goal_l\":55,\n",
    "    \"Nr_initial_l\":56,\n",
    "    \"Nr_nothing_b\":57,\n",
    "    \"Nr_breeze_b\":58,\n",
    "    \"Nr_flash_b\":59,\n",
    "    \"Nr_stench_b\":60,\n",
    "    \"Nr_breezeflash_b\":61,\n",
    "    \"Nr_breezestench_b\":62,\n",
    "    \"Nr_breezeflashstench_b\":63,\n",
    "    \"Nr_flashstench_b\":64,\n",
    "    \"Nr_danger_b\":65,\n",
    "    \"Nr_obstruction_b\":66,\n",
    "    \"Nr_goal_b\":67,\n",
    "    \"Nr_initial_b\":68,\n",
    "    \"Nr_recuar\":69,\n",
    "    \"Nr_avaçar\":70,\n",
    "    \"Nr_perseguir_f\":71,\n",
    "    \"Nr_perseguir_l\":72,\n",
    "    \"Nr_perseguir_r\":73,\n",
    "    \"Nr_left_right\": 74,\n",
    "    \"Nr_front_left\": 75,\n",
    "    \"Nr_right_front\": 76,\n",
    "    \"Nr_random_all\":77,\n",
    "    \"Nr_movefront\":78,\n",
    "    \"Nr_moveleft\":79,\n",
    "    \"Nr_moveright\":80,\n",
    "    \"Nr_moveback\":81\n",
    "}"
   ]
  },
  {
   "cell_type": "code",
   "execution_count": 5,
   "id": "69a6675f",
   "metadata": {},
   "outputs": [],
   "source": [
    "import pandas as pd"
   ]
  },
  {
   "cell_type": "code",
   "execution_count": null,
   "id": "1fd42162",
   "metadata": {},
   "outputs": [],
   "source": [
    "list(neuron_num.keys())\n",
    "list(neuron_num.values())"
   ]
  },
  {
   "cell_type": "code",
   "execution_count": 12,
   "id": "14442920",
   "metadata": {},
   "outputs": [],
   "source": [
    "s = pd.DataFrame(list(zip(list(neuron_num.keys()), list(neuron_num.values()))),\n",
    "              columns=['neurônio','número'])"
   ]
  },
  {
   "cell_type": "code",
   "execution_count": 13,
   "id": "62da2ed0",
   "metadata": {},
   "outputs": [],
   "source": [
    "s.to_csv(\"de-para.csv\")"
   ]
  },
  {
   "cell_type": "code",
   "execution_count": null,
   "id": "d78378bf",
   "metadata": {},
   "outputs": [],
   "source": []
  }
 ],
 "metadata": {
  "kernelspec": {
   "display_name": "Python 3.8.13 ('base')",
   "language": "python",
   "name": "python3"
  },
  "language_info": {
   "codemirror_mode": {
    "name": "ipython",
    "version": 3
   },
   "file_extension": ".py",
   "mimetype": "text/x-python",
   "name": "python",
   "nbconvert_exporter": "python",
   "pygments_lexer": "ipython3",
   "version": "3.8.13"
  },
  "vscode": {
   "interpreter": {
    "hash": "045dbbfee8521652668a5853801955dab1b7201bb4d6ea1110fb259a44495ff8"
   }
  }
 },
 "nbformat": 4,
 "nbformat_minor": 5
}
