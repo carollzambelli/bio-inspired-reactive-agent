{
 "cells": [
  {
   "cell_type": "code",
   "execution_count": 1,
   "metadata": {},
   "outputs": [],
   "source": [
    "import matplotlib.pyplot as plt\n",
    "import pandas as pd\n",
    "import numpy as np"
   ]
  },
  {
   "cell_type": "code",
   "execution_count": 2,
   "metadata": {},
   "outputs": [],
   "source": [
    "agente1 = pd.read_csv('../results/8x8/exp_agent1.txt', sep = \";\")\n",
    "agente2_1 = pd.read_csv('../results/8x8/exp_agent2-1.txt', sep = \";\")\n",
    "agente2_2 = pd.read_csv('../results/8x8/exp_agent2-2.txt', sep = \";\")\n",
    "agente3_1 = pd.read_csv('../results/8x8/exp_agent3-1.txt', sep = \";\")\n",
    "agente3_2 = pd.read_csv('../results/8x8/exp_agent3-2.txt', sep = \";\")\n",
    "agente3_3 = pd.read_csv('../results/8x8/exp_agent3-3.txt', sep = \";\")\n",
    "agente3_4 = pd.read_csv('../results/8x8/exp_agent3-4.txt', sep = \";\")\n",
    "agente3_1b = pd.read_csv('../results/8x8/exp_agent3-1b.txt', sep = \";\")\n",
    "agente3_2b = pd.read_csv('../results/8x8/exp_agent3-2b.txt', sep = \";\")\n",
    "agente3_3b = pd.read_csv('../results/8x8/exp_agent3-3b.txt', sep = \";\")\n",
    "agente3_4b = pd.read_csv('../results/8x8/exp_agent3-4b.txt', sep = \";\")"
   ]
  },
  {
   "cell_type": "code",
   "execution_count": 3,
   "metadata": {},
   "outputs": [],
   "source": [
    "agente1['goal'] = np.where(agente1['next_state'] == 'i_gl', 1, 0)\n",
    "agente2_1['goal'] = np.where(agente2_1['next_state'] == 'i_gl', 1, 0)\n",
    "agente2_2['goal'] = np.where(agente2_2['next_state'] == 'i_gl', 1, 0)\n",
    "agente3_1['goal'] = np.where(agente3_1['next_state'] == 'i_gl', 1, 0)\n",
    "agente3_2['goal'] = np.where(agente3_2['next_state'] == 'i_gl', 1, 0)\n",
    "agente3_3['goal'] = np.where(agente3_3['next_state'] == 'i_gl', 1, 0)\n",
    "agente3_4['goal'] = np.where(agente3_4['next_state'] == 'i_gl', 1, 0)\n",
    "agente3_1b['goal'] = np.where(agente3_1b['next_state'] == 'i_gl', 1, 0)\n",
    "agente3_2b['goal'] = np.where(agente3_2b['next_state'] == 'i_gl', 1, 0)\n",
    "agente3_3b['goal'] = np.where(agente3_3b['next_state'] == 'i_gl', 1, 0)\n",
    "agente3_4b['goal'] = np.where(agente3_4b['next_state'] == 'i_gl', 1, 0)"
   ]
  },
  {
   "cell_type": "code",
   "execution_count": 4,
   "metadata": {},
   "outputs": [
    {
     "data": {
      "text/html": [
       "<div>\n",
       "<style scoped>\n",
       "    .dataframe tbody tr th:only-of-type {\n",
       "        vertical-align: middle;\n",
       "    }\n",
       "\n",
       "    .dataframe tbody tr th {\n",
       "        vertical-align: top;\n",
       "    }\n",
       "\n",
       "    .dataframe thead th {\n",
       "        text-align: right;\n",
       "    }\n",
       "</style>\n",
       "<table border=\"1\" class=\"dataframe\">\n",
       "  <thead>\n",
       "    <tr style=\"text-align: right;\">\n",
       "      <th></th>\n",
       "      <th>env</th>\n",
       "      <th>config</th>\n",
       "      <th>exp</th>\n",
       "      <th>energy</th>\n",
       "      <th>current</th>\n",
       "      <th>next_state</th>\n",
       "      <th>next_move</th>\n",
       "      <th>goal</th>\n",
       "    </tr>\n",
       "  </thead>\n",
       "  <tbody>\n",
       "    <tr>\n",
       "      <th>0</th>\n",
       "      <td>8x8</td>\n",
       "      <td>exp_agent2-1</td>\n",
       "      <td>0</td>\n",
       "      <td>65</td>\n",
       "      <td>i_ini</td>\n",
       "      <td>i_vz</td>\n",
       "      <td>0</td>\n",
       "      <td>0</td>\n",
       "    </tr>\n",
       "    <tr>\n",
       "      <th>0</th>\n",
       "      <td>8x8</td>\n",
       "      <td>exp_agent2-1</td>\n",
       "      <td>0</td>\n",
       "      <td>64</td>\n",
       "      <td>i_vz</td>\n",
       "      <td>i_ini</td>\n",
       "      <td>2</td>\n",
       "      <td>0</td>\n",
       "    </tr>\n",
       "    <tr>\n",
       "      <th>0</th>\n",
       "      <td>8x8</td>\n",
       "      <td>exp_agent2-1</td>\n",
       "      <td>0</td>\n",
       "      <td>63</td>\n",
       "      <td>i_ini</td>\n",
       "      <td>i_vz</td>\n",
       "      <td>0</td>\n",
       "      <td>0</td>\n",
       "    </tr>\n",
       "    <tr>\n",
       "      <th>0</th>\n",
       "      <td>8x8</td>\n",
       "      <td>exp_agent2-1</td>\n",
       "      <td>0</td>\n",
       "      <td>62</td>\n",
       "      <td>i_vz</td>\n",
       "      <td>i_ini</td>\n",
       "      <td>2</td>\n",
       "      <td>0</td>\n",
       "    </tr>\n",
       "    <tr>\n",
       "      <th>0</th>\n",
       "      <td>8x8</td>\n",
       "      <td>exp_agent2-1</td>\n",
       "      <td>0</td>\n",
       "      <td>61</td>\n",
       "      <td>i_ini</td>\n",
       "      <td>i_vz</td>\n",
       "      <td>0</td>\n",
       "      <td>0</td>\n",
       "    </tr>\n",
       "  </tbody>\n",
       "</table>\n",
       "</div>"
      ],
      "text/plain": [
       "   env        config  exp  energy current next_state  next_move  goal\n",
       "0  8x8  exp_agent2-1    0      65   i_ini       i_vz          0     0\n",
       "0  8x8  exp_agent2-1    0      64    i_vz      i_ini          2     0\n",
       "0  8x8  exp_agent2-1    0      63   i_ini       i_vz          0     0\n",
       "0  8x8  exp_agent2-1    0      62    i_vz      i_ini          2     0\n",
       "0  8x8  exp_agent2-1    0      61   i_ini       i_vz          0     0"
      ]
     },
     "execution_count": 4,
     "metadata": {},
     "output_type": "execute_result"
    }
   ],
   "source": [
    "agente2_1.head()"
   ]
  },
  {
   "cell_type": "code",
   "execution_count": 5,
   "metadata": {},
   "outputs": [
    {
     "data": {
      "text/plain": [
       "array(['i_vz', 'i_b', 'i_bs', 'i_s', 'i_bf', 'i_gl', 'i_f', 'i_ini'],\n",
       "      dtype=object)"
      ]
     },
     "execution_count": 5,
     "metadata": {},
     "output_type": "execute_result"
    }
   ],
   "source": [
    "agente3_4['next_state'].unique()"
   ]
  },
  {
   "cell_type": "code",
   "execution_count": 21,
   "metadata": {},
   "outputs": [],
   "source": [
    "agente = ['dummy', 'covarde-1', 'covarde-2', 'visao-1a',\n",
    "          'visao-1b', 'visao-2a', 'visao-2b', 'visao-3a',\n",
    "          'visao-3b', 'visao-4a', 'visao-4b']"
   ]
  },
  {
   "cell_type": "code",
   "execution_count": 22,
   "metadata": {},
   "outputs": [
    {
     "data": {
      "image/png": "[encoded data removed]",
      "text/plain": [
       "<Figure size 1080x576 with 1 Axes>"
      ]
     },
     "metadata": {
      "needs_background": "light"
     },
     "output_type": "display_data"
    }
   ],
   "source": [
    "fig = plt.figure(figsize = (15, 8))\n",
    "\n",
    "values = [\n",
    "    round(agente1['goal'].sum()/50, 3),\n",
    "    round(agente2_2['goal'].sum()/50, 3),\n",
    "    round(agente2_1['goal'].sum()/50, 3),\n",
    "    round(agente3_1['goal'].sum()/50, 3),\n",
    "    round(agente3_1b['goal'].sum()/50, 3),\n",
    "    round(agente3_2['goal'].sum()/50, 3),\n",
    "    round(agente3_2b['goal'].sum()/50, 3),\n",
    "    round(agente3_3['goal'].sum()/50, 3),\n",
    "    round(agente3_3b['goal'].sum()/50, 3),\n",
    "    round(agente3_4['goal'].sum()/50, 3),\n",
    "    round(agente3_4b['goal'].sum()/50, 3)\n",
    "]\n",
    "\n",
    "# creating the bar plot\n",
    "plt.bar(agente,values, color ='maroon',width = 0.4)\n",
    " \n",
    "#plt.xlabel(\"Label agente\")\n",
    "plt.ylabel(\"Percentual de finalizações\")\n",
    "plt.title(\"Comparação de desempenho ambiente 08x08 \")\n",
    "\n",
    "n = range(len(values))\n",
    "for i in range(len(values)):\n",
    "    plt.annotate(str(values[i]*100) + '%', xy=(n[i],values[i]), ha='center', va='bottom')\n",
    "\n",
    "plt.show()"
   ]
  },
  {
   "cell_type": "code",
   "execution_count": 83,
   "metadata": {},
   "outputs": [],
   "source": [
    "energy = 65\n",
    "values = [\n",
    "    (energy-agente1[agente1['goal']==1]['energy']),\n",
    "    (energy-agente2_2[agente2_2['goal']==1]['energy']),\n",
    "    (energy-agente2_1[agente2_1['goal']==1]['energy']),\n",
    "    (energy-agente3_1[agente3_1['goal']==1]['energy']),\n",
    "    (energy-agente3_1b[agente3_1b['goal']==1]['energy']),\n",
    "    (energy-agente3_2[agente3_2['goal']==1]['energy']),\n",
    "    (energy-agente3_2b[agente3_2b['goal']==1]['energy']),\n",
    "    (energy-agente3_3[agente3_3['goal']==1]['energy']),\n",
    "    (energy-agente3_3b[agente3_3b['goal']==1]['energy']),\n",
    "    (energy-agente3_4[agente3_4['goal']==1]['energy']),\n",
    "    (energy-agente3_4b[agente3_4b['goal']==1]['energy'])\n",
    "]"
   ]
  },
  {
   "cell_type": "code",
   "execution_count": 84,
   "metadata": {},
   "outputs": [
    {
     "data": {
      "text/html": [
       "<div>\n",
       "<style scoped>\n",
       "    .dataframe tbody tr th:only-of-type {\n",
       "        vertical-align: middle;\n",
       "    }\n",
       "\n",
       "    .dataframe tbody tr th {\n",
       "        vertical-align: top;\n",
       "    }\n",
       "\n",
       "    .dataframe thead th {\n",
       "        text-align: right;\n",
       "    }\n",
       "</style>\n",
       "<table border=\"1\" class=\"dataframe\">\n",
       "  <thead>\n",
       "    <tr style=\"text-align: right;\">\n",
       "      <th></th>\n",
       "      <th>index</th>\n",
       "      <th>dummy</th>\n",
       "      <th>covarde-1</th>\n",
       "      <th>covarde-2</th>\n",
       "      <th>visao-1a</th>\n",
       "      <th>visao-1b</th>\n",
       "      <th>visao-2a</th>\n",
       "      <th>visao-2b</th>\n",
       "      <th>visao-3a</th>\n",
       "      <th>visao-3b</th>\n",
       "      <th>visao-4a</th>\n",
       "      <th>visao-4b</th>\n",
       "    </tr>\n",
       "  </thead>\n",
       "  <tbody>\n",
       "    <tr>\n",
       "      <th>0</th>\n",
       "      <td>count</td>\n",
       "      <td>1.0</td>\n",
       "      <td>0.0</td>\n",
       "      <td>2.000000</td>\n",
       "      <td>26.000000</td>\n",
       "      <td>44.000000</td>\n",
       "      <td>36.000000</td>\n",
       "      <td>48.000000</td>\n",
       "      <td>44.000000</td>\n",
       "      <td>50.000000</td>\n",
       "      <td>48.000000</td>\n",
       "      <td>50.000000</td>\n",
       "    </tr>\n",
       "    <tr>\n",
       "      <th>1</th>\n",
       "      <td>mean</td>\n",
       "      <td>57.0</td>\n",
       "      <td>NaN</td>\n",
       "      <td>38.500000</td>\n",
       "      <td>31.230769</td>\n",
       "      <td>29.772727</td>\n",
       "      <td>33.055556</td>\n",
       "      <td>26.333333</td>\n",
       "      <td>30.454545</td>\n",
       "      <td>20.600000</td>\n",
       "      <td>21.833333</td>\n",
       "      <td>15.400000</td>\n",
       "    </tr>\n",
       "    <tr>\n",
       "      <th>2</th>\n",
       "      <td>std</td>\n",
       "      <td>NaN</td>\n",
       "      <td>NaN</td>\n",
       "      <td>30.405592</td>\n",
       "      <td>12.691123</td>\n",
       "      <td>16.157457</td>\n",
       "      <td>14.457711</td>\n",
       "      <td>14.922970</td>\n",
       "      <td>16.685120</td>\n",
       "      <td>10.946997</td>\n",
       "      <td>11.899103</td>\n",
       "      <td>10.774119</td>\n",
       "    </tr>\n",
       "    <tr>\n",
       "      <th>3</th>\n",
       "      <td>min</td>\n",
       "      <td>57.0</td>\n",
       "      <td>NaN</td>\n",
       "      <td>17.000000</td>\n",
       "      <td>7.000000</td>\n",
       "      <td>7.000000</td>\n",
       "      <td>7.000000</td>\n",
       "      <td>7.000000</td>\n",
       "      <td>7.000000</td>\n",
       "      <td>7.000000</td>\n",
       "      <td>7.000000</td>\n",
       "      <td>7.000000</td>\n",
       "    </tr>\n",
       "    <tr>\n",
       "      <th>4</th>\n",
       "      <td>25%</td>\n",
       "      <td>57.0</td>\n",
       "      <td>NaN</td>\n",
       "      <td>27.750000</td>\n",
       "      <td>25.000000</td>\n",
       "      <td>15.000000</td>\n",
       "      <td>22.500000</td>\n",
       "      <td>15.000000</td>\n",
       "      <td>15.000000</td>\n",
       "      <td>13.000000</td>\n",
       "      <td>11.000000</td>\n",
       "      <td>9.000000</td>\n",
       "    </tr>\n",
       "    <tr>\n",
       "      <th>5</th>\n",
       "      <td>50%</td>\n",
       "      <td>57.0</td>\n",
       "      <td>NaN</td>\n",
       "      <td>38.500000</td>\n",
       "      <td>28.000000</td>\n",
       "      <td>29.000000</td>\n",
       "      <td>35.000000</td>\n",
       "      <td>21.000000</td>\n",
       "      <td>29.000000</td>\n",
       "      <td>17.000000</td>\n",
       "      <td>19.000000</td>\n",
       "      <td>12.000000</td>\n",
       "    </tr>\n",
       "    <tr>\n",
       "      <th>6</th>\n",
       "      <td>75%</td>\n",
       "      <td>57.0</td>\n",
       "      <td>NaN</td>\n",
       "      <td>49.250000</td>\n",
       "      <td>41.000000</td>\n",
       "      <td>41.500000</td>\n",
       "      <td>41.000000</td>\n",
       "      <td>39.000000</td>\n",
       "      <td>42.000000</td>\n",
       "      <td>27.000000</td>\n",
       "      <td>31.500000</td>\n",
       "      <td>17.000000</td>\n",
       "    </tr>\n",
       "    <tr>\n",
       "      <th>7</th>\n",
       "      <td>max</td>\n",
       "      <td>57.0</td>\n",
       "      <td>NaN</td>\n",
       "      <td>60.000000</td>\n",
       "      <td>59.000000</td>\n",
       "      <td>59.000000</td>\n",
       "      <td>59.000000</td>\n",
       "      <td>63.000000</td>\n",
       "      <td>63.000000</td>\n",
       "      <td>51.000000</td>\n",
       "      <td>49.000000</td>\n",
       "      <td>59.000000</td>\n",
       "    </tr>\n",
       "  </tbody>\n",
       "</table>\n",
       "</div>"
      ],
      "text/plain": [
       "   index  dummy  covarde-1  covarde-2   visao-1a   visao-1b   visao-2a  \\\n",
       "0  count    1.0        0.0   2.000000  26.000000  44.000000  36.000000   \n",
       "1   mean   57.0        NaN  38.500000  31.230769  29.772727  33.055556   \n",
       "2    std    NaN        NaN  30.405592  12.691123  16.157457  14.457711   \n",
       "3    min   57.0        NaN  17.000000   7.000000   7.000000   7.000000   \n",
       "4    25%   57.0        NaN  27.750000  25.000000  15.000000  22.500000   \n",
       "5    50%   57.0        NaN  38.500000  28.000000  29.000000  35.000000   \n",
       "6    75%   57.0        NaN  49.250000  41.000000  41.500000  41.000000   \n",
       "7    max   57.0        NaN  60.000000  59.000000  59.000000  59.000000   \n",
       "\n",
       "    visao-2b   visao-3a   visao-3b   visao-4a   visao-4b  \n",
       "0  48.000000  44.000000  50.000000  48.000000  50.000000  \n",
       "1  26.333333  30.454545  20.600000  21.833333  15.400000  \n",
       "2  14.922970  16.685120  10.946997  11.899103  10.774119  \n",
       "3   7.000000   7.000000   7.000000   7.000000   7.000000  \n",
       "4  15.000000  15.000000  13.000000  11.000000   9.000000  \n",
       "5  21.000000  29.000000  17.000000  19.000000  12.000000  \n",
       "6  39.000000  42.000000  27.000000  31.500000  17.000000  \n",
       "7  63.000000  63.000000  51.000000  49.000000  59.000000  "
      ]
     },
     "execution_count": 84,
     "metadata": {},
     "output_type": "execute_result"
    }
   ],
   "source": [
    "df = pd.DataFrame(values[0].describe()).reset_index()\\\n",
    "    .rename(columns = {\"energy\": agente[0]})\n",
    "\n",
    "for i in range(1,len(values)):\n",
    "    tmp = pd.DataFrame(values[i].describe()).reset_index()\\\n",
    "    .drop(\"index\", axis = 1)\\\n",
    "    .rename(columns = {\"energy\": agente[i]})\n",
    "    \n",
    "    df = pd.concat([df, tmp], axis = 1)\n",
    "\n",
    "df"
   ]
  },
  {
   "cell_type": "code",
   "execution_count": 85,
   "metadata": {},
   "outputs": [],
   "source": [
    "df.to_clipboard(excel=True, decimal = \",\")"
   ]
  },
  {
   "cell_type": "code",
   "execution_count": 49,
   "metadata": {},
   "outputs": [],
   "source": [
    "ag = [agente3_1, agente3_1b, agente3_2, agente3_2b, agente3_3, agente3_3b, agente3_4, agente3_4b]\n",
    "agente_ = ['visao-1a','visao-1b', 'visao-2a', 'visao-2b', \n",
    "           'visao-3a','visao-3b', 'visao-4a', 'visao-4b']"
   ]
  },
  {
   "cell_type": "code",
   "execution_count": 88,
   "metadata": {},
   "outputs": [],
   "source": [
    "df = pd.DataFrame(columns = ['agente', '%fail', '%goal'])\n",
    "\n",
    "for i in range(len(ag)):\n",
    "    lst = list(set(ag[i]['exp'].unique()) - set(list(ag[i][ag[i]['goal']==1]['exp'])))\n",
    "    fail = ag[i][(ag[i]['exp'].isin(lst)) & (ag[i]['next_state'] == 'i_vz')].groupby('exp').count()['env'].mean()\n",
    "    goal = ag[i][(~ag[i]['exp'].isin(lst)) & (ag[i]['next_state'] == 'i_vz')].groupby('exp').count()['env'].mean()\n",
    "    row_df = pd.DataFrame([[agente_[i], fail/energy, goal/energy]], columns = ['agente', '%fail', '%goal'])\n",
    "    df = pd.concat([row_df, df], ignore_index=True)"
   ]
  },
  {
   "cell_type": "code",
   "execution_count": 89,
   "metadata": {},
   "outputs": [],
   "source": [
    "df['dif'] = df['%fail'] - df['%goal']\n",
    "df = df.fillna(0)\n",
    "df[df['%fail'] != 0].to_clipboard(excel=True, decimal = \",\")"
   ]
  },
  {
   "cell_type": "code",
   "execution_count": 82,
   "metadata": {},
   "outputs": [
    {
     "data": {
      "text/plain": [
       "0.4699588694781002"
      ]
     },
     "execution_count": 82,
     "metadata": {},
     "output_type": "execute_result"
    }
   ],
   "source": [
    "df[df['%fail'] != 0]['dif'].mean()"
   ]
  },
  {
   "cell_type": "code",
   "execution_count": 14,
   "metadata": {},
   "outputs": [
    {
     "name": "stdout",
     "output_type": "stream",
     "text": [
      "mente xxx\n",
      "goal:  14.0 fail:  7.244897959183674\n",
      "goal:  16.0 fail:  7.775510204081633\n",
      "goal:  11.0 fail:  7.586956521739131\n",
      "goal:  17.0 fail:  7.760869565217392\n",
      "mente xxx\n",
      "goal:  12.5 fail:  14.0625\n",
      "goal:  8.5 fail:  15.416666666666666\n",
      "goal:  9.5 fail:  17.479166666666668\n",
      "goal:  9.0 fail:  17.958333333333332\n",
      "mente xxx\n",
      "goal:  nan fail:  14.44\n",
      "goal:  nan fail:  14.98\n",
      "goal:  nan fail:  17.94\n",
      "goal:  nan fail:  17.64\n",
      "mente xxx\n",
      "goal:  11.153846153846153 fail:  16.541666666666668\n",
      "goal:  8.961538461538462 fail:  17.333333333333332\n",
      "goal:  6.4 fail:  15.541666666666666\n",
      "goal:  6.458333333333333 fail:  15.583333333333334\n",
      "mente xxx\n",
      "goal:  11.416666666666666 fail:  15.714285714285714\n",
      "goal:  9.61111111111111 fail:  17.5\n",
      "goal:  6.794117647058823 fail:  15.285714285714286\n",
      "goal:  6.8 fail:  16.5\n",
      "mente xxx\n",
      "goal:  10.590909090909092 fail:  19.333333333333332\n",
      "goal:  9.136363636363637 fail:  13.833333333333334\n",
      "goal:  6.15 fail:  18.333333333333332\n",
      "goal:  6.923076923076923 fail:  13.5\n",
      "mente xxx\n",
      "goal:  9.083333333333334 fail:  19.5\n",
      "goal:  6.333333333333333 fail:  15.5\n",
      "goal:  4.9 fail:  16.0\n",
      "goal:  4.0 fail:  14.0\n"
     ]
    }
   ],
   "source": [
    "for m in ag:\n",
    "    lst = list(set(m['exp'].unique()) - set(list(m[m['goal']==1]['exp'])))\n",
    "    print(\"mente xxx\")\n",
    "    for i in range(4):\n",
    "        print('goal: ', m[~(m['exp'].isin(lst)) & (m['next_move'] == i)].groupby(['exp']).count()['env'].mean(),\n",
    "             'fail: ', m[(m['exp'].isin(lst)) & (m['next_move'] == i)].groupby(['exp']).count()['env'].mean())"
   ]
  },
  {
   "cell_type": "code",
   "execution_count": null,
   "metadata": {},
   "outputs": [],
   "source": []
  }
 ],
 "metadata": {
  "kernelspec": {
   "display_name": "Python 3",
   "language": "python",
   "name": "python3"
  },
  "language_info": {
   "codemirror_mode": {
    "name": "ipython",
    "version": 3
   },
   "file_extension": ".py",
   "mimetype": "text/x-python",
   "name": "python",
   "nbconvert_exporter": "python",
   "pygments_lexer": "ipython3",
   "version": "3.8.5"
  }
 },
 "nbformat": 4,
 "nbformat_minor": 4
}
