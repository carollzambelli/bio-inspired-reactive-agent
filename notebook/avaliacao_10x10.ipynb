{
 "cells": [
  {
   "cell_type": "code",
   "execution_count": 1,
   "metadata": {},
   "outputs": [],
   "source": [
    "import matplotlib.pyplot as plt\n",
    "import pandas as pd\n",
    "import numpy as np"
   ]
  },
  {
   "cell_type": "code",
   "execution_count": 2,
   "metadata": {},
   "outputs": [],
   "source": [
    "agente1 = pd.read_csv('../results/10x10/exp_agent1.txt', sep = \";\")\n",
    "agente2_1 = pd.read_csv('../results/10x10/exp_agent2-1.txt', sep = \";\")\n",
    "agente2_2 = pd.read_csv('../results/10x10/exp_agent2-2.txt', sep = \";\")\n",
    "agente3_1 = pd.read_csv('../results/10x10/exp_agent3-1.txt', sep = \";\")\n",
    "agente3_2 = pd.read_csv('../results/10x10/exp_agent3-2.txt', sep = \";\")\n",
    "agente3_3 = pd.read_csv('../results/10x10/exp_agent3-3.txt', sep = \";\")\n",
    "agente3_4 = pd.read_csv('../results/10x10/exp_agent3-4.txt', sep = \";\")\n",
    "agente3_1b = pd.read_csv('../results/10x10/exp_agent3-1b.txt', sep = \";\")\n",
    "agente3_2b = pd.read_csv('../results/10x10/exp_agent3-2b.txt', sep = \";\")\n",
    "agente3_3b = pd.read_csv('../results/10x10/exp_agent3-3b.txt', sep = \";\")\n",
    "agente3_4b = pd.read_csv('../results/10x10/exp_agent3-4b.txt', sep = \";\")"
   ]
  },
  {
   "cell_type": "code",
   "execution_count": 3,
   "metadata": {},
   "outputs": [],
   "source": [
    "agente1['goal'] = np.where(agente1['next_state'] == 'i_gl', 1, 0)\n",
    "agente2_1['goal'] = np.where(agente2_1['next_state'] == 'i_gl', 1, 0)\n",
    "agente2_2['goal'] = np.where(agente2_2['next_state'] == 'i_gl', 1, 0)\n",
    "agente3_1['goal'] = np.where(agente3_1['next_state'] == 'i_gl', 1, 0)\n",
    "agente3_2['goal'] = np.where(agente3_2['next_state'] == 'i_gl', 1, 0)\n",
    "agente3_3['goal'] = np.where(agente3_3['next_state'] == 'i_gl', 1, 0)\n",
    "agente3_4['goal'] = np.where(agente3_4['next_state'] == 'i_gl', 1, 0)\n",
    "agente3_1b['goal'] = np.where(agente3_1b['next_state'] == 'i_gl', 1, 0)\n",
    "agente3_2b['goal'] = np.where(agente3_2b['next_state'] == 'i_gl', 1, 0)\n",
    "agente3_3b['goal'] = np.where(agente3_3b['next_state'] == 'i_gl', 1, 0)\n",
    "agente3_4b['goal'] = np.where(agente3_4b['next_state'] == 'i_gl', 1, 0)"
   ]
  },
  {
   "cell_type": "code",
   "execution_count": 4,
   "metadata": {},
   "outputs": [
    {
     "data": {
      "text/html": [
       "<div>\n",
       "<style scoped>\n",
       "    .dataframe tbody tr th:only-of-type {\n",
       "        vertical-align: middle;\n",
       "    }\n",
       "\n",
       "    .dataframe tbody tr th {\n",
       "        vertical-align: top;\n",
       "    }\n",
       "\n",
       "    .dataframe thead th {\n",
       "        text-align: right;\n",
       "    }\n",
       "</style>\n",
       "<table border=\"1\" class=\"dataframe\">\n",
       "  <thead>\n",
       "    <tr style=\"text-align: right;\">\n",
       "      <th></th>\n",
       "      <th>env</th>\n",
       "      <th>config</th>\n",
       "      <th>exp</th>\n",
       "      <th>energy</th>\n",
       "      <th>current</th>\n",
       "      <th>next_state</th>\n",
       "      <th>next_move</th>\n",
       "      <th>goal</th>\n",
       "    </tr>\n",
       "  </thead>\n",
       "  <tbody>\n",
       "    <tr>\n",
       "      <th>0</th>\n",
       "      <td>10x10</td>\n",
       "      <td>exp_agent2</td>\n",
       "      <td>0</td>\n",
       "      <td>100</td>\n",
       "      <td>i_ini</td>\n",
       "      <td>i_vz</td>\n",
       "      <td>1</td>\n",
       "      <td>0</td>\n",
       "    </tr>\n",
       "    <tr>\n",
       "      <th>0</th>\n",
       "      <td>10x10</td>\n",
       "      <td>exp_agent2</td>\n",
       "      <td>0</td>\n",
       "      <td>99</td>\n",
       "      <td>i_vz</td>\n",
       "      <td>i_ini</td>\n",
       "      <td>3</td>\n",
       "      <td>0</td>\n",
       "    </tr>\n",
       "    <tr>\n",
       "      <th>0</th>\n",
       "      <td>10x10</td>\n",
       "      <td>exp_agent2</td>\n",
       "      <td>0</td>\n",
       "      <td>98</td>\n",
       "      <td>i_ini</td>\n",
       "      <td>i_vz</td>\n",
       "      <td>3</td>\n",
       "      <td>0</td>\n",
       "    </tr>\n",
       "    <tr>\n",
       "      <th>0</th>\n",
       "      <td>10x10</td>\n",
       "      <td>exp_agent2</td>\n",
       "      <td>0</td>\n",
       "      <td>97</td>\n",
       "      <td>i_vz</td>\n",
       "      <td>i_ini</td>\n",
       "      <td>1</td>\n",
       "      <td>0</td>\n",
       "    </tr>\n",
       "    <tr>\n",
       "      <th>0</th>\n",
       "      <td>10x10</td>\n",
       "      <td>exp_agent2</td>\n",
       "      <td>0</td>\n",
       "      <td>96</td>\n",
       "      <td>i_ini</td>\n",
       "      <td>i_vz</td>\n",
       "      <td>2</td>\n",
       "      <td>0</td>\n",
       "    </tr>\n",
       "  </tbody>\n",
       "</table>\n",
       "</div>"
      ],
      "text/plain": [
       "     env      config  exp  energy current next_state  next_move  goal\n",
       "0  10x10  exp_agent2    0     100   i_ini       i_vz          1     0\n",
       "0  10x10  exp_agent2    0      99    i_vz      i_ini          3     0\n",
       "0  10x10  exp_agent2    0      98   i_ini       i_vz          3     0\n",
       "0  10x10  exp_agent2    0      97    i_vz      i_ini          1     0\n",
       "0  10x10  exp_agent2    0      96   i_ini       i_vz          2     0"
      ]
     },
     "execution_count": 4,
     "metadata": {},
     "output_type": "execute_result"
    }
   ],
   "source": [
    "agente2_1.head()"
   ]
  },
  {
   "cell_type": "code",
   "execution_count": 5,
   "metadata": {},
   "outputs": [
    {
     "data": {
      "text/plain": [
       "array(['i_vz', 'i_ini', 'i_s', 'i_b', 'i_bf', 'i_gl', 'i_f'], dtype=object)"
      ]
     },
     "execution_count": 5,
     "metadata": {},
     "output_type": "execute_result"
    }
   ],
   "source": [
    "agente3_4['next_state'].unique()"
   ]
  },
  {
   "cell_type": "code",
   "execution_count": 6,
   "metadata": {},
   "outputs": [],
   "source": [
    "agente = ['dummy', 'covarde-1', 'covarde-2', 'visao-1a',\n",
    "          'visao-1b', 'visao-2a', 'visao-2b', 'visao-3a',\n",
    "          'visao-3b', 'visao-4a', 'visao-4b']"
   ]
  },
  {
   "cell_type": "code",
   "execution_count": 22,
   "metadata": {},
   "outputs": [
    {
     "data": {
      "image/png": "[encoded data removed]",
      "text/plain": [
       "<Figure size 1080x576 with 1 Axes>"
      ]
     },
     "metadata": {
      "needs_background": "light"
     },
     "output_type": "display_data"
    }
   ],
   "source": [
    "fig = plt.figure(figsize = (15, 8))\n",
    "\n",
    "values = [\n",
    "    round(agente1['goal'].sum()/50, 3),\n",
    "    round(agente2_1['goal'].sum()/50, 3),\n",
    "    round(agente2_2['goal'].sum()/50, 3),\n",
    "    round(agente3_1['goal'].sum()/50, 3),\n",
    "    round(agente3_1b['goal'].sum()/50, 3),\n",
    "    round(agente3_2['goal'].sum()/50, 3),\n",
    "    round(agente3_2b['goal'].sum()/50, 3),\n",
    "    round(agente3_3['goal'].sum()/50, 3),\n",
    "    round(agente3_3b['goal'].sum()/50, 3),\n",
    "    round(agente3_4['goal'].sum()/50, 3),\n",
    "    round(agente3_4b['goal'].sum()/50, 3)\n",
    "]\n",
    "\n",
    "# creating the bar plot\n",
    "plt.bar(agente,values, color ='maroon',width = 0.4)\n",
    " \n",
    "#plt.xlabel(\"Label agente\")\n",
    "plt.ylabel(\"Percentual de finalizações\")\n",
    "plt.title(\"Comparação de desempenho ambiente 10x10 \")\n",
    "\n",
    "n = range(len(values))\n",
    "for i in range(len(values)):\n",
    "    plt.annotate(str(values[i]*100) + '%', xy=(n[i],values[i]), ha='center', va='bottom')\n",
    "\n",
    "plt.show()"
   ]
  },
  {
   "cell_type": "code",
   "execution_count": 23,
   "metadata": {},
   "outputs": [],
   "source": [
    "energy = 100\n",
    "values = [\n",
    "    (energy-agente1[agente1['goal']==1]['energy']),\n",
    "    (energy-agente2_1[agente2_1['goal']==1]['energy']),\n",
    "    (energy-agente2_2[agente2_2['goal']==1]['energy']),\n",
    "    (energy-agente3_1[agente3_1['goal']==1]['energy']),\n",
    "    (energy-agente3_1b[agente3_1b['goal']==1]['energy']),\n",
    "    (energy-agente3_2[agente3_2['goal']==1]['energy']),\n",
    "    (energy-agente3_2b[agente3_2b['goal']==1]['energy']),\n",
    "    (energy-agente3_3[agente3_3['goal']==1]['energy']),\n",
    "    (energy-agente3_3b[agente3_3b['goal']==1]['energy']),\n",
    "    (energy-agente3_4[agente3_4['goal']==1]['energy']),\n",
    "    (energy-agente3_4b[agente3_4b['goal']==1]['energy'])\n",
    "]"
   ]
  },
  {
   "cell_type": "code",
   "execution_count": 24,
   "metadata": {},
   "outputs": [
    {
     "data": {
      "text/html": [
       "<div>\n",
       "<style scoped>\n",
       "    .dataframe tbody tr th:only-of-type {\n",
       "        vertical-align: middle;\n",
       "    }\n",
       "\n",
       "    .dataframe tbody tr th {\n",
       "        vertical-align: top;\n",
       "    }\n",
       "\n",
       "    .dataframe thead th {\n",
       "        text-align: right;\n",
       "    }\n",
       "</style>\n",
       "<table border=\"1\" class=\"dataframe\">\n",
       "  <thead>\n",
       "    <tr style=\"text-align: right;\">\n",
       "      <th></th>\n",
       "      <th>index</th>\n",
       "      <th>dummy</th>\n",
       "      <th>covarde-1</th>\n",
       "      <th>covarde-2</th>\n",
       "      <th>visao-1a</th>\n",
       "      <th>visao-1b</th>\n",
       "      <th>visao-2a</th>\n",
       "      <th>visao-2b</th>\n",
       "      <th>visao-3a</th>\n",
       "      <th>visao-3b</th>\n",
       "      <th>visao-4a</th>\n",
       "      <th>visao-4b</th>\n",
       "    </tr>\n",
       "  </thead>\n",
       "  <tbody>\n",
       "    <tr>\n",
       "      <th>0</th>\n",
       "      <td>count</td>\n",
       "      <td>1.0</td>\n",
       "      <td>2.000000</td>\n",
       "      <td>4.000000</td>\n",
       "      <td>39.000000</td>\n",
       "      <td>40.000000</td>\n",
       "      <td>47.00000</td>\n",
       "      <td>46.000000</td>\n",
       "      <td>46.000000</td>\n",
       "      <td>49.000000</td>\n",
       "      <td>42.000000</td>\n",
       "      <td>50.00000</td>\n",
       "    </tr>\n",
       "    <tr>\n",
       "      <th>1</th>\n",
       "      <td>mean</td>\n",
       "      <td>52.0</td>\n",
       "      <td>68.000000</td>\n",
       "      <td>54.000000</td>\n",
       "      <td>45.358974</td>\n",
       "      <td>42.850000</td>\n",
       "      <td>39.93617</td>\n",
       "      <td>46.130435</td>\n",
       "      <td>33.521739</td>\n",
       "      <td>30.061224</td>\n",
       "      <td>38.761905</td>\n",
       "      <td>29.52000</td>\n",
       "    </tr>\n",
       "    <tr>\n",
       "      <th>2</th>\n",
       "      <td>std</td>\n",
       "      <td>NaN</td>\n",
       "      <td>12.727922</td>\n",
       "      <td>15.705625</td>\n",
       "      <td>20.067632</td>\n",
       "      <td>23.470167</td>\n",
       "      <td>20.49327</td>\n",
       "      <td>22.645685</td>\n",
       "      <td>20.541275</td>\n",
       "      <td>18.570146</td>\n",
       "      <td>18.595580</td>\n",
       "      <td>17.74104</td>\n",
       "    </tr>\n",
       "    <tr>\n",
       "      <th>3</th>\n",
       "      <td>min</td>\n",
       "      <td>52.0</td>\n",
       "      <td>59.000000</td>\n",
       "      <td>41.000000</td>\n",
       "      <td>11.000000</td>\n",
       "      <td>9.000000</td>\n",
       "      <td>9.00000</td>\n",
       "      <td>9.000000</td>\n",
       "      <td>9.000000</td>\n",
       "      <td>9.000000</td>\n",
       "      <td>13.000000</td>\n",
       "      <td>9.00000</td>\n",
       "    </tr>\n",
       "    <tr>\n",
       "      <th>4</th>\n",
       "      <td>25%</td>\n",
       "      <td>52.0</td>\n",
       "      <td>63.500000</td>\n",
       "      <td>42.500000</td>\n",
       "      <td>29.000000</td>\n",
       "      <td>25.000000</td>\n",
       "      <td>23.00000</td>\n",
       "      <td>27.000000</td>\n",
       "      <td>18.000000</td>\n",
       "      <td>15.000000</td>\n",
       "      <td>25.000000</td>\n",
       "      <td>17.00000</td>\n",
       "    </tr>\n",
       "    <tr>\n",
       "      <th>5</th>\n",
       "      <td>50%</td>\n",
       "      <td>52.0</td>\n",
       "      <td>68.000000</td>\n",
       "      <td>50.000000</td>\n",
       "      <td>41.000000</td>\n",
       "      <td>38.000000</td>\n",
       "      <td>35.00000</td>\n",
       "      <td>46.000000</td>\n",
       "      <td>27.000000</td>\n",
       "      <td>27.000000</td>\n",
       "      <td>33.000000</td>\n",
       "      <td>27.00000</td>\n",
       "    </tr>\n",
       "    <tr>\n",
       "      <th>6</th>\n",
       "      <td>75%</td>\n",
       "      <td>52.0</td>\n",
       "      <td>72.500000</td>\n",
       "      <td>61.500000</td>\n",
       "      <td>63.000000</td>\n",
       "      <td>60.000000</td>\n",
       "      <td>59.00000</td>\n",
       "      <td>60.000000</td>\n",
       "      <td>42.500000</td>\n",
       "      <td>37.000000</td>\n",
       "      <td>50.500000</td>\n",
       "      <td>36.50000</td>\n",
       "    </tr>\n",
       "    <tr>\n",
       "      <th>7</th>\n",
       "      <td>max</td>\n",
       "      <td>52.0</td>\n",
       "      <td>77.000000</td>\n",
       "      <td>75.000000</td>\n",
       "      <td>91.000000</td>\n",
       "      <td>99.000000</td>\n",
       "      <td>85.00000</td>\n",
       "      <td>93.000000</td>\n",
       "      <td>93.000000</td>\n",
       "      <td>77.000000</td>\n",
       "      <td>97.000000</td>\n",
       "      <td>77.00000</td>\n",
       "    </tr>\n",
       "  </tbody>\n",
       "</table>\n",
       "</div>"
      ],
      "text/plain": [
       "   index  dummy  covarde-1  covarde-2   visao-1a   visao-1b  visao-2a  \\\n",
       "0  count    1.0   2.000000   4.000000  39.000000  40.000000  47.00000   \n",
       "1   mean   52.0  68.000000  54.000000  45.358974  42.850000  39.93617   \n",
       "2    std    NaN  12.727922  15.705625  20.067632  23.470167  20.49327   \n",
       "3    min   52.0  59.000000  41.000000  11.000000   9.000000   9.00000   \n",
       "4    25%   52.0  63.500000  42.500000  29.000000  25.000000  23.00000   \n",
       "5    50%   52.0  68.000000  50.000000  41.000000  38.000000  35.00000   \n",
       "6    75%   52.0  72.500000  61.500000  63.000000  60.000000  59.00000   \n",
       "7    max   52.0  77.000000  75.000000  91.000000  99.000000  85.00000   \n",
       "\n",
       "    visao-2b   visao-3a   visao-3b   visao-4a  visao-4b  \n",
       "0  46.000000  46.000000  49.000000  42.000000  50.00000  \n",
       "1  46.130435  33.521739  30.061224  38.761905  29.52000  \n",
       "2  22.645685  20.541275  18.570146  18.595580  17.74104  \n",
       "3   9.000000   9.000000   9.000000  13.000000   9.00000  \n",
       "4  27.000000  18.000000  15.000000  25.000000  17.00000  \n",
       "5  46.000000  27.000000  27.000000  33.000000  27.00000  \n",
       "6  60.000000  42.500000  37.000000  50.500000  36.50000  \n",
       "7  93.000000  93.000000  77.000000  97.000000  77.00000  "
      ]
     },
     "execution_count": 24,
     "metadata": {},
     "output_type": "execute_result"
    }
   ],
   "source": [
    "df = pd.DataFrame(values[0].describe()).reset_index()\\\n",
    "    .rename(columns = {\"energy\": agente[0]})\n",
    "\n",
    "for i in range(1,len(values)):\n",
    "    tmp = pd.DataFrame(values[i].describe()).reset_index()\\\n",
    "    .drop(\"index\", axis = 1)\\\n",
    "    .rename(columns = {\"energy\": agente[i]})\n",
    "    \n",
    "    df = pd.concat([df, tmp], axis = 1)\n",
    "\n",
    "df"
   ]
  },
  {
   "cell_type": "code",
   "execution_count": 25,
   "metadata": {},
   "outputs": [],
   "source": [
    "df.to_clipboard(excel=True, decimal = \",\")"
   ]
  },
  {
   "cell_type": "code",
   "execution_count": 14,
   "metadata": {},
   "outputs": [],
   "source": [
    "ag = [agente3_1, agente3_1b, agente3_2, agente3_2b, agente3_3, agente3_3b, agente3_4, agente3_4b]\n",
    "agente_ = ['visao-1a','visao-1b', 'visao-2a', 'visao-2b', \n",
    "           'visao-3a','visao-3b', 'visao-4a', 'visao-4b']"
   ]
  },
  {
   "cell_type": "code",
   "execution_count": 19,
   "metadata": {},
   "outputs": [],
   "source": [
    "df = pd.DataFrame(columns = ['agente', '%fail', '%goal'])\n",
    "\n",
    "for i in range(len(ag)):\n",
    "    lst = list(set(ag[i]['exp'].unique()) - set(list(ag[i][ag[i]['goal']==1]['exp'])))\n",
    "    fail = ag[i][(ag[i]['exp'].isin(lst)) & (ag[i]['next_state'] == 'i_vz')].groupby('exp').count()['env'].mean()\n",
    "    goal = ag[i][(~ag[i]['exp'].isin(lst)) & (ag[i]['next_state'] == 'i_vz')].groupby('exp').count()['env'].mean()\n",
    "    row_df = pd.DataFrame([[agente_[i], fail/energy, goal/energy]], columns = ['agente', '%fail', '%goal'])\n",
    "    df = pd.concat([row_df, df], ignore_index=True)"
   ]
  },
  {
   "cell_type": "code",
   "execution_count": 20,
   "metadata": {},
   "outputs": [],
   "source": [
    "df['dif'] = df['%fail'] - df['%goal']\n",
    "df = df.fillna(0)\n",
    "df[df['%fail'] != 0].to_clipboard(excel=True, decimal = \",\")"
   ]
  },
  {
   "cell_type": "code",
   "execution_count": 21,
   "metadata": {},
   "outputs": [
    {
     "data": {
      "text/plain": [
       "0.4754433952053597"
      ]
     },
     "execution_count": 21,
     "metadata": {},
     "output_type": "execute_result"
    }
   ],
   "source": [
    "df[df['%fail'] != 0]['dif'].mean()"
   ]
  }
 ],
 "metadata": {
  "kernelspec": {
   "display_name": "Python 3",
   "language": "python",
   "name": "python3"
  },
  "language_info": {
   "codemirror_mode": {
    "name": "ipython",
    "version": 3
   },
   "file_extension": ".py",
   "mimetype": "text/x-python",
   "name": "python",
   "nbconvert_exporter": "python",
   "pygments_lexer": "ipython3",
   "version": "3.8.5"
  }
 },
 "nbformat": 4,
 "nbformat_minor": 4
}
