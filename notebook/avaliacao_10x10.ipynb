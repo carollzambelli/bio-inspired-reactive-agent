{
 "cells": [
  {
   "cell_type": "code",
   "execution_count": 1,
   "metadata": {},
   "outputs": [],
   "source": [
    "import matplotlib.pyplot as plt\n",
    "import pandas as pd\n",
    "import numpy as np"
   ]
  },
  {
   "cell_type": "code",
   "execution_count": 2,
   "metadata": {},
   "outputs": [],
   "source": [
    "mente1 = pd.read_csv('../results/exp_sensor1_2021-08-12.txt', sep = \";\")\n",
    "mente2 = pd.read_csv('../results/exp_sensor2_2021-08-12.txt', sep = \";\")\n",
    "mente3 = pd.read_csv('../results/exp_sensor3_2021-08-12.txt', sep = \";\")\n",
    "mente4 = pd.read_csv('../results/exp_sensor4_2021-08-12.txt', sep = \";\")\n",
    "mente5 = pd.read_csv('../results/exp_sensor5_2021-08-12.txt', sep = \";\")"
   ]
  },
  {
   "cell_type": "code",
   "execution_count": 3,
   "metadata": {},
   "outputs": [],
   "source": [
    "mente1['goal'] = np.where(mente1['next_state'] == 'i_gl', 1, 0)\n",
    "mente2['goal'] = np.where(mente2['next_state'] == 'i_gl', 1, 0)\n",
    "mente3['goal'] = np.where(mente3['next_state'] == 'i_gl', 1, 0)\n",
    "mente4['goal'] = np.where(mente4['next_state'] == 'i_gl', 1, 0)\n",
    "mente5['goal'] = np.where(mente5['next_state'] == 'i_gl', 1, 0)"
   ]
  },
  {
   "cell_type": "code",
   "execution_count": 4,
   "metadata": {},
   "outputs": [
    {
     "data": {
      "text/html": [
       "<div>\n",
       "<style scoped>\n",
       "    .dataframe tbody tr th:only-of-type {\n",
       "        vertical-align: middle;\n",
       "    }\n",
       "\n",
       "    .dataframe tbody tr th {\n",
       "        vertical-align: top;\n",
       "    }\n",
       "\n",
       "    .dataframe thead th {\n",
       "        text-align: right;\n",
       "    }\n",
       "</style>\n",
       "<table border=\"1\" class=\"dataframe\">\n",
       "  <thead>\n",
       "    <tr style=\"text-align: right;\">\n",
       "      <th></th>\n",
       "      <th>env</th>\n",
       "      <th>config</th>\n",
       "      <th>exp</th>\n",
       "      <th>energy</th>\n",
       "      <th>current</th>\n",
       "      <th>next_state</th>\n",
       "      <th>next_move</th>\n",
       "      <th>goal</th>\n",
       "    </tr>\n",
       "  </thead>\n",
       "  <tbody>\n",
       "    <tr>\n",
       "      <th>0</th>\n",
       "      <td>10x10</td>\n",
       "      <td>exp_sensor1</td>\n",
       "      <td>0</td>\n",
       "      <td>100</td>\n",
       "      <td>i_ini</td>\n",
       "      <td>i_vz</td>\n",
       "      <td>1</td>\n",
       "      <td>0</td>\n",
       "    </tr>\n",
       "    <tr>\n",
       "      <th>1</th>\n",
       "      <td>10x10</td>\n",
       "      <td>exp_sensor1</td>\n",
       "      <td>0</td>\n",
       "      <td>99</td>\n",
       "      <td>i_vz</td>\n",
       "      <td>i_vz</td>\n",
       "      <td>1</td>\n",
       "      <td>0</td>\n",
       "    </tr>\n",
       "    <tr>\n",
       "      <th>2</th>\n",
       "      <td>10x10</td>\n",
       "      <td>exp_sensor1</td>\n",
       "      <td>0</td>\n",
       "      <td>98</td>\n",
       "      <td>i_vz</td>\n",
       "      <td>i_vz</td>\n",
       "      <td>1</td>\n",
       "      <td>0</td>\n",
       "    </tr>\n",
       "    <tr>\n",
       "      <th>3</th>\n",
       "      <td>10x10</td>\n",
       "      <td>exp_sensor1</td>\n",
       "      <td>0</td>\n",
       "      <td>97</td>\n",
       "      <td>i_vz</td>\n",
       "      <td>i_b</td>\n",
       "      <td>2</td>\n",
       "      <td>0</td>\n",
       "    </tr>\n",
       "    <tr>\n",
       "      <th>4</th>\n",
       "      <td>10x10</td>\n",
       "      <td>exp_sensor1</td>\n",
       "      <td>0</td>\n",
       "      <td>96</td>\n",
       "      <td>i_b</td>\n",
       "      <td>i_vz</td>\n",
       "      <td>2</td>\n",
       "      <td>0</td>\n",
       "    </tr>\n",
       "  </tbody>\n",
       "</table>\n",
       "</div>"
      ],
      "text/plain": [
       "     env       config  exp  energy current next_state  next_move  goal\n",
       "0  10x10  exp_sensor1    0     100   i_ini       i_vz          1     0\n",
       "1  10x10  exp_sensor1    0      99    i_vz       i_vz          1     0\n",
       "2  10x10  exp_sensor1    0      98    i_vz       i_vz          1     0\n",
       "3  10x10  exp_sensor1    0      97    i_vz        i_b          2     0\n",
       "4  10x10  exp_sensor1    0      96     i_b       i_vz          2     0"
      ]
     },
     "execution_count": 4,
     "metadata": {},
     "output_type": "execute_result"
    }
   ],
   "source": [
    "mente1.head()"
   ]
  },
  {
   "cell_type": "code",
   "execution_count": 5,
   "metadata": {},
   "outputs": [
    {
     "data": {
      "image/png": "[encoded data removed]",
      "text/plain": [
       "<Figure size 720x360 with 1 Axes>"
      ]
     },
     "metadata": {
      "needs_background": "light"
     },
     "output_type": "display_data"
    }
   ],
   "source": [
    "fig = plt.figure(figsize = (10, 5))\n",
    "\n",
    "values = [\n",
    "    round(mente1['goal'].sum()/50, 1),\n",
    "    round(mente2['goal'].sum()/50, 1),\n",
    "    round(mente3['goal'].sum()/50, 1),\n",
    "    round(mente4['goal'].sum()/50, 1),\n",
    "    round(mente5['goal'].sum()/50, 1)\n",
    "]\n",
    " \n",
    "# creating the bar plot\n",
    "plt.bar(\n",
    "    ['m1', 'm2', 'm3', 'm4', 'm5'],\n",
    "    values, color ='maroon',width = 0.4)\n",
    " \n",
    "plt.xlabel(\"Mentes\")\n",
    "plt.ylabel(\"Percentual de finalizações\")\n",
    "plt.title(\"Comparação de desempenho\")\n",
    "plt.show()"
   ]
  },
  {
   "cell_type": "code",
   "execution_count": 9,
   "metadata": {},
   "outputs": [],
   "source": [
    "energy = 100"
   ]
  },
  {
   "cell_type": "code",
   "execution_count": 10,
   "metadata": {},
   "outputs": [
    {
     "data": {
      "image/png": "[encoded data removed]",
      "text/plain": [
       "<Figure size 720x360 with 1 Axes>"
      ]
     },
     "metadata": {
      "needs_background": "light"
     },
     "output_type": "display_data"
    }
   ],
   "source": [
    "fig = plt.figure(figsize = (10, 5))\n",
    "\n",
    "values = [\n",
    "    (energy-mente1[mente1['goal']==1]['energy'].median()),\n",
    "    (energy-mente2[mente2['goal']==1]['energy'].median()),\n",
    "    (energy-mente3[mente3['goal']==1]['energy'].median()),\n",
    "    (energy-mente4[mente4['goal']==1]['energy'].median()),\n",
    "    (energy-mente5[mente5['goal']==1]['energy'].median())\n",
    "]\n",
    " \n",
    "# creating the bar plot\n",
    "plt.bar(\n",
    "    ['m1', 'm2', 'm3', 'm4', 'm5'],\n",
    "    values, color ='maroon',width = 0.4)\n",
    " \n",
    "plt.xlabel(\"Mentes\")\n",
    "plt.ylabel(\"Número de passos\")\n",
    "plt.title(\"Comparação dos tempos medianos de finalização\")\n",
    "plt.show()"
   ]
  },
  {
   "cell_type": "code",
   "execution_count": 11,
   "metadata": {},
   "outputs": [
    {
     "data": {
      "image/png": "[encoded data removed]",
      "text/plain": [
       "<Figure size 720x360 with 1 Axes>"
      ]
     },
     "metadata": {
      "needs_background": "light"
     },
     "output_type": "display_data"
    }
   ],
   "source": [
    "fig = plt.figure(figsize = (10, 5))\n",
    "\n",
    "values = [\n",
    "    (energy-mente1[mente1['goal']==1]['energy']).mean(),\n",
    "    (energy-mente2[mente2['goal']==1]['energy']).mean(),\n",
    "    (energy-mente3[mente3['goal']==1]['energy']).mean(),\n",
    "    (energy-mente4[mente4['goal']==1]['energy']).mean(),\n",
    "    (energy-mente5[mente5['goal']==1]['energy']).mean()\n",
    "]\n",
    " \n",
    "# creating the bar plot\n",
    "plt.bar(\n",
    "    ['m1', 'm2', 'm3', 'm4', 'm5'],\n",
    "    values, color ='maroon',width = 0.4)\n",
    " \n",
    "plt.xlabel(\"Mentes\")\n",
    "plt.ylabel(\"Número de passos\")\n",
    "plt.title(\"Comparação dos tempos médios de finalização\")\n",
    "plt.show()"
   ]
  },
  {
   "cell_type": "code",
   "execution_count": 12,
   "metadata": {},
   "outputs": [
    {
     "data": {
      "image/png": "[encoded data removed]",
      "text/plain": [
       "<Figure size 720x360 with 1 Axes>"
      ]
     },
     "metadata": {
      "needs_background": "light"
     },
     "output_type": "display_data"
    }
   ],
   "source": [
    "fig = plt.figure(figsize = (10, 5))\n",
    "\n",
    "values = [\n",
    "    (energy-mente1[mente1['goal']==1]['energy']).min(),\n",
    "    (energy-mente2[mente2['goal']==1]['energy']).min(),\n",
    "    (energy-mente3[mente3['goal']==1]['energy']).min(),\n",
    "    (energy-mente4[mente4['goal']==1]['energy']).min(),\n",
    "    (energy-mente5[mente5['goal']==1]['energy']).min()\n",
    "]\n",
    " \n",
    "# creating the bar plot\n",
    "plt.bar(\n",
    "    ['m1', 'm2', 'm3', 'm4', 'm5'],\n",
    "    values, color ='maroon',width = 0.4)\n",
    " \n",
    "plt.xlabel(\"Mentes\")\n",
    "plt.ylabel(\"Número de passos\")\n",
    "plt.title(\"Comparação dos tempos mínimos de finalização\")\n",
    "plt.show()"
   ]
  },
  {
   "cell_type": "code",
   "execution_count": 13,
   "metadata": {},
   "outputs": [
    {
     "data": {
      "image/png": "[encoded data removed]",
      "text/plain": [
       "<Figure size 720x360 with 1 Axes>"
      ]
     },
     "metadata": {
      "needs_background": "light"
     },
     "output_type": "display_data"
    }
   ],
   "source": [
    "fig = plt.figure(figsize = (10, 5))\n",
    "\n",
    "values = [\n",
    "    (energy-mente1[mente1['goal']==1]['energy']).max(),\n",
    "    (energy-mente2[mente2['goal']==1]['energy']).max(),\n",
    "    (energy-mente3[mente3['goal']==1]['energy']).max(),\n",
    "    (energy-mente4[mente4['goal']==1]['energy']).max(),\n",
    "    (energy-mente5[mente5['goal']==1]['energy']).max()\n",
    "]\n",
    " \n",
    "# creating the bar plot\n",
    "plt.bar(\n",
    "    ['m1', 'm2', 'm3', 'm4', 'm5'],\n",
    "    values, color ='maroon',width = 0.4)\n",
    " \n",
    "plt.xlabel(\"Mentes\")\n",
    "plt.ylabel(\"Número de passos\")\n",
    "plt.title(\"Comparação dos tempos máximos de finalização\")\n",
    "plt.show()"
   ]
  }
 ],
 "metadata": {
  "kernelspec": {
   "display_name": "Python 3",
   "language": "python",
   "name": "python3"
  },
  "language_info": {
   "codemirror_mode": {
    "name": "ipython",
    "version": 3
   },
   "file_extension": ".py",
   "mimetype": "text/x-python",
   "name": "python",
   "nbconvert_exporter": "python",
   "pygments_lexer": "ipython3",
   "version": "3.8.5"
  }
 },
 "nbformat": 4,
 "nbformat_minor": 4
}
